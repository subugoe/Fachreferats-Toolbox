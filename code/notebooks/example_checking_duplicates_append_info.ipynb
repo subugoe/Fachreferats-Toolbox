{
 "metadata": {
  "language_info": {
   "codemirror_mode": {
    "name": "ipython",
    "version": 3
   },
   "file_extension": ".py",
   "mimetype": "text/x-python",
   "name": "python",
   "nbconvert_exporter": "python",
   "pygments_lexer": "ipython3",
   "version": "3.7.6"
  },
  "orig_nbformat": 2,
  "kernelspec": {
   "name": "python376jvsc74a57bd0960f4d658457e0296618a96ff118bd2cbd6b6fed4373572a098ed4ec5a9be4c3",
   "display_name": "Python 3.7.6 64-bit ('base': conda)"
  }
 },
 "nbformat": 4,
 "nbformat_minor": 2,
 "cells": [
  {
   "source": [
    "# Explanation\n",
    "\n",
    "This is a Jupyter Notebook to explain the function \"check_duplicates.py\". To use a specific user case, we assume that a person wants to donate some books to the library. We have provided the doner with a Excel template with a series of columns already defined. The person sends us this table filled. This can be found in `Fachreferats-Toolbox/data/dummy_data/Beispiel_Geschenke.xlsx`.\n",
    "\n",
    "\n",
    "To run this, you can download the repository and run this Jupyter Notebook. However, your computer should have Python and specific Python libraries installed (for example lxml)."
   ],
   "cell_type": "markdown",
   "metadata": {}
  },
  {
   "source": [
    "# Import"
   ],
   "cell_type": "markdown",
   "metadata": {}
  },
  {
   "source": [
    "## Libraries and Functions"
   ],
   "cell_type": "markdown",
   "metadata": {}
  },
  {
   "cell_type": "code",
   "execution_count": 1,
   "metadata": {},
   "outputs": [],
   "source": [
    "import sys\n",
    "import os\n",
    "import glob\n",
    "from lxml import etree\n",
    "import pandas as pd\n",
    "import numpy as np\n"
   ]
  },
  {
   "cell_type": "code",
   "execution_count": 2,
   "metadata": {},
   "outputs": [],
   "source": [
    "#sys.path.append(os.path.abspath(\"./../../../../Dropbox/MTB/Göttingen/research/\"))\n",
    "sys.path.append(os.path.abspath(\"./../\"))"
   ]
  },
  {
   "cell_type": "code",
   "execution_count": 3,
   "metadata": {},
   "outputs": [],
   "source": [
    "from fachreferats_functions import check_duplicates, extract_data\n",
    "\n"
   ]
  },
  {
   "source": [
    "## Data"
   ],
   "cell_type": "markdown",
   "metadata": {}
  },
  {
   "cell_type": "code",
   "execution_count": 4,
   "metadata": {},
   "outputs": [],
   "source": [
    "books_donated = pd.read_excel(\"./../../data/input/Anfragen_Geschenk_Muster_Spendende_Beispiele.xlsx\")"
   ]
  },
  {
   "cell_type": "code",
   "execution_count": 5,
   "metadata": {},
   "outputs": [],
   "source": [
    "books_donated[\"ISBN\"] = books_donated[\"ISBN\"].fillna(0).astype('Int64').astype(str)\n"
   ]
  },
  {
   "cell_type": "code",
   "execution_count": 6,
   "metadata": {},
   "outputs": [],
   "source": [
    "books_donated[\"Nachname_Autor\"].fillna(\"\", inplace=True)"
   ]
  },
  {
   "cell_type": "code",
   "execution_count": 7,
   "metadata": {},
   "outputs": [
    {
     "output_type": "execute_result",
     "data": {
      "text/plain": [
       "                            Titel           ISBN Vorname_Autor Nachname_Autor  \\\n",
       "0      The picture of Dorian Gray  9780140623222           NaN                  \n",
       "1                    Gustav Klimt  9781402759208           NaN                  \n",
       "2    La familia de Pascual Duarte  9788423339044           NaN                  \n",
       "3             Auf der Eidechsburg              0     Ilse-Dore         Tanner   \n",
       "4            Bayerisches Kochbuch              0         Maria        Hofmann   \n",
       "5  Centenaire de l‘Impressionisme              0           NaN                  \n",
       "6           Les parents terribles              0          Jean        Cocteau   \n",
       "7      Straightforward Statistics              0      James D.          Evans   \n",
       "\n",
       "  Erscheinungsort            Verlag Erscheinungsjahr  \n",
       "0             NaN               NaN              NaN  \n",
       "1             NaN               NaN              NaN  \n",
       "2             NaN               NaN              NaN  \n",
       "3         Leipzig       A. H. Payne            1938?  \n",
       "4         München            Birken             1950  \n",
       "5           Paris  Musées nationaux             1974  \n",
       "6           Paris         Gallimard             1938  \n",
       "7   Pacific Grove       Brooks/Cole             1996  "
      ],
      "text/html": "<div>\n<style scoped>\n    .dataframe tbody tr th:only-of-type {\n        vertical-align: middle;\n    }\n\n    .dataframe tbody tr th {\n        vertical-align: top;\n    }\n\n    .dataframe thead th {\n        text-align: right;\n    }\n</style>\n<table border=\"1\" class=\"dataframe\">\n  <thead>\n    <tr style=\"text-align: right;\">\n      <th></th>\n      <th>Titel</th>\n      <th>ISBN</th>\n      <th>Vorname_Autor</th>\n      <th>Nachname_Autor</th>\n      <th>Erscheinungsort</th>\n      <th>Verlag</th>\n      <th>Erscheinungsjahr</th>\n    </tr>\n  </thead>\n  <tbody>\n    <tr>\n      <th>0</th>\n      <td>The picture of Dorian Gray</td>\n      <td>9780140623222</td>\n      <td>NaN</td>\n      <td></td>\n      <td>NaN</td>\n      <td>NaN</td>\n      <td>NaN</td>\n    </tr>\n    <tr>\n      <th>1</th>\n      <td>Gustav Klimt</td>\n      <td>9781402759208</td>\n      <td>NaN</td>\n      <td></td>\n      <td>NaN</td>\n      <td>NaN</td>\n      <td>NaN</td>\n    </tr>\n    <tr>\n      <th>2</th>\n      <td>La familia de Pascual Duarte</td>\n      <td>9788423339044</td>\n      <td>NaN</td>\n      <td></td>\n      <td>NaN</td>\n      <td>NaN</td>\n      <td>NaN</td>\n    </tr>\n    <tr>\n      <th>3</th>\n      <td>Auf der Eidechsburg</td>\n      <td>0</td>\n      <td>Ilse-Dore</td>\n      <td>Tanner</td>\n      <td>Leipzig</td>\n      <td>A. H. Payne</td>\n      <td>1938?</td>\n    </tr>\n    <tr>\n      <th>4</th>\n      <td>Bayerisches Kochbuch</td>\n      <td>0</td>\n      <td>Maria</td>\n      <td>Hofmann</td>\n      <td>München</td>\n      <td>Birken</td>\n      <td>1950</td>\n    </tr>\n    <tr>\n      <th>5</th>\n      <td>Centenaire de l‘Impressionisme</td>\n      <td>0</td>\n      <td>NaN</td>\n      <td></td>\n      <td>Paris</td>\n      <td>Musées nationaux</td>\n      <td>1974</td>\n    </tr>\n    <tr>\n      <th>6</th>\n      <td>Les parents terribles</td>\n      <td>0</td>\n      <td>Jean</td>\n      <td>Cocteau</td>\n      <td>Paris</td>\n      <td>Gallimard</td>\n      <td>1938</td>\n    </tr>\n    <tr>\n      <th>7</th>\n      <td>Straightforward Statistics</td>\n      <td>0</td>\n      <td>James D.</td>\n      <td>Evans</td>\n      <td>Pacific Grove</td>\n      <td>Brooks/Cole</td>\n      <td>1996</td>\n    </tr>\n  </tbody>\n</table>\n</div>"
     },
     "metadata": {},
     "execution_count": 7
    }
   ],
   "source": [
    "books_donated"
   ]
  },
  {
   "source": [
    "# Extract Data"
   ],
   "cell_type": "markdown",
   "metadata": {}
  },
  {
   "cell_type": "code",
   "execution_count": 8,
   "metadata": {},
   "outputs": [],
   "source": [
    "books_donated = extract_data.extract_fields_with_isbn( books_donated)"
   ]
  },
  {
   "cell_type": "code",
   "execution_count": 9,
   "metadata": {},
   "outputs": [
    {
     "output_type": "execute_result",
     "data": {
      "text/plain": [
       "                            Titel           ISBN Vorname_Autor Nachname_Autor  \\\n",
       "0      The picture of Dorian Gray  9780140623222         Oscar          Wilde   \n",
       "1                    Gustav Klimt  9781402759208           NaN                  \n",
       "2    La familia de Pascual Duarte  9788423339044   Camilo José           Cela   \n",
       "3             Auf der Eidechsburg              0     Ilse-Dore         Tanner   \n",
       "4            Bayerisches Kochbuch              0         Maria        Hofmann   \n",
       "5  Centenaire de l‘Impressionisme              0           NaN                  \n",
       "6           Les parents terribles              0          Jean        Cocteau   \n",
       "7      Straightforward Statistics              0      James D.          Evans   \n",
       "\n",
       "   Erscheinungsort            Verlag Erscheinungsjahr  \\\n",
       "0           London     Penguin Books             1994   \n",
       "1  New York [u.a.]          Sterling             2008   \n",
       "2        Barcelona       Ed. Destino             2009   \n",
       "3          Leipzig       A. H. Payne            1938?   \n",
       "4          München            Birken             1950   \n",
       "5            Paris  Musées nationaux             1974   \n",
       "6            Paris         Gallimard             1938   \n",
       "7    Pacific Grove       Brooks/Cole             1996   \n",
       "\n",
       "                        nach_ISBN_Titel nach_ISBN_Sprache_Text  \\\n",
       "0           The @picture of Dorian Gray                    eng   \n",
       "1  Gustav Klimt - Art Nouveau visionary                    eng   \n",
       "2         La @familia de Pascual Duarte                    spa   \n",
       "3                                   NaN                    NaN   \n",
       "4                                   NaN                    NaN   \n",
       "5                                   NaN                    NaN   \n",
       "6                                   NaN                    NaN   \n",
       "7                                   NaN                    NaN   \n",
       "\n",
       "   nach_ISBN_Bestand_K10  \n",
       "0                    3.0  \n",
       "1                    2.0  \n",
       "2                    2.0  \n",
       "3                    NaN  \n",
       "4                    NaN  \n",
       "5                    NaN  \n",
       "6                    NaN  \n",
       "7                    NaN  "
      ],
      "text/html": "<div>\n<style scoped>\n    .dataframe tbody tr th:only-of-type {\n        vertical-align: middle;\n    }\n\n    .dataframe tbody tr th {\n        vertical-align: top;\n    }\n\n    .dataframe thead th {\n        text-align: right;\n    }\n</style>\n<table border=\"1\" class=\"dataframe\">\n  <thead>\n    <tr style=\"text-align: right;\">\n      <th></th>\n      <th>Titel</th>\n      <th>ISBN</th>\n      <th>Vorname_Autor</th>\n      <th>Nachname_Autor</th>\n      <th>Erscheinungsort</th>\n      <th>Verlag</th>\n      <th>Erscheinungsjahr</th>\n      <th>nach_ISBN_Titel</th>\n      <th>nach_ISBN_Sprache_Text</th>\n      <th>nach_ISBN_Bestand_K10</th>\n    </tr>\n  </thead>\n  <tbody>\n    <tr>\n      <th>0</th>\n      <td>The picture of Dorian Gray</td>\n      <td>9780140623222</td>\n      <td>Oscar</td>\n      <td>Wilde</td>\n      <td>London</td>\n      <td>Penguin Books</td>\n      <td>1994</td>\n      <td>The @picture of Dorian Gray</td>\n      <td>eng</td>\n      <td>3.0</td>\n    </tr>\n    <tr>\n      <th>1</th>\n      <td>Gustav Klimt</td>\n      <td>9781402759208</td>\n      <td>NaN</td>\n      <td></td>\n      <td>New York [u.a.]</td>\n      <td>Sterling</td>\n      <td>2008</td>\n      <td>Gustav Klimt - Art Nouveau visionary</td>\n      <td>eng</td>\n      <td>2.0</td>\n    </tr>\n    <tr>\n      <th>2</th>\n      <td>La familia de Pascual Duarte</td>\n      <td>9788423339044</td>\n      <td>Camilo José</td>\n      <td>Cela</td>\n      <td>Barcelona</td>\n      <td>Ed. Destino</td>\n      <td>2009</td>\n      <td>La @familia de Pascual Duarte</td>\n      <td>spa</td>\n      <td>2.0</td>\n    </tr>\n    <tr>\n      <th>3</th>\n      <td>Auf der Eidechsburg</td>\n      <td>0</td>\n      <td>Ilse-Dore</td>\n      <td>Tanner</td>\n      <td>Leipzig</td>\n      <td>A. H. Payne</td>\n      <td>1938?</td>\n      <td>NaN</td>\n      <td>NaN</td>\n      <td>NaN</td>\n    </tr>\n    <tr>\n      <th>4</th>\n      <td>Bayerisches Kochbuch</td>\n      <td>0</td>\n      <td>Maria</td>\n      <td>Hofmann</td>\n      <td>München</td>\n      <td>Birken</td>\n      <td>1950</td>\n      <td>NaN</td>\n      <td>NaN</td>\n      <td>NaN</td>\n    </tr>\n    <tr>\n      <th>5</th>\n      <td>Centenaire de l‘Impressionisme</td>\n      <td>0</td>\n      <td>NaN</td>\n      <td></td>\n      <td>Paris</td>\n      <td>Musées nationaux</td>\n      <td>1974</td>\n      <td>NaN</td>\n      <td>NaN</td>\n      <td>NaN</td>\n    </tr>\n    <tr>\n      <th>6</th>\n      <td>Les parents terribles</td>\n      <td>0</td>\n      <td>Jean</td>\n      <td>Cocteau</td>\n      <td>Paris</td>\n      <td>Gallimard</td>\n      <td>1938</td>\n      <td>NaN</td>\n      <td>NaN</td>\n      <td>NaN</td>\n    </tr>\n    <tr>\n      <th>7</th>\n      <td>Straightforward Statistics</td>\n      <td>0</td>\n      <td>James D.</td>\n      <td>Evans</td>\n      <td>Pacific Grove</td>\n      <td>Brooks/Cole</td>\n      <td>1996</td>\n      <td>NaN</td>\n      <td>NaN</td>\n      <td>NaN</td>\n    </tr>\n  </tbody>\n</table>\n</div>"
     },
     "metadata": {},
     "execution_count": 9
    }
   ],
   "source": [
    "books_donated"
   ]
  },
  {
   "cell_type": "code",
   "execution_count": 10,
   "metadata": {},
   "outputs": [],
   "source": [
    "books_donated = extract_data.extract_fields_with_title( books_donated)"
   ]
  },
  {
   "cell_type": "code",
   "execution_count": 11,
   "metadata": {},
   "outputs": [
    {
     "output_type": "execute_result",
     "data": {
      "text/plain": [
       "                            Titel           ISBN Vorname_Autor Nachname_Autor  \\\n",
       "0      The picture of Dorian Gray  9780140623222         Oscar          Wilde   \n",
       "1                    Gustav Klimt  9781402759208           NaN                  \n",
       "2    La familia de Pascual Duarte  9788423339044   Camilo José           Cela   \n",
       "3             Auf der Eidechsburg              0     Ilse-Dore         Tanner   \n",
       "4            Bayerisches Kochbuch              0         Maria        Hofmann   \n",
       "5  Centenaire de l‘Impressionisme              0           NaN                  \n",
       "6           Les parents terribles              0          Jean        Cocteau   \n",
       "7      Straightforward Statistics              0      James D.          Evans   \n",
       "\n",
       "   Erscheinungsort            Verlag Erscheinungsjahr  \\\n",
       "0           London     Penguin Books             1994   \n",
       "1  New York [u.a.]          Sterling             2008   \n",
       "2        Barcelona       Ed. Destino             2009   \n",
       "3          Leipzig       A. H. Payne            1938?   \n",
       "4          München            Birken             1950   \n",
       "5            Paris  Musées nationaux             1974   \n",
       "6            Paris         Gallimard             1938   \n",
       "7    Pacific Grove       Brooks/Cole             1996   \n",
       "\n",
       "                        nach_ISBN_Titel nach_ISBN_Sprache_Text  \\\n",
       "0           The @picture of Dorian Gray                    eng   \n",
       "1  Gustav Klimt - Art Nouveau visionary                    eng   \n",
       "2         La @familia de Pascual Duarte                    spa   \n",
       "3                                   NaN                    NaN   \n",
       "4                                   NaN                    NaN   \n",
       "5                                   NaN                    NaN   \n",
       "6                                   NaN                    NaN   \n",
       "7                                   NaN                    NaN   \n",
       "\n",
       "   nach_ISBN_Bestand_K10  nach_Titel_Bestand_K10  \n",
       "0                    3.0                     182  \n",
       "1                    2.0                     212  \n",
       "2                    2.0                     141  \n",
       "3                    NaN                       1  \n",
       "4                    NaN                      41  \n",
       "5                    NaN                       6  \n",
       "6                    NaN                     106  \n",
       "7                    NaN                      32  "
      ],
      "text/html": "<div>\n<style scoped>\n    .dataframe tbody tr th:only-of-type {\n        vertical-align: middle;\n    }\n\n    .dataframe tbody tr th {\n        vertical-align: top;\n    }\n\n    .dataframe thead th {\n        text-align: right;\n    }\n</style>\n<table border=\"1\" class=\"dataframe\">\n  <thead>\n    <tr style=\"text-align: right;\">\n      <th></th>\n      <th>Titel</th>\n      <th>ISBN</th>\n      <th>Vorname_Autor</th>\n      <th>Nachname_Autor</th>\n      <th>Erscheinungsort</th>\n      <th>Verlag</th>\n      <th>Erscheinungsjahr</th>\n      <th>nach_ISBN_Titel</th>\n      <th>nach_ISBN_Sprache_Text</th>\n      <th>nach_ISBN_Bestand_K10</th>\n      <th>nach_Titel_Bestand_K10</th>\n    </tr>\n  </thead>\n  <tbody>\n    <tr>\n      <th>0</th>\n      <td>The picture of Dorian Gray</td>\n      <td>9780140623222</td>\n      <td>Oscar</td>\n      <td>Wilde</td>\n      <td>London</td>\n      <td>Penguin Books</td>\n      <td>1994</td>\n      <td>The @picture of Dorian Gray</td>\n      <td>eng</td>\n      <td>3.0</td>\n      <td>182</td>\n    </tr>\n    <tr>\n      <th>1</th>\n      <td>Gustav Klimt</td>\n      <td>9781402759208</td>\n      <td>NaN</td>\n      <td></td>\n      <td>New York [u.a.]</td>\n      <td>Sterling</td>\n      <td>2008</td>\n      <td>Gustav Klimt - Art Nouveau visionary</td>\n      <td>eng</td>\n      <td>2.0</td>\n      <td>212</td>\n    </tr>\n    <tr>\n      <th>2</th>\n      <td>La familia de Pascual Duarte</td>\n      <td>9788423339044</td>\n      <td>Camilo José</td>\n      <td>Cela</td>\n      <td>Barcelona</td>\n      <td>Ed. Destino</td>\n      <td>2009</td>\n      <td>La @familia de Pascual Duarte</td>\n      <td>spa</td>\n      <td>2.0</td>\n      <td>141</td>\n    </tr>\n    <tr>\n      <th>3</th>\n      <td>Auf der Eidechsburg</td>\n      <td>0</td>\n      <td>Ilse-Dore</td>\n      <td>Tanner</td>\n      <td>Leipzig</td>\n      <td>A. H. Payne</td>\n      <td>1938?</td>\n      <td>NaN</td>\n      <td>NaN</td>\n      <td>NaN</td>\n      <td>1</td>\n    </tr>\n    <tr>\n      <th>4</th>\n      <td>Bayerisches Kochbuch</td>\n      <td>0</td>\n      <td>Maria</td>\n      <td>Hofmann</td>\n      <td>München</td>\n      <td>Birken</td>\n      <td>1950</td>\n      <td>NaN</td>\n      <td>NaN</td>\n      <td>NaN</td>\n      <td>41</td>\n    </tr>\n    <tr>\n      <th>5</th>\n      <td>Centenaire de l‘Impressionisme</td>\n      <td>0</td>\n      <td>NaN</td>\n      <td></td>\n      <td>Paris</td>\n      <td>Musées nationaux</td>\n      <td>1974</td>\n      <td>NaN</td>\n      <td>NaN</td>\n      <td>NaN</td>\n      <td>6</td>\n    </tr>\n    <tr>\n      <th>6</th>\n      <td>Les parents terribles</td>\n      <td>0</td>\n      <td>Jean</td>\n      <td>Cocteau</td>\n      <td>Paris</td>\n      <td>Gallimard</td>\n      <td>1938</td>\n      <td>NaN</td>\n      <td>NaN</td>\n      <td>NaN</td>\n      <td>106</td>\n    </tr>\n    <tr>\n      <th>7</th>\n      <td>Straightforward Statistics</td>\n      <td>0</td>\n      <td>James D.</td>\n      <td>Evans</td>\n      <td>Pacific Grove</td>\n      <td>Brooks/Cole</td>\n      <td>1996</td>\n      <td>NaN</td>\n      <td>NaN</td>\n      <td>NaN</td>\n      <td>32</td>\n    </tr>\n  </tbody>\n</table>\n</div>"
     },
     "metadata": {},
     "execution_count": 11
    }
   ],
   "source": [
    "books_donated"
   ]
  },
  {
   "source": [
    "# Run Functions on Data"
   ],
   "cell_type": "markdown",
   "metadata": {}
  },
  {
   "source": [
    "## Check copies with ISBN\n",
    "Checking whether the texts are at the Göttinge Library with the information from the ISBNs"
   ],
   "cell_type": "markdown",
   "metadata": {}
  },
  {
   "cell_type": "code",
   "execution_count": 12,
   "metadata": {},
   "outputs": [
    {
     "output_type": "execute_result",
     "data": {
      "text/plain": [
       "                            Titel           ISBN Vorname_Autor Nachname_Autor  \\\n",
       "0      The picture of Dorian Gray  9780140623222         Oscar          Wilde   \n",
       "1                    Gustav Klimt  9781402759208           NaN                  \n",
       "2    La familia de Pascual Duarte  9788423339044   Camilo José           Cela   \n",
       "3             Auf der Eidechsburg              0     Ilse-Dore         Tanner   \n",
       "4            Bayerisches Kochbuch              0         Maria        Hofmann   \n",
       "5  Centenaire de l‘Impressionisme              0           NaN                  \n",
       "6           Les parents terribles              0          Jean        Cocteau   \n",
       "7      Straightforward Statistics              0      James D.          Evans   \n",
       "\n",
       "   Erscheinungsort            Verlag Erscheinungsjahr  \\\n",
       "0           London     Penguin Books             1994   \n",
       "1  New York [u.a.]          Sterling             2008   \n",
       "2        Barcelona       Ed. Destino             2009   \n",
       "3          Leipzig       A. H. Payne            1938?   \n",
       "4          München            Birken             1950   \n",
       "5            Paris  Musées nationaux             1974   \n",
       "6            Paris         Gallimard             1938   \n",
       "7    Pacific Grove       Brooks/Cole             1996   \n",
       "\n",
       "                        nach_ISBN_Titel nach_ISBN_Sprache_Text  \\\n",
       "0           The @picture of Dorian Gray                    eng   \n",
       "1  Gustav Klimt - Art Nouveau visionary                    eng   \n",
       "2         La @familia de Pascual Duarte                    spa   \n",
       "3                                   NaN                    NaN   \n",
       "4                                   NaN                    NaN   \n",
       "5                                   NaN                    NaN   \n",
       "6                                   NaN                    NaN   \n",
       "7                                   NaN                    NaN   \n",
       "\n",
       "   nach_ISBN_Bestand_K10  nach_Titel_Bestand_K10  \n",
       "0                    3.0                     182  \n",
       "1                    2.0                     212  \n",
       "2                    2.0                     141  \n",
       "3                    NaN                       1  \n",
       "4                    NaN                      41  \n",
       "5                    NaN                       6  \n",
       "6                    NaN                     106  \n",
       "7                    NaN                      32  "
      ],
      "text/html": "<div>\n<style scoped>\n    .dataframe tbody tr th:only-of-type {\n        vertical-align: middle;\n    }\n\n    .dataframe tbody tr th {\n        vertical-align: top;\n    }\n\n    .dataframe thead th {\n        text-align: right;\n    }\n</style>\n<table border=\"1\" class=\"dataframe\">\n  <thead>\n    <tr style=\"text-align: right;\">\n      <th></th>\n      <th>Titel</th>\n      <th>ISBN</th>\n      <th>Vorname_Autor</th>\n      <th>Nachname_Autor</th>\n      <th>Erscheinungsort</th>\n      <th>Verlag</th>\n      <th>Erscheinungsjahr</th>\n      <th>nach_ISBN_Titel</th>\n      <th>nach_ISBN_Sprache_Text</th>\n      <th>nach_ISBN_Bestand_K10</th>\n      <th>nach_Titel_Bestand_K10</th>\n    </tr>\n  </thead>\n  <tbody>\n    <tr>\n      <th>0</th>\n      <td>The picture of Dorian Gray</td>\n      <td>9780140623222</td>\n      <td>Oscar</td>\n      <td>Wilde</td>\n      <td>London</td>\n      <td>Penguin Books</td>\n      <td>1994</td>\n      <td>The @picture of Dorian Gray</td>\n      <td>eng</td>\n      <td>3.0</td>\n      <td>182</td>\n    </tr>\n    <tr>\n      <th>1</th>\n      <td>Gustav Klimt</td>\n      <td>9781402759208</td>\n      <td>NaN</td>\n      <td></td>\n      <td>New York [u.a.]</td>\n      <td>Sterling</td>\n      <td>2008</td>\n      <td>Gustav Klimt - Art Nouveau visionary</td>\n      <td>eng</td>\n      <td>2.0</td>\n      <td>212</td>\n    </tr>\n    <tr>\n      <th>2</th>\n      <td>La familia de Pascual Duarte</td>\n      <td>9788423339044</td>\n      <td>Camilo José</td>\n      <td>Cela</td>\n      <td>Barcelona</td>\n      <td>Ed. Destino</td>\n      <td>2009</td>\n      <td>La @familia de Pascual Duarte</td>\n      <td>spa</td>\n      <td>2.0</td>\n      <td>141</td>\n    </tr>\n    <tr>\n      <th>3</th>\n      <td>Auf der Eidechsburg</td>\n      <td>0</td>\n      <td>Ilse-Dore</td>\n      <td>Tanner</td>\n      <td>Leipzig</td>\n      <td>A. H. Payne</td>\n      <td>1938?</td>\n      <td>NaN</td>\n      <td>NaN</td>\n      <td>NaN</td>\n      <td>1</td>\n    </tr>\n    <tr>\n      <th>4</th>\n      <td>Bayerisches Kochbuch</td>\n      <td>0</td>\n      <td>Maria</td>\n      <td>Hofmann</td>\n      <td>München</td>\n      <td>Birken</td>\n      <td>1950</td>\n      <td>NaN</td>\n      <td>NaN</td>\n      <td>NaN</td>\n      <td>41</td>\n    </tr>\n    <tr>\n      <th>5</th>\n      <td>Centenaire de l‘Impressionisme</td>\n      <td>0</td>\n      <td>NaN</td>\n      <td></td>\n      <td>Paris</td>\n      <td>Musées nationaux</td>\n      <td>1974</td>\n      <td>NaN</td>\n      <td>NaN</td>\n      <td>NaN</td>\n      <td>6</td>\n    </tr>\n    <tr>\n      <th>6</th>\n      <td>Les parents terribles</td>\n      <td>0</td>\n      <td>Jean</td>\n      <td>Cocteau</td>\n      <td>Paris</td>\n      <td>Gallimard</td>\n      <td>1938</td>\n      <td>NaN</td>\n      <td>NaN</td>\n      <td>NaN</td>\n      <td>106</td>\n    </tr>\n    <tr>\n      <th>7</th>\n      <td>Straightforward Statistics</td>\n      <td>0</td>\n      <td>James D.</td>\n      <td>Evans</td>\n      <td>Pacific Grove</td>\n      <td>Brooks/Cole</td>\n      <td>1996</td>\n      <td>NaN</td>\n      <td>NaN</td>\n      <td>NaN</td>\n      <td>32</td>\n    </tr>\n  </tbody>\n</table>\n</div>"
     },
     "metadata": {},
     "execution_count": 12
    }
   ],
   "source": [
    "books_donated"
   ]
  },
  {
   "cell_type": "code",
   "execution_count": 13,
   "metadata": {},
   "outputs": [],
   "source": [
    "books_donated = check_duplicates.check_duplicate_with_isbn( books_donated, \n",
    "    name_column_isbn = \"ISBN\",\n",
    "    name_column_title = \"Titel\",\n",
    "\n",
    "    )"
   ]
  },
  {
   "cell_type": "code",
   "execution_count": 14,
   "metadata": {},
   "outputs": [
    {
     "output_type": "execute_result",
     "data": {
      "text/plain": [
       "                            Titel           ISBN Vorname_Autor Nachname_Autor  \\\n",
       "0      The picture of Dorian Gray  9780140623222         Oscar          Wilde   \n",
       "1                    Gustav Klimt  9781402759208           NaN                  \n",
       "2    La familia de Pascual Duarte  9788423339044   Camilo José           Cela   \n",
       "3             Auf der Eidechsburg              0     Ilse-Dore         Tanner   \n",
       "4            Bayerisches Kochbuch              0         Maria        Hofmann   \n",
       "5  Centenaire de l‘Impressionisme              0           NaN                  \n",
       "6           Les parents terribles              0          Jean        Cocteau   \n",
       "7      Straightforward Statistics              0      James D.          Evans   \n",
       "\n",
       "   Erscheinungsort            Verlag Erscheinungsjahr  \\\n",
       "0           London     Penguin Books             1994   \n",
       "1  New York [u.a.]          Sterling             2008   \n",
       "2        Barcelona       Ed. Destino             2009   \n",
       "3          Leipzig       A. H. Payne            1938?   \n",
       "4          München            Birken             1950   \n",
       "5            Paris  Musées nationaux             1974   \n",
       "6            Paris         Gallimard             1938   \n",
       "7    Pacific Grove       Brooks/Cole             1996   \n",
       "\n",
       "                        nach_ISBN_Titel nach_ISBN_Sprache_Text  \\\n",
       "0           The @picture of Dorian Gray                    eng   \n",
       "1  Gustav Klimt - Art Nouveau visionary                    eng   \n",
       "2         La @familia de Pascual Duarte                    spa   \n",
       "3                                   NaN                    NaN   \n",
       "4                                   NaN                    NaN   \n",
       "5                                   NaN                    NaN   \n",
       "6                                   NaN                    NaN   \n",
       "7                                   NaN                    NaN   \n",
       "\n",
       "   nach_ISBN_Bestand_K10  nach_Titel_Bestand_K10 nach_ISBN_Bestand_Göttingen  \\\n",
       "0                    3.0                     182                           0   \n",
       "1                    2.0                     212                           0   \n",
       "2                    2.0                     141                           1   \n",
       "3                    NaN                       1                         NaN   \n",
       "4                    NaN                      41                         NaN   \n",
       "5                    NaN                       6                         NaN   \n",
       "6                    NaN                     106                         NaN   \n",
       "7                    NaN                      32                         NaN   \n",
       "\n",
       "   nach_ISBN_Bestand_SUB                                  nach_ISBN_URL_GUK  \n",
       "0                    0.0  https://opac.sub.uni-goettingen.de/DB=1/SET=6/...  \n",
       "1                    0.0  https://opac.sub.uni-goettingen.de/DB=1/SET=6/...  \n",
       "2                    0.0  https://opac.sub.uni-goettingen.de/DB=1/SET=6/...  \n",
       "3                    NaN                                                NaN  \n",
       "4                    NaN                                                NaN  \n",
       "5                    NaN                                                NaN  \n",
       "6                    NaN                                                NaN  \n",
       "7                    NaN                                                NaN  "
      ],
      "text/html": "<div>\n<style scoped>\n    .dataframe tbody tr th:only-of-type {\n        vertical-align: middle;\n    }\n\n    .dataframe tbody tr th {\n        vertical-align: top;\n    }\n\n    .dataframe thead th {\n        text-align: right;\n    }\n</style>\n<table border=\"1\" class=\"dataframe\">\n  <thead>\n    <tr style=\"text-align: right;\">\n      <th></th>\n      <th>Titel</th>\n      <th>ISBN</th>\n      <th>Vorname_Autor</th>\n      <th>Nachname_Autor</th>\n      <th>Erscheinungsort</th>\n      <th>Verlag</th>\n      <th>Erscheinungsjahr</th>\n      <th>nach_ISBN_Titel</th>\n      <th>nach_ISBN_Sprache_Text</th>\n      <th>nach_ISBN_Bestand_K10</th>\n      <th>nach_Titel_Bestand_K10</th>\n      <th>nach_ISBN_Bestand_Göttingen</th>\n      <th>nach_ISBN_Bestand_SUB</th>\n      <th>nach_ISBN_URL_GUK</th>\n    </tr>\n  </thead>\n  <tbody>\n    <tr>\n      <th>0</th>\n      <td>The picture of Dorian Gray</td>\n      <td>9780140623222</td>\n      <td>Oscar</td>\n      <td>Wilde</td>\n      <td>London</td>\n      <td>Penguin Books</td>\n      <td>1994</td>\n      <td>The @picture of Dorian Gray</td>\n      <td>eng</td>\n      <td>3.0</td>\n      <td>182</td>\n      <td>0</td>\n      <td>0.0</td>\n      <td>https://opac.sub.uni-goettingen.de/DB=1/SET=6/...</td>\n    </tr>\n    <tr>\n      <th>1</th>\n      <td>Gustav Klimt</td>\n      <td>9781402759208</td>\n      <td>NaN</td>\n      <td></td>\n      <td>New York [u.a.]</td>\n      <td>Sterling</td>\n      <td>2008</td>\n      <td>Gustav Klimt - Art Nouveau visionary</td>\n      <td>eng</td>\n      <td>2.0</td>\n      <td>212</td>\n      <td>0</td>\n      <td>0.0</td>\n      <td>https://opac.sub.uni-goettingen.de/DB=1/SET=6/...</td>\n    </tr>\n    <tr>\n      <th>2</th>\n      <td>La familia de Pascual Duarte</td>\n      <td>9788423339044</td>\n      <td>Camilo José</td>\n      <td>Cela</td>\n      <td>Barcelona</td>\n      <td>Ed. Destino</td>\n      <td>2009</td>\n      <td>La @familia de Pascual Duarte</td>\n      <td>spa</td>\n      <td>2.0</td>\n      <td>141</td>\n      <td>1</td>\n      <td>0.0</td>\n      <td>https://opac.sub.uni-goettingen.de/DB=1/SET=6/...</td>\n    </tr>\n    <tr>\n      <th>3</th>\n      <td>Auf der Eidechsburg</td>\n      <td>0</td>\n      <td>Ilse-Dore</td>\n      <td>Tanner</td>\n      <td>Leipzig</td>\n      <td>A. H. Payne</td>\n      <td>1938?</td>\n      <td>NaN</td>\n      <td>NaN</td>\n      <td>NaN</td>\n      <td>1</td>\n      <td>NaN</td>\n      <td>NaN</td>\n      <td>NaN</td>\n    </tr>\n    <tr>\n      <th>4</th>\n      <td>Bayerisches Kochbuch</td>\n      <td>0</td>\n      <td>Maria</td>\n      <td>Hofmann</td>\n      <td>München</td>\n      <td>Birken</td>\n      <td>1950</td>\n      <td>NaN</td>\n      <td>NaN</td>\n      <td>NaN</td>\n      <td>41</td>\n      <td>NaN</td>\n      <td>NaN</td>\n      <td>NaN</td>\n    </tr>\n    <tr>\n      <th>5</th>\n      <td>Centenaire de l‘Impressionisme</td>\n      <td>0</td>\n      <td>NaN</td>\n      <td></td>\n      <td>Paris</td>\n      <td>Musées nationaux</td>\n      <td>1974</td>\n      <td>NaN</td>\n      <td>NaN</td>\n      <td>NaN</td>\n      <td>6</td>\n      <td>NaN</td>\n      <td>NaN</td>\n      <td>NaN</td>\n    </tr>\n    <tr>\n      <th>6</th>\n      <td>Les parents terribles</td>\n      <td>0</td>\n      <td>Jean</td>\n      <td>Cocteau</td>\n      <td>Paris</td>\n      <td>Gallimard</td>\n      <td>1938</td>\n      <td>NaN</td>\n      <td>NaN</td>\n      <td>NaN</td>\n      <td>106</td>\n      <td>NaN</td>\n      <td>NaN</td>\n      <td>NaN</td>\n    </tr>\n    <tr>\n      <th>7</th>\n      <td>Straightforward Statistics</td>\n      <td>0</td>\n      <td>James D.</td>\n      <td>Evans</td>\n      <td>Pacific Grove</td>\n      <td>Brooks/Cole</td>\n      <td>1996</td>\n      <td>NaN</td>\n      <td>NaN</td>\n      <td>NaN</td>\n      <td>32</td>\n      <td>NaN</td>\n      <td>NaN</td>\n      <td>NaN</td>\n    </tr>\n  </tbody>\n</table>\n</div>"
     },
     "metadata": {},
     "execution_count": 14
    }
   ],
   "source": [
    "books_donated"
   ]
  },
  {
   "source": [
    "## Check copies with Title\n",
    "Checking whether the texts are at the Göttinge Library with the information from the title."
   ],
   "cell_type": "markdown",
   "metadata": {}
  },
  {
   "cell_type": "code",
   "execution_count": 15,
   "metadata": {},
   "outputs": [],
   "source": [
    "books_donated = check_duplicates.check_duplicate_with_title( books_donated, \n",
    "    name_column_title = \"Titel\",\n",
    "    )"
   ]
  },
  {
   "cell_type": "code",
   "execution_count": 16,
   "metadata": {},
   "outputs": [
    {
     "output_type": "execute_result",
     "data": {
      "text/plain": [
       "                            Titel           ISBN Vorname_Autor Nachname_Autor  \\\n",
       "0      The picture of Dorian Gray  9780140623222         Oscar          Wilde   \n",
       "1                    Gustav Klimt  9781402759208           NaN                  \n",
       "2    La familia de Pascual Duarte  9788423339044   Camilo José           Cela   \n",
       "3             Auf der Eidechsburg              0     Ilse-Dore         Tanner   \n",
       "4            Bayerisches Kochbuch              0         Maria        Hofmann   \n",
       "5  Centenaire de l‘Impressionisme              0           NaN                  \n",
       "6           Les parents terribles              0          Jean        Cocteau   \n",
       "7      Straightforward Statistics              0      James D.          Evans   \n",
       "\n",
       "   Erscheinungsort            Verlag Erscheinungsjahr  \\\n",
       "0           London     Penguin Books             1994   \n",
       "1  New York [u.a.]          Sterling             2008   \n",
       "2        Barcelona       Ed. Destino             2009   \n",
       "3          Leipzig       A. H. Payne            1938?   \n",
       "4          München            Birken             1950   \n",
       "5            Paris  Musées nationaux             1974   \n",
       "6            Paris         Gallimard             1938   \n",
       "7    Pacific Grove       Brooks/Cole             1996   \n",
       "\n",
       "                        nach_ISBN_Titel nach_ISBN_Sprache_Text  \\\n",
       "0           The @picture of Dorian Gray                    eng   \n",
       "1  Gustav Klimt - Art Nouveau visionary                    eng   \n",
       "2         La @familia de Pascual Duarte                    spa   \n",
       "3                                   NaN                    NaN   \n",
       "4                                   NaN                    NaN   \n",
       "5                                   NaN                    NaN   \n",
       "6                                   NaN                    NaN   \n",
       "7                                   NaN                    NaN   \n",
       "\n",
       "   nach_ISBN_Bestand_K10  nach_Titel_Bestand_K10 nach_ISBN_Bestand_Göttingen  \\\n",
       "0                    3.0                     182                           0   \n",
       "1                    2.0                     212                           0   \n",
       "2                    2.0                     141                           1   \n",
       "3                    NaN                       1                         NaN   \n",
       "4                    NaN                      41                         NaN   \n",
       "5                    NaN                       6                         NaN   \n",
       "6                    NaN                     106                         NaN   \n",
       "7                    NaN                      32                         NaN   \n",
       "\n",
       "   nach_ISBN_Bestand_SUB                                  nach_ISBN_URL_GUK  \\\n",
       "0                    0.0  https://opac.sub.uni-goettingen.de/DB=1/SET=6/...   \n",
       "1                    0.0  https://opac.sub.uni-goettingen.de/DB=1/SET=6/...   \n",
       "2                    0.0  https://opac.sub.uni-goettingen.de/DB=1/SET=6/...   \n",
       "3                    NaN                                                NaN   \n",
       "4                    NaN                                                NaN   \n",
       "5                    NaN                                                NaN   \n",
       "6                    NaN                                                NaN   \n",
       "7                    NaN                                                NaN   \n",
       "\n",
       "  nach_Titel_Bestand_Göttingen  nach_Titel_Bestand_SUB  \\\n",
       "0                           42                     8.0   \n",
       "1                           31                     1.0   \n",
       "2                            8                     0.0   \n",
       "3                            0                     0.0   \n",
       "4                            1                     0.0   \n",
       "5                            0                     0.0   \n",
       "6                            4                     1.0   \n",
       "7                            2                     0.0   \n",
       "\n",
       "                                  nach_Titel_url_GUK  \n",
       "0  https://opac.sub.uni-goettingen.de/DB=1/SET=2/...  \n",
       "1  https://opac.sub.uni-goettingen.de/DB=1/SET=2/...  \n",
       "2  https://opac.sub.uni-goettingen.de/DB=1/SET=2/...  \n",
       "3  https://opac.sub.uni-goettingen.de/DB=1/SET=2/...  \n",
       "4  https://opac.sub.uni-goettingen.de/DB=1/SET=2/...  \n",
       "5  https://opac.sub.uni-goettingen.de/DB=1/SET=2/...  \n",
       "6  https://opac.sub.uni-goettingen.de/DB=1/SET=2/...  \n",
       "7  https://opac.sub.uni-goettingen.de/DB=1/SET=2/...  "
      ],
      "text/html": "<div>\n<style scoped>\n    .dataframe tbody tr th:only-of-type {\n        vertical-align: middle;\n    }\n\n    .dataframe tbody tr th {\n        vertical-align: top;\n    }\n\n    .dataframe thead th {\n        text-align: right;\n    }\n</style>\n<table border=\"1\" class=\"dataframe\">\n  <thead>\n    <tr style=\"text-align: right;\">\n      <th></th>\n      <th>Titel</th>\n      <th>ISBN</th>\n      <th>Vorname_Autor</th>\n      <th>Nachname_Autor</th>\n      <th>Erscheinungsort</th>\n      <th>Verlag</th>\n      <th>Erscheinungsjahr</th>\n      <th>nach_ISBN_Titel</th>\n      <th>nach_ISBN_Sprache_Text</th>\n      <th>nach_ISBN_Bestand_K10</th>\n      <th>nach_Titel_Bestand_K10</th>\n      <th>nach_ISBN_Bestand_Göttingen</th>\n      <th>nach_ISBN_Bestand_SUB</th>\n      <th>nach_ISBN_URL_GUK</th>\n      <th>nach_Titel_Bestand_Göttingen</th>\n      <th>nach_Titel_Bestand_SUB</th>\n      <th>nach_Titel_url_GUK</th>\n    </tr>\n  </thead>\n  <tbody>\n    <tr>\n      <th>0</th>\n      <td>The picture of Dorian Gray</td>\n      <td>9780140623222</td>\n      <td>Oscar</td>\n      <td>Wilde</td>\n      <td>London</td>\n      <td>Penguin Books</td>\n      <td>1994</td>\n      <td>The @picture of Dorian Gray</td>\n      <td>eng</td>\n      <td>3.0</td>\n      <td>182</td>\n      <td>0</td>\n      <td>0.0</td>\n      <td>https://opac.sub.uni-goettingen.de/DB=1/SET=6/...</td>\n      <td>42</td>\n      <td>8.0</td>\n      <td>https://opac.sub.uni-goettingen.de/DB=1/SET=2/...</td>\n    </tr>\n    <tr>\n      <th>1</th>\n      <td>Gustav Klimt</td>\n      <td>9781402759208</td>\n      <td>NaN</td>\n      <td></td>\n      <td>New York [u.a.]</td>\n      <td>Sterling</td>\n      <td>2008</td>\n      <td>Gustav Klimt - Art Nouveau visionary</td>\n      <td>eng</td>\n      <td>2.0</td>\n      <td>212</td>\n      <td>0</td>\n      <td>0.0</td>\n      <td>https://opac.sub.uni-goettingen.de/DB=1/SET=6/...</td>\n      <td>31</td>\n      <td>1.0</td>\n      <td>https://opac.sub.uni-goettingen.de/DB=1/SET=2/...</td>\n    </tr>\n    <tr>\n      <th>2</th>\n      <td>La familia de Pascual Duarte</td>\n      <td>9788423339044</td>\n      <td>Camilo José</td>\n      <td>Cela</td>\n      <td>Barcelona</td>\n      <td>Ed. Destino</td>\n      <td>2009</td>\n      <td>La @familia de Pascual Duarte</td>\n      <td>spa</td>\n      <td>2.0</td>\n      <td>141</td>\n      <td>1</td>\n      <td>0.0</td>\n      <td>https://opac.sub.uni-goettingen.de/DB=1/SET=6/...</td>\n      <td>8</td>\n      <td>0.0</td>\n      <td>https://opac.sub.uni-goettingen.de/DB=1/SET=2/...</td>\n    </tr>\n    <tr>\n      <th>3</th>\n      <td>Auf der Eidechsburg</td>\n      <td>0</td>\n      <td>Ilse-Dore</td>\n      <td>Tanner</td>\n      <td>Leipzig</td>\n      <td>A. H. Payne</td>\n      <td>1938?</td>\n      <td>NaN</td>\n      <td>NaN</td>\n      <td>NaN</td>\n      <td>1</td>\n      <td>NaN</td>\n      <td>NaN</td>\n      <td>NaN</td>\n      <td>0</td>\n      <td>0.0</td>\n      <td>https://opac.sub.uni-goettingen.de/DB=1/SET=2/...</td>\n    </tr>\n    <tr>\n      <th>4</th>\n      <td>Bayerisches Kochbuch</td>\n      <td>0</td>\n      <td>Maria</td>\n      <td>Hofmann</td>\n      <td>München</td>\n      <td>Birken</td>\n      <td>1950</td>\n      <td>NaN</td>\n      <td>NaN</td>\n      <td>NaN</td>\n      <td>41</td>\n      <td>NaN</td>\n      <td>NaN</td>\n      <td>NaN</td>\n      <td>1</td>\n      <td>0.0</td>\n      <td>https://opac.sub.uni-goettingen.de/DB=1/SET=2/...</td>\n    </tr>\n    <tr>\n      <th>5</th>\n      <td>Centenaire de l‘Impressionisme</td>\n      <td>0</td>\n      <td>NaN</td>\n      <td></td>\n      <td>Paris</td>\n      <td>Musées nationaux</td>\n      <td>1974</td>\n      <td>NaN</td>\n      <td>NaN</td>\n      <td>NaN</td>\n      <td>6</td>\n      <td>NaN</td>\n      <td>NaN</td>\n      <td>NaN</td>\n      <td>0</td>\n      <td>0.0</td>\n      <td>https://opac.sub.uni-goettingen.de/DB=1/SET=2/...</td>\n    </tr>\n    <tr>\n      <th>6</th>\n      <td>Les parents terribles</td>\n      <td>0</td>\n      <td>Jean</td>\n      <td>Cocteau</td>\n      <td>Paris</td>\n      <td>Gallimard</td>\n      <td>1938</td>\n      <td>NaN</td>\n      <td>NaN</td>\n      <td>NaN</td>\n      <td>106</td>\n      <td>NaN</td>\n      <td>NaN</td>\n      <td>NaN</td>\n      <td>4</td>\n      <td>1.0</td>\n      <td>https://opac.sub.uni-goettingen.de/DB=1/SET=2/...</td>\n    </tr>\n    <tr>\n      <th>7</th>\n      <td>Straightforward Statistics</td>\n      <td>0</td>\n      <td>James D.</td>\n      <td>Evans</td>\n      <td>Pacific Grove</td>\n      <td>Brooks/Cole</td>\n      <td>1996</td>\n      <td>NaN</td>\n      <td>NaN</td>\n      <td>NaN</td>\n      <td>32</td>\n      <td>NaN</td>\n      <td>NaN</td>\n      <td>NaN</td>\n      <td>2</td>\n      <td>0.0</td>\n      <td>https://opac.sub.uni-goettingen.de/DB=1/SET=2/...</td>\n    </tr>\n  </tbody>\n</table>\n</div>"
     },
     "metadata": {},
     "execution_count": 16
    }
   ],
   "source": [
    "books_donated"
   ]
  },
  {
   "cell_type": "code",
   "execution_count": 17,
   "metadata": {},
   "outputs": [],
   "source": [
    "books_donated = check_duplicates.check_duplicate_with_title_author ( books_donated)"
   ]
  },
  {
   "cell_type": "code",
   "execution_count": 18,
   "metadata": {},
   "outputs": [
    {
     "output_type": "execute_result",
     "data": {
      "text/plain": [
       "                            Titel           ISBN Vorname_Autor Nachname_Autor  \\\n",
       "0      The picture of Dorian Gray  9780140623222         Oscar          Wilde   \n",
       "1                    Gustav Klimt  9781402759208           NaN                  \n",
       "2    La familia de Pascual Duarte  9788423339044   Camilo José           Cela   \n",
       "3             Auf der Eidechsburg              0     Ilse-Dore         Tanner   \n",
       "4            Bayerisches Kochbuch              0         Maria        Hofmann   \n",
       "5  Centenaire de l‘Impressionisme              0           NaN                  \n",
       "6           Les parents terribles              0          Jean        Cocteau   \n",
       "7      Straightforward Statistics              0      James D.          Evans   \n",
       "\n",
       "   Erscheinungsort            Verlag Erscheinungsjahr  \\\n",
       "0           London     Penguin Books             1994   \n",
       "1  New York [u.a.]          Sterling             2008   \n",
       "2        Barcelona       Ed. Destino             2009   \n",
       "3          Leipzig       A. H. Payne            1938?   \n",
       "4          München            Birken             1950   \n",
       "5            Paris  Musées nationaux             1974   \n",
       "6            Paris         Gallimard             1938   \n",
       "7    Pacific Grove       Brooks/Cole             1996   \n",
       "\n",
       "                        nach_ISBN_Titel nach_ISBN_Sprache_Text  \\\n",
       "0           The @picture of Dorian Gray                    eng   \n",
       "1  Gustav Klimt - Art Nouveau visionary                    eng   \n",
       "2         La @familia de Pascual Duarte                    spa   \n",
       "3                                   NaN                    NaN   \n",
       "4                                   NaN                    NaN   \n",
       "5                                   NaN                    NaN   \n",
       "6                                   NaN                    NaN   \n",
       "7                                   NaN                    NaN   \n",
       "\n",
       "   nach_ISBN_Bestand_K10  nach_Titel_Bestand_K10 nach_ISBN_Bestand_Göttingen  \\\n",
       "0                    3.0                     182                           0   \n",
       "1                    2.0                     212                           0   \n",
       "2                    2.0                     141                           1   \n",
       "3                    NaN                       1                         NaN   \n",
       "4                    NaN                      41                         NaN   \n",
       "5                    NaN                       6                         NaN   \n",
       "6                    NaN                     106                         NaN   \n",
       "7                    NaN                      32                         NaN   \n",
       "\n",
       "   nach_ISBN_Bestand_SUB                                  nach_ISBN_URL_GUK  \\\n",
       "0                    0.0  https://opac.sub.uni-goettingen.de/DB=1/SET=6/...   \n",
       "1                    0.0  https://opac.sub.uni-goettingen.de/DB=1/SET=6/...   \n",
       "2                    0.0  https://opac.sub.uni-goettingen.de/DB=1/SET=6/...   \n",
       "3                    NaN                                                NaN   \n",
       "4                    NaN                                                NaN   \n",
       "5                    NaN                                                NaN   \n",
       "6                    NaN                                                NaN   \n",
       "7                    NaN                                                NaN   \n",
       "\n",
       "  nach_Titel_Bestand_Göttingen  nach_Titel_Bestand_SUB  \\\n",
       "0                           42                     8.0   \n",
       "1                           31                     1.0   \n",
       "2                            8                     0.0   \n",
       "3                            0                     0.0   \n",
       "4                            1                     0.0   \n",
       "5                            0                     0.0   \n",
       "6                            4                     1.0   \n",
       "7                            2                     0.0   \n",
       "\n",
       "                                  nach_Titel_url_GUK  \\\n",
       "0  https://opac.sub.uni-goettingen.de/DB=1/SET=2/...   \n",
       "1  https://opac.sub.uni-goettingen.de/DB=1/SET=2/...   \n",
       "2  https://opac.sub.uni-goettingen.de/DB=1/SET=2/...   \n",
       "3  https://opac.sub.uni-goettingen.de/DB=1/SET=2/...   \n",
       "4  https://opac.sub.uni-goettingen.de/DB=1/SET=2/...   \n",
       "5  https://opac.sub.uni-goettingen.de/DB=1/SET=2/...   \n",
       "6  https://opac.sub.uni-goettingen.de/DB=1/SET=2/...   \n",
       "7  https://opac.sub.uni-goettingen.de/DB=1/SET=2/...   \n",
       "\n",
       "  nach_Titel_Nachname_Autor_Bestand_Göttingen  \\\n",
       "0                                          29   \n",
       "1                                         NaN   \n",
       "2                                           5   \n",
       "3                                           0   \n",
       "4                                           0   \n",
       "5                                         NaN   \n",
       "6                                           4   \n",
       "7                                           0   \n",
       "\n",
       "   nach_Titel_Nachname_Autor_Bestand_SUB  \\\n",
       "0                                    9.0   \n",
       "1                                    0.0   \n",
       "2                                    0.0   \n",
       "3                                    0.0   \n",
       "4                                    0.0   \n",
       "5                                    0.0   \n",
       "6                                    1.0   \n",
       "7                                    0.0   \n",
       "\n",
       "                   nach_Titel_Nachname_Autor_url_GUK  \n",
       "0  https://opac.sub.uni-goettingen.de/DB=1/SET=2/...  \n",
       "1  https://opac.sub.uni-goettingen.de/DB=1/SET=2/...  \n",
       "2  https://opac.sub.uni-goettingen.de/DB=1/SET=2/...  \n",
       "3  https://opac.sub.uni-goettingen.de/DB=1/SET=2/...  \n",
       "4  https://opac.sub.uni-goettingen.de/DB=1/SET=2/...  \n",
       "5  https://opac.sub.uni-goettingen.de/DB=1/SET=2/...  \n",
       "6  https://opac.sub.uni-goettingen.de/DB=1/SET=2/...  \n",
       "7  https://opac.sub.uni-goettingen.de/DB=1/SET=2/...  "
      ],
      "text/html": "<div>\n<style scoped>\n    .dataframe tbody tr th:only-of-type {\n        vertical-align: middle;\n    }\n\n    .dataframe tbody tr th {\n        vertical-align: top;\n    }\n\n    .dataframe thead th {\n        text-align: right;\n    }\n</style>\n<table border=\"1\" class=\"dataframe\">\n  <thead>\n    <tr style=\"text-align: right;\">\n      <th></th>\n      <th>Titel</th>\n      <th>ISBN</th>\n      <th>Vorname_Autor</th>\n      <th>Nachname_Autor</th>\n      <th>Erscheinungsort</th>\n      <th>Verlag</th>\n      <th>Erscheinungsjahr</th>\n      <th>nach_ISBN_Titel</th>\n      <th>nach_ISBN_Sprache_Text</th>\n      <th>nach_ISBN_Bestand_K10</th>\n      <th>nach_Titel_Bestand_K10</th>\n      <th>nach_ISBN_Bestand_Göttingen</th>\n      <th>nach_ISBN_Bestand_SUB</th>\n      <th>nach_ISBN_URL_GUK</th>\n      <th>nach_Titel_Bestand_Göttingen</th>\n      <th>nach_Titel_Bestand_SUB</th>\n      <th>nach_Titel_url_GUK</th>\n      <th>nach_Titel_Nachname_Autor_Bestand_Göttingen</th>\n      <th>nach_Titel_Nachname_Autor_Bestand_SUB</th>\n      <th>nach_Titel_Nachname_Autor_url_GUK</th>\n    </tr>\n  </thead>\n  <tbody>\n    <tr>\n      <th>0</th>\n      <td>The picture of Dorian Gray</td>\n      <td>9780140623222</td>\n      <td>Oscar</td>\n      <td>Wilde</td>\n      <td>London</td>\n      <td>Penguin Books</td>\n      <td>1994</td>\n      <td>The @picture of Dorian Gray</td>\n      <td>eng</td>\n      <td>3.0</td>\n      <td>182</td>\n      <td>0</td>\n      <td>0.0</td>\n      <td>https://opac.sub.uni-goettingen.de/DB=1/SET=6/...</td>\n      <td>42</td>\n      <td>8.0</td>\n      <td>https://opac.sub.uni-goettingen.de/DB=1/SET=2/...</td>\n      <td>29</td>\n      <td>9.0</td>\n      <td>https://opac.sub.uni-goettingen.de/DB=1/SET=2/...</td>\n    </tr>\n    <tr>\n      <th>1</th>\n      <td>Gustav Klimt</td>\n      <td>9781402759208</td>\n      <td>NaN</td>\n      <td></td>\n      <td>New York [u.a.]</td>\n      <td>Sterling</td>\n      <td>2008</td>\n      <td>Gustav Klimt - Art Nouveau visionary</td>\n      <td>eng</td>\n      <td>2.0</td>\n      <td>212</td>\n      <td>0</td>\n      <td>0.0</td>\n      <td>https://opac.sub.uni-goettingen.de/DB=1/SET=6/...</td>\n      <td>31</td>\n      <td>1.0</td>\n      <td>https://opac.sub.uni-goettingen.de/DB=1/SET=2/...</td>\n      <td>NaN</td>\n      <td>0.0</td>\n      <td>https://opac.sub.uni-goettingen.de/DB=1/SET=2/...</td>\n    </tr>\n    <tr>\n      <th>2</th>\n      <td>La familia de Pascual Duarte</td>\n      <td>9788423339044</td>\n      <td>Camilo José</td>\n      <td>Cela</td>\n      <td>Barcelona</td>\n      <td>Ed. Destino</td>\n      <td>2009</td>\n      <td>La @familia de Pascual Duarte</td>\n      <td>spa</td>\n      <td>2.0</td>\n      <td>141</td>\n      <td>1</td>\n      <td>0.0</td>\n      <td>https://opac.sub.uni-goettingen.de/DB=1/SET=6/...</td>\n      <td>8</td>\n      <td>0.0</td>\n      <td>https://opac.sub.uni-goettingen.de/DB=1/SET=2/...</td>\n      <td>5</td>\n      <td>0.0</td>\n      <td>https://opac.sub.uni-goettingen.de/DB=1/SET=2/...</td>\n    </tr>\n    <tr>\n      <th>3</th>\n      <td>Auf der Eidechsburg</td>\n      <td>0</td>\n      <td>Ilse-Dore</td>\n      <td>Tanner</td>\n      <td>Leipzig</td>\n      <td>A. H. Payne</td>\n      <td>1938?</td>\n      <td>NaN</td>\n      <td>NaN</td>\n      <td>NaN</td>\n      <td>1</td>\n      <td>NaN</td>\n      <td>NaN</td>\n      <td>NaN</td>\n      <td>0</td>\n      <td>0.0</td>\n      <td>https://opac.sub.uni-goettingen.de/DB=1/SET=2/...</td>\n      <td>0</td>\n      <td>0.0</td>\n      <td>https://opac.sub.uni-goettingen.de/DB=1/SET=2/...</td>\n    </tr>\n    <tr>\n      <th>4</th>\n      <td>Bayerisches Kochbuch</td>\n      <td>0</td>\n      <td>Maria</td>\n      <td>Hofmann</td>\n      <td>München</td>\n      <td>Birken</td>\n      <td>1950</td>\n      <td>NaN</td>\n      <td>NaN</td>\n      <td>NaN</td>\n      <td>41</td>\n      <td>NaN</td>\n      <td>NaN</td>\n      <td>NaN</td>\n      <td>1</td>\n      <td>0.0</td>\n      <td>https://opac.sub.uni-goettingen.de/DB=1/SET=2/...</td>\n      <td>0</td>\n      <td>0.0</td>\n      <td>https://opac.sub.uni-goettingen.de/DB=1/SET=2/...</td>\n    </tr>\n    <tr>\n      <th>5</th>\n      <td>Centenaire de l‘Impressionisme</td>\n      <td>0</td>\n      <td>NaN</td>\n      <td></td>\n      <td>Paris</td>\n      <td>Musées nationaux</td>\n      <td>1974</td>\n      <td>NaN</td>\n      <td>NaN</td>\n      <td>NaN</td>\n      <td>6</td>\n      <td>NaN</td>\n      <td>NaN</td>\n      <td>NaN</td>\n      <td>0</td>\n      <td>0.0</td>\n      <td>https://opac.sub.uni-goettingen.de/DB=1/SET=2/...</td>\n      <td>NaN</td>\n      <td>0.0</td>\n      <td>https://opac.sub.uni-goettingen.de/DB=1/SET=2/...</td>\n    </tr>\n    <tr>\n      <th>6</th>\n      <td>Les parents terribles</td>\n      <td>0</td>\n      <td>Jean</td>\n      <td>Cocteau</td>\n      <td>Paris</td>\n      <td>Gallimard</td>\n      <td>1938</td>\n      <td>NaN</td>\n      <td>NaN</td>\n      <td>NaN</td>\n      <td>106</td>\n      <td>NaN</td>\n      <td>NaN</td>\n      <td>NaN</td>\n      <td>4</td>\n      <td>1.0</td>\n      <td>https://opac.sub.uni-goettingen.de/DB=1/SET=2/...</td>\n      <td>4</td>\n      <td>1.0</td>\n      <td>https://opac.sub.uni-goettingen.de/DB=1/SET=2/...</td>\n    </tr>\n    <tr>\n      <th>7</th>\n      <td>Straightforward Statistics</td>\n      <td>0</td>\n      <td>James D.</td>\n      <td>Evans</td>\n      <td>Pacific Grove</td>\n      <td>Brooks/Cole</td>\n      <td>1996</td>\n      <td>NaN</td>\n      <td>NaN</td>\n      <td>NaN</td>\n      <td>32</td>\n      <td>NaN</td>\n      <td>NaN</td>\n      <td>NaN</td>\n      <td>2</td>\n      <td>0.0</td>\n      <td>https://opac.sub.uni-goettingen.de/DB=1/SET=2/...</td>\n      <td>0</td>\n      <td>0.0</td>\n      <td>https://opac.sub.uni-goettingen.de/DB=1/SET=2/...</td>\n    </tr>\n  </tbody>\n</table>\n</div>"
     },
     "metadata": {},
     "execution_count": 18
    }
   ],
   "source": [
    "books_donated"
   ]
  },
  {
   "source": [
    "# Results"
   ],
   "cell_type": "markdown",
   "metadata": {}
  },
  {
   "cell_type": "code",
   "execution_count": 19,
   "metadata": {},
   "outputs": [
    {
     "output_type": "execute_result",
     "data": {
      "text/plain": [
       "                            Titel           ISBN Vorname_Autor Nachname_Autor  \\\n",
       "0      The picture of Dorian Gray  9780140623222         Oscar          Wilde   \n",
       "1                    Gustav Klimt  9781402759208           NaN                  \n",
       "2    La familia de Pascual Duarte  9788423339044   Camilo José           Cela   \n",
       "3             Auf der Eidechsburg              0     Ilse-Dore         Tanner   \n",
       "4            Bayerisches Kochbuch              0         Maria        Hofmann   \n",
       "5  Centenaire de l‘Impressionisme              0           NaN                  \n",
       "6           Les parents terribles              0          Jean        Cocteau   \n",
       "7      Straightforward Statistics              0      James D.          Evans   \n",
       "\n",
       "   Erscheinungsort            Verlag Erscheinungsjahr  \\\n",
       "0           London     Penguin Books             1994   \n",
       "1  New York [u.a.]          Sterling             2008   \n",
       "2        Barcelona       Ed. Destino             2009   \n",
       "3          Leipzig       A. H. Payne            1938?   \n",
       "4          München            Birken             1950   \n",
       "5            Paris  Musées nationaux             1974   \n",
       "6            Paris         Gallimard             1938   \n",
       "7    Pacific Grove       Brooks/Cole             1996   \n",
       "\n",
       "                        nach_ISBN_Titel nach_ISBN_Sprache_Text  \\\n",
       "0           The @picture of Dorian Gray                    eng   \n",
       "1  Gustav Klimt - Art Nouveau visionary                    eng   \n",
       "2         La @familia de Pascual Duarte                    spa   \n",
       "3                                   NaN                    NaN   \n",
       "4                                   NaN                    NaN   \n",
       "5                                   NaN                    NaN   \n",
       "6                                   NaN                    NaN   \n",
       "7                                   NaN                    NaN   \n",
       "\n",
       "   nach_ISBN_Bestand_K10  nach_Titel_Bestand_K10 nach_ISBN_Bestand_Göttingen  \\\n",
       "0                    3.0                     182                           0   \n",
       "1                    2.0                     212                           0   \n",
       "2                    2.0                     141                           1   \n",
       "3                    NaN                       1                         NaN   \n",
       "4                    NaN                      41                         NaN   \n",
       "5                    NaN                       6                         NaN   \n",
       "6                    NaN                     106                         NaN   \n",
       "7                    NaN                      32                         NaN   \n",
       "\n",
       "   nach_ISBN_Bestand_SUB                                  nach_ISBN_URL_GUK  \\\n",
       "0                    0.0  https://opac.sub.uni-goettingen.de/DB=1/SET=6/...   \n",
       "1                    0.0  https://opac.sub.uni-goettingen.de/DB=1/SET=6/...   \n",
       "2                    0.0  https://opac.sub.uni-goettingen.de/DB=1/SET=6/...   \n",
       "3                    NaN                                                NaN   \n",
       "4                    NaN                                                NaN   \n",
       "5                    NaN                                                NaN   \n",
       "6                    NaN                                                NaN   \n",
       "7                    NaN                                                NaN   \n",
       "\n",
       "  nach_Titel_Bestand_Göttingen  nach_Titel_Bestand_SUB  \\\n",
       "0                           42                     8.0   \n",
       "1                           31                     1.0   \n",
       "2                            8                     0.0   \n",
       "3                            0                     0.0   \n",
       "4                            1                     0.0   \n",
       "5                            0                     0.0   \n",
       "6                            4                     1.0   \n",
       "7                            2                     0.0   \n",
       "\n",
       "                                  nach_Titel_url_GUK  \\\n",
       "0  https://opac.sub.uni-goettingen.de/DB=1/SET=2/...   \n",
       "1  https://opac.sub.uni-goettingen.de/DB=1/SET=2/...   \n",
       "2  https://opac.sub.uni-goettingen.de/DB=1/SET=2/...   \n",
       "3  https://opac.sub.uni-goettingen.de/DB=1/SET=2/...   \n",
       "4  https://opac.sub.uni-goettingen.de/DB=1/SET=2/...   \n",
       "5  https://opac.sub.uni-goettingen.de/DB=1/SET=2/...   \n",
       "6  https://opac.sub.uni-goettingen.de/DB=1/SET=2/...   \n",
       "7  https://opac.sub.uni-goettingen.de/DB=1/SET=2/...   \n",
       "\n",
       "  nach_Titel_Nachname_Autor_Bestand_Göttingen  \\\n",
       "0                                          29   \n",
       "1                                         NaN   \n",
       "2                                           5   \n",
       "3                                           0   \n",
       "4                                           0   \n",
       "5                                         NaN   \n",
       "6                                           4   \n",
       "7                                           0   \n",
       "\n",
       "   nach_Titel_Nachname_Autor_Bestand_SUB  \\\n",
       "0                                    9.0   \n",
       "1                                    0.0   \n",
       "2                                    0.0   \n",
       "3                                    0.0   \n",
       "4                                    0.0   \n",
       "5                                    0.0   \n",
       "6                                    1.0   \n",
       "7                                    0.0   \n",
       "\n",
       "                   nach_Titel_Nachname_Autor_url_GUK  \n",
       "0  https://opac.sub.uni-goettingen.de/DB=1/SET=2/...  \n",
       "1  https://opac.sub.uni-goettingen.de/DB=1/SET=2/...  \n",
       "2  https://opac.sub.uni-goettingen.de/DB=1/SET=2/...  \n",
       "3  https://opac.sub.uni-goettingen.de/DB=1/SET=2/...  \n",
       "4  https://opac.sub.uni-goettingen.de/DB=1/SET=2/...  \n",
       "5  https://opac.sub.uni-goettingen.de/DB=1/SET=2/...  \n",
       "6  https://opac.sub.uni-goettingen.de/DB=1/SET=2/...  \n",
       "7  https://opac.sub.uni-goettingen.de/DB=1/SET=2/...  "
      ],
      "text/html": "<div>\n<style scoped>\n    .dataframe tbody tr th:only-of-type {\n        vertical-align: middle;\n    }\n\n    .dataframe tbody tr th {\n        vertical-align: top;\n    }\n\n    .dataframe thead th {\n        text-align: right;\n    }\n</style>\n<table border=\"1\" class=\"dataframe\">\n  <thead>\n    <tr style=\"text-align: right;\">\n      <th></th>\n      <th>Titel</th>\n      <th>ISBN</th>\n      <th>Vorname_Autor</th>\n      <th>Nachname_Autor</th>\n      <th>Erscheinungsort</th>\n      <th>Verlag</th>\n      <th>Erscheinungsjahr</th>\n      <th>nach_ISBN_Titel</th>\n      <th>nach_ISBN_Sprache_Text</th>\n      <th>nach_ISBN_Bestand_K10</th>\n      <th>nach_Titel_Bestand_K10</th>\n      <th>nach_ISBN_Bestand_Göttingen</th>\n      <th>nach_ISBN_Bestand_SUB</th>\n      <th>nach_ISBN_URL_GUK</th>\n      <th>nach_Titel_Bestand_Göttingen</th>\n      <th>nach_Titel_Bestand_SUB</th>\n      <th>nach_Titel_url_GUK</th>\n      <th>nach_Titel_Nachname_Autor_Bestand_Göttingen</th>\n      <th>nach_Titel_Nachname_Autor_Bestand_SUB</th>\n      <th>nach_Titel_Nachname_Autor_url_GUK</th>\n    </tr>\n  </thead>\n  <tbody>\n    <tr>\n      <th>0</th>\n      <td>The picture of Dorian Gray</td>\n      <td>9780140623222</td>\n      <td>Oscar</td>\n      <td>Wilde</td>\n      <td>London</td>\n      <td>Penguin Books</td>\n      <td>1994</td>\n      <td>The @picture of Dorian Gray</td>\n      <td>eng</td>\n      <td>3.0</td>\n      <td>182</td>\n      <td>0</td>\n      <td>0.0</td>\n      <td>https://opac.sub.uni-goettingen.de/DB=1/SET=6/...</td>\n      <td>42</td>\n      <td>8.0</td>\n      <td>https://opac.sub.uni-goettingen.de/DB=1/SET=2/...</td>\n      <td>29</td>\n      <td>9.0</td>\n      <td>https://opac.sub.uni-goettingen.de/DB=1/SET=2/...</td>\n    </tr>\n    <tr>\n      <th>1</th>\n      <td>Gustav Klimt</td>\n      <td>9781402759208</td>\n      <td>NaN</td>\n      <td></td>\n      <td>New York [u.a.]</td>\n      <td>Sterling</td>\n      <td>2008</td>\n      <td>Gustav Klimt - Art Nouveau visionary</td>\n      <td>eng</td>\n      <td>2.0</td>\n      <td>212</td>\n      <td>0</td>\n      <td>0.0</td>\n      <td>https://opac.sub.uni-goettingen.de/DB=1/SET=6/...</td>\n      <td>31</td>\n      <td>1.0</td>\n      <td>https://opac.sub.uni-goettingen.de/DB=1/SET=2/...</td>\n      <td>NaN</td>\n      <td>0.0</td>\n      <td>https://opac.sub.uni-goettingen.de/DB=1/SET=2/...</td>\n    </tr>\n    <tr>\n      <th>2</th>\n      <td>La familia de Pascual Duarte</td>\n      <td>9788423339044</td>\n      <td>Camilo José</td>\n      <td>Cela</td>\n      <td>Barcelona</td>\n      <td>Ed. Destino</td>\n      <td>2009</td>\n      <td>La @familia de Pascual Duarte</td>\n      <td>spa</td>\n      <td>2.0</td>\n      <td>141</td>\n      <td>1</td>\n      <td>0.0</td>\n      <td>https://opac.sub.uni-goettingen.de/DB=1/SET=6/...</td>\n      <td>8</td>\n      <td>0.0</td>\n      <td>https://opac.sub.uni-goettingen.de/DB=1/SET=2/...</td>\n      <td>5</td>\n      <td>0.0</td>\n      <td>https://opac.sub.uni-goettingen.de/DB=1/SET=2/...</td>\n    </tr>\n    <tr>\n      <th>3</th>\n      <td>Auf der Eidechsburg</td>\n      <td>0</td>\n      <td>Ilse-Dore</td>\n      <td>Tanner</td>\n      <td>Leipzig</td>\n      <td>A. H. Payne</td>\n      <td>1938?</td>\n      <td>NaN</td>\n      <td>NaN</td>\n      <td>NaN</td>\n      <td>1</td>\n      <td>NaN</td>\n      <td>NaN</td>\n      <td>NaN</td>\n      <td>0</td>\n      <td>0.0</td>\n      <td>https://opac.sub.uni-goettingen.de/DB=1/SET=2/...</td>\n      <td>0</td>\n      <td>0.0</td>\n      <td>https://opac.sub.uni-goettingen.de/DB=1/SET=2/...</td>\n    </tr>\n    <tr>\n      <th>4</th>\n      <td>Bayerisches Kochbuch</td>\n      <td>0</td>\n      <td>Maria</td>\n      <td>Hofmann</td>\n      <td>München</td>\n      <td>Birken</td>\n      <td>1950</td>\n      <td>NaN</td>\n      <td>NaN</td>\n      <td>NaN</td>\n      <td>41</td>\n      <td>NaN</td>\n      <td>NaN</td>\n      <td>NaN</td>\n      <td>1</td>\n      <td>0.0</td>\n      <td>https://opac.sub.uni-goettingen.de/DB=1/SET=2/...</td>\n      <td>0</td>\n      <td>0.0</td>\n      <td>https://opac.sub.uni-goettingen.de/DB=1/SET=2/...</td>\n    </tr>\n    <tr>\n      <th>5</th>\n      <td>Centenaire de l‘Impressionisme</td>\n      <td>0</td>\n      <td>NaN</td>\n      <td></td>\n      <td>Paris</td>\n      <td>Musées nationaux</td>\n      <td>1974</td>\n      <td>NaN</td>\n      <td>NaN</td>\n      <td>NaN</td>\n      <td>6</td>\n      <td>NaN</td>\n      <td>NaN</td>\n      <td>NaN</td>\n      <td>0</td>\n      <td>0.0</td>\n      <td>https://opac.sub.uni-goettingen.de/DB=1/SET=2/...</td>\n      <td>NaN</td>\n      <td>0.0</td>\n      <td>https://opac.sub.uni-goettingen.de/DB=1/SET=2/...</td>\n    </tr>\n    <tr>\n      <th>6</th>\n      <td>Les parents terribles</td>\n      <td>0</td>\n      <td>Jean</td>\n      <td>Cocteau</td>\n      <td>Paris</td>\n      <td>Gallimard</td>\n      <td>1938</td>\n      <td>NaN</td>\n      <td>NaN</td>\n      <td>NaN</td>\n      <td>106</td>\n      <td>NaN</td>\n      <td>NaN</td>\n      <td>NaN</td>\n      <td>4</td>\n      <td>1.0</td>\n      <td>https://opac.sub.uni-goettingen.de/DB=1/SET=2/...</td>\n      <td>4</td>\n      <td>1.0</td>\n      <td>https://opac.sub.uni-goettingen.de/DB=1/SET=2/...</td>\n    </tr>\n    <tr>\n      <th>7</th>\n      <td>Straightforward Statistics</td>\n      <td>0</td>\n      <td>James D.</td>\n      <td>Evans</td>\n      <td>Pacific Grove</td>\n      <td>Brooks/Cole</td>\n      <td>1996</td>\n      <td>NaN</td>\n      <td>NaN</td>\n      <td>NaN</td>\n      <td>32</td>\n      <td>NaN</td>\n      <td>NaN</td>\n      <td>NaN</td>\n      <td>2</td>\n      <td>0.0</td>\n      <td>https://opac.sub.uni-goettingen.de/DB=1/SET=2/...</td>\n      <td>0</td>\n      <td>0.0</td>\n      <td>https://opac.sub.uni-goettingen.de/DB=1/SET=2/...</td>\n    </tr>\n  </tbody>\n</table>\n</div>"
     },
     "metadata": {},
     "execution_count": 19
    }
   ],
   "source": [
    "books_donated"
   ]
  },
  {
   "source": [
    "The column \"based_on_ISBN_in_GUK?\" shows that from the three books for which the donner has given a ISBN, the SUB already has one title with exactly this ISBN.\n",
    "\n",
    "The column \"based_on_Titel_in_GUK?\" shows that 5 of the seven proposal for donnation are already in our catalogue. For the other two, there are no records in the catalog for entries with these titles. The column \"based_on_Titel_number_GUK\" shows the number of different catalog entries with this title. However, perhaps these are different works that have the same title as the ones being donnated. For this reason, the librarian gets also the column \"based_on_Titel_url_GUK\" with direct links to their catalogue to consider whether these books are accepted by the library or not. \n",
    "\n",
    "The results can be exported as table (Excel or Tab-Separated Values)."
   ],
   "cell_type": "markdown",
   "metadata": {}
  },
  {
   "cell_type": "code",
   "execution_count": 20,
   "metadata": {},
   "outputs": [],
   "source": [
    "books_donated.to_excel(\"./../../data/output/Anfragen_Geschenk_Muster_Spendende_Beispiele.xlsx\")"
   ]
  },
  {
   "cell_type": "code",
   "execution_count": 21,
   "metadata": {},
   "outputs": [],
   "source": [
    "books_donated.to_csv(\"./../../data/output/Anfragen_Geschenk_Muster_Spendende_Beispiele.tsv\", sep=\"\\t\")"
   ]
  },
  {
   "cell_type": "code",
   "execution_count": 22,
   "metadata": {},
   "outputs": [
    {
     "output_type": "execute_result",
     "data": {
      "text/plain": [
       "                            Titel           ISBN Vorname_Autor Nachname_Autor  \\\n",
       "0      The picture of Dorian Gray  9780140623222         Oscar          Wilde   \n",
       "1                    Gustav Klimt  9781402759208           NaN                  \n",
       "2    La familia de Pascual Duarte  9788423339044   Camilo José           Cela   \n",
       "3             Auf der Eidechsburg              0     Ilse-Dore         Tanner   \n",
       "4            Bayerisches Kochbuch              0         Maria        Hofmann   \n",
       "5  Centenaire de l‘Impressionisme              0           NaN                  \n",
       "6           Les parents terribles              0          Jean        Cocteau   \n",
       "7      Straightforward Statistics              0      James D.          Evans   \n",
       "\n",
       "   Erscheinungsort            Verlag Erscheinungsjahr  \\\n",
       "0           London     Penguin Books             1994   \n",
       "1  New York [u.a.]          Sterling             2008   \n",
       "2        Barcelona       Ed. Destino             2009   \n",
       "3          Leipzig       A. H. Payne            1938?   \n",
       "4          München            Birken             1950   \n",
       "5            Paris  Musées nationaux             1974   \n",
       "6            Paris         Gallimard             1938   \n",
       "7    Pacific Grove       Brooks/Cole             1996   \n",
       "\n",
       "                        nach_ISBN_Titel nach_ISBN_Sprache_Text  \\\n",
       "0           The @picture of Dorian Gray                    eng   \n",
       "1  Gustav Klimt - Art Nouveau visionary                    eng   \n",
       "2         La @familia de Pascual Duarte                    spa   \n",
       "3                                   NaN                    NaN   \n",
       "4                                   NaN                    NaN   \n",
       "5                                   NaN                    NaN   \n",
       "6                                   NaN                    NaN   \n",
       "7                                   NaN                    NaN   \n",
       "\n",
       "   nach_ISBN_Bestand_K10  nach_Titel_Bestand_K10 nach_ISBN_Bestand_Göttingen  \\\n",
       "0                    3.0                     182                           0   \n",
       "1                    2.0                     212                           0   \n",
       "2                    2.0                     141                           1   \n",
       "3                    NaN                       1                         NaN   \n",
       "4                    NaN                      41                         NaN   \n",
       "5                    NaN                       6                         NaN   \n",
       "6                    NaN                     106                         NaN   \n",
       "7                    NaN                      32                         NaN   \n",
       "\n",
       "   nach_ISBN_Bestand_SUB                                  nach_ISBN_URL_GUK  \\\n",
       "0                    0.0  https://opac.sub.uni-goettingen.de/DB=1/SET=6/...   \n",
       "1                    0.0  https://opac.sub.uni-goettingen.de/DB=1/SET=6/...   \n",
       "2                    0.0  https://opac.sub.uni-goettingen.de/DB=1/SET=6/...   \n",
       "3                    NaN                                                NaN   \n",
       "4                    NaN                                                NaN   \n",
       "5                    NaN                                                NaN   \n",
       "6                    NaN                                                NaN   \n",
       "7                    NaN                                                NaN   \n",
       "\n",
       "  nach_Titel_Bestand_Göttingen  nach_Titel_Bestand_SUB  \\\n",
       "0                           42                     8.0   \n",
       "1                           31                     1.0   \n",
       "2                            8                     0.0   \n",
       "3                            0                     0.0   \n",
       "4                            1                     0.0   \n",
       "5                            0                     0.0   \n",
       "6                            4                     1.0   \n",
       "7                            2                     0.0   \n",
       "\n",
       "                                  nach_Titel_url_GUK  \\\n",
       "0  https://opac.sub.uni-goettingen.de/DB=1/SET=2/...   \n",
       "1  https://opac.sub.uni-goettingen.de/DB=1/SET=2/...   \n",
       "2  https://opac.sub.uni-goettingen.de/DB=1/SET=2/...   \n",
       "3  https://opac.sub.uni-goettingen.de/DB=1/SET=2/...   \n",
       "4  https://opac.sub.uni-goettingen.de/DB=1/SET=2/...   \n",
       "5  https://opac.sub.uni-goettingen.de/DB=1/SET=2/...   \n",
       "6  https://opac.sub.uni-goettingen.de/DB=1/SET=2/...   \n",
       "7  https://opac.sub.uni-goettingen.de/DB=1/SET=2/...   \n",
       "\n",
       "  nach_Titel_Nachname_Autor_Bestand_Göttingen  \\\n",
       "0                                          29   \n",
       "1                                         NaN   \n",
       "2                                           5   \n",
       "3                                           0   \n",
       "4                                           0   \n",
       "5                                         NaN   \n",
       "6                                           4   \n",
       "7                                           0   \n",
       "\n",
       "   nach_Titel_Nachname_Autor_Bestand_SUB  \\\n",
       "0                                    9.0   \n",
       "1                                    0.0   \n",
       "2                                    0.0   \n",
       "3                                    0.0   \n",
       "4                                    0.0   \n",
       "5                                    0.0   \n",
       "6                                    1.0   \n",
       "7                                    0.0   \n",
       "\n",
       "                   nach_Titel_Nachname_Autor_url_GUK  \n",
       "0  https://opac.sub.uni-goettingen.de/DB=1/SET=2/...  \n",
       "1  https://opac.sub.uni-goettingen.de/DB=1/SET=2/...  \n",
       "2  https://opac.sub.uni-goettingen.de/DB=1/SET=2/...  \n",
       "3  https://opac.sub.uni-goettingen.de/DB=1/SET=2/...  \n",
       "4  https://opac.sub.uni-goettingen.de/DB=1/SET=2/...  \n",
       "5  https://opac.sub.uni-goettingen.de/DB=1/SET=2/...  \n",
       "6  https://opac.sub.uni-goettingen.de/DB=1/SET=2/...  \n",
       "7  https://opac.sub.uni-goettingen.de/DB=1/SET=2/...  "
      ],
      "text/html": "<div>\n<style scoped>\n    .dataframe tbody tr th:only-of-type {\n        vertical-align: middle;\n    }\n\n    .dataframe tbody tr th {\n        vertical-align: top;\n    }\n\n    .dataframe thead th {\n        text-align: right;\n    }\n</style>\n<table border=\"1\" class=\"dataframe\">\n  <thead>\n    <tr style=\"text-align: right;\">\n      <th></th>\n      <th>Titel</th>\n      <th>ISBN</th>\n      <th>Vorname_Autor</th>\n      <th>Nachname_Autor</th>\n      <th>Erscheinungsort</th>\n      <th>Verlag</th>\n      <th>Erscheinungsjahr</th>\n      <th>nach_ISBN_Titel</th>\n      <th>nach_ISBN_Sprache_Text</th>\n      <th>nach_ISBN_Bestand_K10</th>\n      <th>nach_Titel_Bestand_K10</th>\n      <th>nach_ISBN_Bestand_Göttingen</th>\n      <th>nach_ISBN_Bestand_SUB</th>\n      <th>nach_ISBN_URL_GUK</th>\n      <th>nach_Titel_Bestand_Göttingen</th>\n      <th>nach_Titel_Bestand_SUB</th>\n      <th>nach_Titel_url_GUK</th>\n      <th>nach_Titel_Nachname_Autor_Bestand_Göttingen</th>\n      <th>nach_Titel_Nachname_Autor_Bestand_SUB</th>\n      <th>nach_Titel_Nachname_Autor_url_GUK</th>\n    </tr>\n  </thead>\n  <tbody>\n    <tr>\n      <th>0</th>\n      <td>The picture of Dorian Gray</td>\n      <td>9780140623222</td>\n      <td>Oscar</td>\n      <td>Wilde</td>\n      <td>London</td>\n      <td>Penguin Books</td>\n      <td>1994</td>\n      <td>The @picture of Dorian Gray</td>\n      <td>eng</td>\n      <td>3.0</td>\n      <td>182</td>\n      <td>0</td>\n      <td>0.0</td>\n      <td>https://opac.sub.uni-goettingen.de/DB=1/SET=6/...</td>\n      <td>42</td>\n      <td>8.0</td>\n      <td>https://opac.sub.uni-goettingen.de/DB=1/SET=2/...</td>\n      <td>29</td>\n      <td>9.0</td>\n      <td>https://opac.sub.uni-goettingen.de/DB=1/SET=2/...</td>\n    </tr>\n    <tr>\n      <th>1</th>\n      <td>Gustav Klimt</td>\n      <td>9781402759208</td>\n      <td>NaN</td>\n      <td></td>\n      <td>New York [u.a.]</td>\n      <td>Sterling</td>\n      <td>2008</td>\n      <td>Gustav Klimt - Art Nouveau visionary</td>\n      <td>eng</td>\n      <td>2.0</td>\n      <td>212</td>\n      <td>0</td>\n      <td>0.0</td>\n      <td>https://opac.sub.uni-goettingen.de/DB=1/SET=6/...</td>\n      <td>31</td>\n      <td>1.0</td>\n      <td>https://opac.sub.uni-goettingen.de/DB=1/SET=2/...</td>\n      <td>NaN</td>\n      <td>0.0</td>\n      <td>https://opac.sub.uni-goettingen.de/DB=1/SET=2/...</td>\n    </tr>\n    <tr>\n      <th>2</th>\n      <td>La familia de Pascual Duarte</td>\n      <td>9788423339044</td>\n      <td>Camilo José</td>\n      <td>Cela</td>\n      <td>Barcelona</td>\n      <td>Ed. Destino</td>\n      <td>2009</td>\n      <td>La @familia de Pascual Duarte</td>\n      <td>spa</td>\n      <td>2.0</td>\n      <td>141</td>\n      <td>1</td>\n      <td>0.0</td>\n      <td>https://opac.sub.uni-goettingen.de/DB=1/SET=6/...</td>\n      <td>8</td>\n      <td>0.0</td>\n      <td>https://opac.sub.uni-goettingen.de/DB=1/SET=2/...</td>\n      <td>5</td>\n      <td>0.0</td>\n      <td>https://opac.sub.uni-goettingen.de/DB=1/SET=2/...</td>\n    </tr>\n    <tr>\n      <th>3</th>\n      <td>Auf der Eidechsburg</td>\n      <td>0</td>\n      <td>Ilse-Dore</td>\n      <td>Tanner</td>\n      <td>Leipzig</td>\n      <td>A. H. Payne</td>\n      <td>1938?</td>\n      <td>NaN</td>\n      <td>NaN</td>\n      <td>NaN</td>\n      <td>1</td>\n      <td>NaN</td>\n      <td>NaN</td>\n      <td>NaN</td>\n      <td>0</td>\n      <td>0.0</td>\n      <td>https://opac.sub.uni-goettingen.de/DB=1/SET=2/...</td>\n      <td>0</td>\n      <td>0.0</td>\n      <td>https://opac.sub.uni-goettingen.de/DB=1/SET=2/...</td>\n    </tr>\n    <tr>\n      <th>4</th>\n      <td>Bayerisches Kochbuch</td>\n      <td>0</td>\n      <td>Maria</td>\n      <td>Hofmann</td>\n      <td>München</td>\n      <td>Birken</td>\n      <td>1950</td>\n      <td>NaN</td>\n      <td>NaN</td>\n      <td>NaN</td>\n      <td>41</td>\n      <td>NaN</td>\n      <td>NaN</td>\n      <td>NaN</td>\n      <td>1</td>\n      <td>0.0</td>\n      <td>https://opac.sub.uni-goettingen.de/DB=1/SET=2/...</td>\n      <td>0</td>\n      <td>0.0</td>\n      <td>https://opac.sub.uni-goettingen.de/DB=1/SET=2/...</td>\n    </tr>\n    <tr>\n      <th>5</th>\n      <td>Centenaire de l‘Impressionisme</td>\n      <td>0</td>\n      <td>NaN</td>\n      <td></td>\n      <td>Paris</td>\n      <td>Musées nationaux</td>\n      <td>1974</td>\n      <td>NaN</td>\n      <td>NaN</td>\n      <td>NaN</td>\n      <td>6</td>\n      <td>NaN</td>\n      <td>NaN</td>\n      <td>NaN</td>\n      <td>0</td>\n      <td>0.0</td>\n      <td>https://opac.sub.uni-goettingen.de/DB=1/SET=2/...</td>\n      <td>NaN</td>\n      <td>0.0</td>\n      <td>https://opac.sub.uni-goettingen.de/DB=1/SET=2/...</td>\n    </tr>\n    <tr>\n      <th>6</th>\n      <td>Les parents terribles</td>\n      <td>0</td>\n      <td>Jean</td>\n      <td>Cocteau</td>\n      <td>Paris</td>\n      <td>Gallimard</td>\n      <td>1938</td>\n      <td>NaN</td>\n      <td>NaN</td>\n      <td>NaN</td>\n      <td>106</td>\n      <td>NaN</td>\n      <td>NaN</td>\n      <td>NaN</td>\n      <td>4</td>\n      <td>1.0</td>\n      <td>https://opac.sub.uni-goettingen.de/DB=1/SET=2/...</td>\n      <td>4</td>\n      <td>1.0</td>\n      <td>https://opac.sub.uni-goettingen.de/DB=1/SET=2/...</td>\n    </tr>\n    <tr>\n      <th>7</th>\n      <td>Straightforward Statistics</td>\n      <td>0</td>\n      <td>James D.</td>\n      <td>Evans</td>\n      <td>Pacific Grove</td>\n      <td>Brooks/Cole</td>\n      <td>1996</td>\n      <td>NaN</td>\n      <td>NaN</td>\n      <td>NaN</td>\n      <td>32</td>\n      <td>NaN</td>\n      <td>NaN</td>\n      <td>NaN</td>\n      <td>2</td>\n      <td>0.0</td>\n      <td>https://opac.sub.uni-goettingen.de/DB=1/SET=2/...</td>\n      <td>0</td>\n      <td>0.0</td>\n      <td>https://opac.sub.uni-goettingen.de/DB=1/SET=2/...</td>\n    </tr>\n  </tbody>\n</table>\n</div>"
     },
     "metadata": {},
     "execution_count": 22
    }
   ],
   "source": [
    "books_donated"
   ]
  },
  {
   "cell_type": "code",
   "execution_count": null,
   "metadata": {},
   "outputs": [],
   "source": []
  }
 ]
}