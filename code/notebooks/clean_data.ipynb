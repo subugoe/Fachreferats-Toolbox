{
 "cells": [
  {
   "cell_type": "code",
   "execution_count": 1,
   "metadata": {},
   "outputs": [],
   "source": [
    "import sys\n",
    "import os\n",
    "import glob\n",
    "from lxml import etree\n",
    "import pandas as pd\n",
    "import numpy as np\n"
   ]
  },
  {
   "cell_type": "code",
   "execution_count": 2,
   "metadata": {},
   "outputs": [],
   "source": [
    "sys.path.append(os.path.abspath(\"./../\"))"
   ]
  },
  {
   "cell_type": "code",
   "execution_count": 3,
   "metadata": {},
   "outputs": [],
   "source": [
    "from fachreferats_functions import check_duplicates, extract_data\n",
    "\n"
   ]
  },
  {
   "cell_type": "markdown",
   "metadata": {},
   "source": [
    "## Data"
   ]
  },
  {
   "cell_type": "code",
   "execution_count": 4,
   "metadata": {},
   "outputs": [],
   "source": [
    "books_donated_1 = pd.read_excel(\"./../../data/input/Anfragen_Geschenk_Muster_Spendende_Beispiele.xlsx\").dropna(how='all', axis=1)"
   ]
  },
  {
   "cell_type": "code",
   "execution_count": 5,
   "metadata": {},
   "outputs": [
    {
     "output_type": "execute_result",
     "data": {
      "text/plain": [
       "                            Titel Vorname_Autor Nachname_Autor  \\\n",
       "0      The picture of Dorian Gray         Oscar          Wilde   \n",
       "1                    Gustav Klimt           NaN            NaN   \n",
       "2    La familia de Pascual Duarte   Camilo José           Cela   \n",
       "3             Auf der Eidechsburg     Ilse-Dore         Tanner   \n",
       "4            Bayerisches Kochbuch         Maria        Hofmann   \n",
       "5  Centenaire de l‘Impressionisme           NaN            NaN   \n",
       "6           Les parents terribles          Jean        Cocteau   \n",
       "7      Straightforward Statistics      James D.          Evans   \n",
       "\n",
       "  Erscheinungsjahr          ISBN Erscheinungsort            Verlag  \n",
       "0             1994  9.780141e+12             NaN               NaN  \n",
       "1             2008  9.781403e+12             NaN               NaN  \n",
       "2             2009  9.788423e+12             NaN               NaN  \n",
       "3            1938?           NaN         Leipzig       A. H. Payne  \n",
       "4             1950           NaN         München            Birken  \n",
       "5             1974           NaN           Paris  Musées nationaux  \n",
       "6             1938           NaN           Paris         Gallimard  \n",
       "7             1996           NaN   Pacific Grove       Brooks/Cole  "
      ],
      "text/html": "<div>\n<style scoped>\n    .dataframe tbody tr th:only-of-type {\n        vertical-align: middle;\n    }\n\n    .dataframe tbody tr th {\n        vertical-align: top;\n    }\n\n    .dataframe thead th {\n        text-align: right;\n    }\n</style>\n<table border=\"1\" class=\"dataframe\">\n  <thead>\n    <tr style=\"text-align: right;\">\n      <th></th>\n      <th>Titel</th>\n      <th>Vorname_Autor</th>\n      <th>Nachname_Autor</th>\n      <th>Erscheinungsjahr</th>\n      <th>ISBN</th>\n      <th>Erscheinungsort</th>\n      <th>Verlag</th>\n    </tr>\n  </thead>\n  <tbody>\n    <tr>\n      <th>0</th>\n      <td>The picture of Dorian Gray</td>\n      <td>Oscar</td>\n      <td>Wilde</td>\n      <td>1994</td>\n      <td>9.780141e+12</td>\n      <td>NaN</td>\n      <td>NaN</td>\n    </tr>\n    <tr>\n      <th>1</th>\n      <td>Gustav Klimt</td>\n      <td>NaN</td>\n      <td>NaN</td>\n      <td>2008</td>\n      <td>9.781403e+12</td>\n      <td>NaN</td>\n      <td>NaN</td>\n    </tr>\n    <tr>\n      <th>2</th>\n      <td>La familia de Pascual Duarte</td>\n      <td>Camilo José</td>\n      <td>Cela</td>\n      <td>2009</td>\n      <td>9.788423e+12</td>\n      <td>NaN</td>\n      <td>NaN</td>\n    </tr>\n    <tr>\n      <th>3</th>\n      <td>Auf der Eidechsburg</td>\n      <td>Ilse-Dore</td>\n      <td>Tanner</td>\n      <td>1938?</td>\n      <td>NaN</td>\n      <td>Leipzig</td>\n      <td>A. H. Payne</td>\n    </tr>\n    <tr>\n      <th>4</th>\n      <td>Bayerisches Kochbuch</td>\n      <td>Maria</td>\n      <td>Hofmann</td>\n      <td>1950</td>\n      <td>NaN</td>\n      <td>München</td>\n      <td>Birken</td>\n    </tr>\n    <tr>\n      <th>5</th>\n      <td>Centenaire de l‘Impressionisme</td>\n      <td>NaN</td>\n      <td>NaN</td>\n      <td>1974</td>\n      <td>NaN</td>\n      <td>Paris</td>\n      <td>Musées nationaux</td>\n    </tr>\n    <tr>\n      <th>6</th>\n      <td>Les parents terribles</td>\n      <td>Jean</td>\n      <td>Cocteau</td>\n      <td>1938</td>\n      <td>NaN</td>\n      <td>Paris</td>\n      <td>Gallimard</td>\n    </tr>\n    <tr>\n      <th>7</th>\n      <td>Straightforward Statistics</td>\n      <td>James D.</td>\n      <td>Evans</td>\n      <td>1996</td>\n      <td>NaN</td>\n      <td>Pacific Grove</td>\n      <td>Brooks/Cole</td>\n    </tr>\n  </tbody>\n</table>\n</div>"
     },
     "metadata": {},
     "execution_count": 5
    }
   ],
   "source": [
    "books_donated_1"
   ]
  },
  {
   "cell_type": "code",
   "execution_count": 6,
   "metadata": {},
   "outputs": [
    {
     "output_type": "execute_result",
     "data": {
      "text/plain": [
       "True"
      ]
     },
     "metadata": {},
     "execution_count": 6
    }
   ],
   "source": [
    "books_donated_1[\"ISBN\"].dtype == float"
   ]
  },
  {
   "cell_type": "code",
   "execution_count": 7,
   "metadata": {},
   "outputs": [],
   "source": [
    "books_donated_2 = pd.read_excel(\"./../../data/input/Anfragen_Geschenk_Muster_Spendende_Beispiele_mistakes.xlsx\").dropna(how='all', axis=1)"
   ]
  },
  {
   "cell_type": "code",
   "execution_count": 8,
   "metadata": {},
   "outputs": [
    {
     "output_type": "execute_result",
     "data": {
      "text/plain": [
       "                            titel Vorname_Autor Nachname_Autor  \\\n",
       "0      The picture of Dorian Gray         Oscar          Wilde   \n",
       "1                    Gustav Klimt           NaN            NaN   \n",
       "2    La familia de Pascual Duarte   Camilo José           Cela   \n",
       "3             Auf der Eidechsburg     Ilse-Dore         Tanner   \n",
       "4            Bayerisches Kochbuch         Maria        Hofmann   \n",
       "5  Centenaire de l‘Impressionisme           NaN            NaN   \n",
       "6           Les parents terribles          Jean        Cocteau   \n",
       "7      Straightforward Statistics      James D.          Evans   \n",
       "\n",
       "  Erscheinungsjahr             ISBN Erscheinungsort            Verlag  \n",
       "0             1994  '978-0140623222             NaN               NaN  \n",
       "1             2008   978-1402759208             NaN               NaN  \n",
       "2             2009   978 8423339044             NaN               NaN  \n",
       "3            1938?              NaN         Leipzig       A. H. Payne  \n",
       "4             1950              NaN         München            Birken  \n",
       "5             1974              NaN           Paris  Musées nationaux  \n",
       "6             1938              NaN           Paris         Gallimard  \n",
       "7             1996              NaN   Pacific Grove       Brooks/Cole  "
      ],
      "text/html": "<div>\n<style scoped>\n    .dataframe tbody tr th:only-of-type {\n        vertical-align: middle;\n    }\n\n    .dataframe tbody tr th {\n        vertical-align: top;\n    }\n\n    .dataframe thead th {\n        text-align: right;\n    }\n</style>\n<table border=\"1\" class=\"dataframe\">\n  <thead>\n    <tr style=\"text-align: right;\">\n      <th></th>\n      <th>titel</th>\n      <th>Vorname_Autor</th>\n      <th>Nachname_Autor</th>\n      <th>Erscheinungsjahr</th>\n      <th>ISBN</th>\n      <th>Erscheinungsort</th>\n      <th>Verlag</th>\n    </tr>\n  </thead>\n  <tbody>\n    <tr>\n      <th>0</th>\n      <td>The picture of Dorian Gray</td>\n      <td>Oscar</td>\n      <td>Wilde</td>\n      <td>1994</td>\n      <td>'978-0140623222</td>\n      <td>NaN</td>\n      <td>NaN</td>\n    </tr>\n    <tr>\n      <th>1</th>\n      <td>Gustav Klimt</td>\n      <td>NaN</td>\n      <td>NaN</td>\n      <td>2008</td>\n      <td>978-1402759208</td>\n      <td>NaN</td>\n      <td>NaN</td>\n    </tr>\n    <tr>\n      <th>2</th>\n      <td>La familia de Pascual Duarte</td>\n      <td>Camilo José</td>\n      <td>Cela</td>\n      <td>2009</td>\n      <td>978 8423339044</td>\n      <td>NaN</td>\n      <td>NaN</td>\n    </tr>\n    <tr>\n      <th>3</th>\n      <td>Auf der Eidechsburg</td>\n      <td>Ilse-Dore</td>\n      <td>Tanner</td>\n      <td>1938?</td>\n      <td>NaN</td>\n      <td>Leipzig</td>\n      <td>A. H. Payne</td>\n    </tr>\n    <tr>\n      <th>4</th>\n      <td>Bayerisches Kochbuch</td>\n      <td>Maria</td>\n      <td>Hofmann</td>\n      <td>1950</td>\n      <td>NaN</td>\n      <td>München</td>\n      <td>Birken</td>\n    </tr>\n    <tr>\n      <th>5</th>\n      <td>Centenaire de l‘Impressionisme</td>\n      <td>NaN</td>\n      <td>NaN</td>\n      <td>1974</td>\n      <td>NaN</td>\n      <td>Paris</td>\n      <td>Musées nationaux</td>\n    </tr>\n    <tr>\n      <th>6</th>\n      <td>Les parents terribles</td>\n      <td>Jean</td>\n      <td>Cocteau</td>\n      <td>1938</td>\n      <td>NaN</td>\n      <td>Paris</td>\n      <td>Gallimard</td>\n    </tr>\n    <tr>\n      <th>7</th>\n      <td>Straightforward Statistics</td>\n      <td>James D.</td>\n      <td>Evans</td>\n      <td>1996</td>\n      <td>NaN</td>\n      <td>Pacific Grove</td>\n      <td>Brooks/Cole</td>\n    </tr>\n  </tbody>\n</table>\n</div>"
     },
     "metadata": {},
     "execution_count": 8
    }
   ],
   "source": [
    "books_donated_2 "
   ]
  },
  {
   "cell_type": "code",
   "execution_count": 9,
   "metadata": {},
   "outputs": [
    {
     "output_type": "execute_result",
     "data": {
      "text/plain": [
       "True"
      ]
     },
     "metadata": {},
     "execution_count": 9
    }
   ],
   "source": [
    "books_donated_2[\" ISBN\"].dtypes == \"object\""
   ]
  },
  {
   "cell_type": "code",
   "execution_count": 10,
   "metadata": {},
   "outputs": [],
   "source": [
    "books_donated_3 = pd.read_excel(\"./../../data/input/Anfragen_Geschenk_Muster_Spendende_Beispiele_only_isbn.xlsx\").dropna(how='all', axis=1)"
   ]
  },
  {
   "cell_type": "code",
   "execution_count": 11,
   "metadata": {},
   "outputs": [
    {
     "output_type": "execute_result",
     "data": {
      "text/plain": [
       "                          Titel Vorname_Autor Nachname_Autor  \\\n",
       "0    The picture of Dorian Gray         Oscar          Wilde   \n",
       "1                  Gustav Klimt           NaN            NaN   \n",
       "2  La familia de Pascual Duarte   Camilo José           Cela   \n",
       "\n",
       "   Erscheinungsjahr           ISBN  \n",
       "0              1994  9780140623222  \n",
       "1              2008  9781402759208  \n",
       "2              2009  9788423339044  "
      ],
      "text/html": "<div>\n<style scoped>\n    .dataframe tbody tr th:only-of-type {\n        vertical-align: middle;\n    }\n\n    .dataframe tbody tr th {\n        vertical-align: top;\n    }\n\n    .dataframe thead th {\n        text-align: right;\n    }\n</style>\n<table border=\"1\" class=\"dataframe\">\n  <thead>\n    <tr style=\"text-align: right;\">\n      <th></th>\n      <th>Titel</th>\n      <th>Vorname_Autor</th>\n      <th>Nachname_Autor</th>\n      <th>Erscheinungsjahr</th>\n      <th>ISBN</th>\n    </tr>\n  </thead>\n  <tbody>\n    <tr>\n      <th>0</th>\n      <td>The picture of Dorian Gray</td>\n      <td>Oscar</td>\n      <td>Wilde</td>\n      <td>1994</td>\n      <td>9780140623222</td>\n    </tr>\n    <tr>\n      <th>1</th>\n      <td>Gustav Klimt</td>\n      <td>NaN</td>\n      <td>NaN</td>\n      <td>2008</td>\n      <td>9781402759208</td>\n    </tr>\n    <tr>\n      <th>2</th>\n      <td>La familia de Pascual Duarte</td>\n      <td>Camilo José</td>\n      <td>Cela</td>\n      <td>2009</td>\n      <td>9788423339044</td>\n    </tr>\n  </tbody>\n</table>\n</div>"
     },
     "metadata": {},
     "execution_count": 11
    }
   ],
   "source": [
    "books_donated_3"
   ]
  },
  {
   "cell_type": "code",
   "execution_count": 12,
   "metadata": {},
   "outputs": [
    {
     "output_type": "execute_result",
     "data": {
      "text/plain": [
       "0    9780140623222\n",
       "1    9781402759208\n",
       "2    9788423339044\n",
       "Name: ISBN, dtype: int64"
      ]
     },
     "metadata": {},
     "execution_count": 12
    }
   ],
   "source": [
    "books_donated_3[\"ISBN\"]"
   ]
  },
  {
   "cell_type": "code",
   "execution_count": 13,
   "metadata": {},
   "outputs": [
    {
     "output_type": "error",
     "ename": "NameError",
     "evalue": "name 'books_donated' is not defined",
     "traceback": [
      "\u001b[1;31m---------------------------------------------------------------------------\u001b[0m",
      "\u001b[1;31mNameError\u001b[0m                                 Traceback (most recent call last)",
      "\u001b[1;32m<ipython-input-13-c4bab4f40552>\u001b[0m in \u001b[0;36m<module>\u001b[1;34m\u001b[0m\n\u001b[0;32m      1\u001b[0m \u001b[1;31m# Wenn die ISBNs der Tabelle als Zahl mit Exponent formatiert ist, nutze:\u001b[0m\u001b[1;33m\u001b[0m\u001b[1;33m\u001b[0m\u001b[1;33m\u001b[0m\u001b[0m\n\u001b[1;32m----> 2\u001b[1;33m \u001b[0mbooks_donated\u001b[0m\u001b[1;33m[\u001b[0m\u001b[1;34m\"ISBN\"\u001b[0m\u001b[1;33m]\u001b[0m \u001b[1;33m=\u001b[0m \u001b[0mbooks_donated\u001b[0m\u001b[1;33m[\u001b[0m\u001b[1;34m\"ISBN\"\u001b[0m\u001b[1;33m]\u001b[0m\u001b[1;33m.\u001b[0m\u001b[0mfillna\u001b[0m\u001b[1;33m(\u001b[0m\u001b[1;36m0\u001b[0m\u001b[1;33m)\u001b[0m\u001b[1;33m.\u001b[0m\u001b[0mastype\u001b[0m\u001b[1;33m(\u001b[0m\u001b[1;34m'Int64'\u001b[0m\u001b[1;33m)\u001b[0m\u001b[1;33m.\u001b[0m\u001b[0mastype\u001b[0m\u001b[1;33m(\u001b[0m\u001b[0mstr\u001b[0m\u001b[1;33m)\u001b[0m\u001b[1;33m\u001b[0m\u001b[1;33m\u001b[0m\u001b[0m\n\u001b[0m\u001b[0;32m      3\u001b[0m \u001b[1;33m\u001b[0m\u001b[0m\n\u001b[0;32m      4\u001b[0m \u001b[1;31m# Wenn die ISBNs der Tabelle als Text formatiert ist, nutze:\u001b[0m\u001b[1;33m\u001b[0m\u001b[1;33m\u001b[0m\u001b[1;33m\u001b[0m\u001b[0m\n\u001b[0;32m      5\u001b[0m \u001b[1;31m# books_donated[\"ISBN\"] = books_donated[\"ISBN\"].astype(str)\u001b[0m\u001b[1;33m\u001b[0m\u001b[1;33m\u001b[0m\u001b[1;33m\u001b[0m\u001b[0m\n",
      "\u001b[1;31mNameError\u001b[0m: name 'books_donated' is not defined"
     ]
    }
   ],
   "source": [
    "# Wenn die ISBNs der Tabelle als Zahl mit Exponent formatiert ist, nutze:\n",
    "books_donated[\"ISBN\"] = books_donated[\"ISBN\"].fillna(0).astype('Int64').astype(str)\n",
    "\n",
    "# Wenn die ISBNs der Tabelle als Text formatiert ist, nutze:\n",
    "# books_donated[\"ISBN\"] = books_donated[\"ISBN\"].astype(str)\n"
   ]
  },
  {
   "cell_type": "code",
   "execution_count": 63,
   "metadata": {},
   "outputs": [
    {
     "output_type": "execute_result",
     "data": {
      "text/plain": [
       "'a'"
      ]
     },
     "metadata": {},
     "execution_count": 63
    }
   ],
   "source": [
    "\"A\".lower()"
   ]
  },
  {
   "cell_type": "code",
   "execution_count": 63,
   "metadata": {},
   "outputs": [],
   "source": [
    "\n"
   ]
  },
  {
   "cell_type": "code",
   "execution_count": null,
   "metadata": {},
   "outputs": [],
   "source": []
  },
  {
   "cell_type": "code",
   "execution_count": 68,
   "metadata": {},
   "outputs": [],
   "source": [
    "def identify_ISBN_column(df):\n",
    "    if \"ISBN\" not in df.columns.tolist() and len([column for column in df.columns.tolist() if \"isbn\" in column.lower()]) > 1:\n",
    "        print(\"Your table contains several columns for ISBN and none of them is just called 'ISBN'. Please, open the table in Excel and Calc and the column that you want to use for the checking 'ISBN', and read the table again with your Jupyter Notebook. Otherwise it won't work.\")\n",
    "\n",
    "\n",
    "def strip_columns(df):\n",
    "    if \" \" in [column[0] for column in df.columns.tolist()] or \" \" in [column[-1] for column in df.columns.tolist()]:\n",
    "        print(\"One column has whitespace before or after the name of the column. This white space is going to be deleted.\")\n",
    "        for column in df.columns.tolist():\n",
    "            if column[0] == \" \" or column[-1] == \" \":\n",
    "                print(\"Deleting white space in '\" + column + \"'\")\n",
    "                df.rename(columns = {column: column.strip()}, inplace = True)\n",
    "    return df\n",
    "\n",
    "def try_to_find_missing_columns(df, mandatory_columns):\n",
    "    for mantadory_column_name, mantadory_column_alternatives  in mandatory_columns.items():\n",
    "        if mantadory_column_name not in df.columns.tolist():\n",
    "            print(\"The column \", mantadory_column_name, \" is mandatory but missing in the table. We are going to try to find another one in the table that contains this information, but perhaps this creates errors!\")\n",
    "            for mantadory_column_alternative in mantadory_column_alternatives:\n",
    "                if mantadory_column_alternative in df.columns.tolist():\n",
    "                    print(\"Replacing \", mantadory_column_alternative, \" with \", mantadory_column_name)\n",
    "                    df.rename(columns = {mantadory_column_alternative: mantadory_column_name}, inplace = True)\n",
    "    return df\n",
    "\n",
    "\n",
    "def convert_ISBN_to_str(df):\n",
    "    if df[\"ISBN\"].dtype == float:\n",
    "        print(\"Changing ISBN type to float to str\")\n",
    "        df[\"ISBN\"] = df[\"ISBN\"].fillna(0).astype('Int64').astype(str)\n",
    "        \n",
    "    if df[\"ISBN\"].dtype == int or df[\"ISBN\"].dtype == \"int64\":\n",
    "        print(\"Changing ISBN type to int to str\")\n",
    "        df[\"ISBN\"] = df[\"ISBN\"].astype(str)\n",
    "    return df\n",
    "\n",
    "def clean_ISBN(df):\n",
    "    df[\"ISBN\"] = df[\"ISBN\"].str.replace(r\"\\D\", \"\", regex=True)\n",
    "    return df\n",
    "\n",
    "def clean_data(\n",
    "    df,\n",
    "    mandatory_columns =\n",
    "        {\n",
    "            \"Titel\" : [\"titel\", \"title\"],\n",
    "            \"Vorname_Autor\" : [\"vorname_autor\", \"vorname\", \"Vorname\"],\n",
    "            \"Nachname_Autor\": [\"nachname_autor\", \"author\", ],\n",
    "            \"Erscheinungsjahr\" : [\"erscheinungsjahr\", \"jahr\"],\n",
    "            \"ISBN\" : [\"isbn\", \"isbn-10\", \"ISBN-10\"]\n",
    "        },\n",
    "    ):\n",
    "\n",
    "    identify_ISBN_column(df)\n",
    "\n",
    "    df = strip_columns(df)\n",
    "\n",
    "    df = try_to_find_missing_columns(df, mandatory_columns)\n",
    "\n",
    "    df = convert_ISBN_to_str(df)\n",
    "\n",
    "    df = clean_ISBN(df)\n",
    "\n",
    "    return df\n",
    "    \n"
   ]
  },
  {
   "cell_type": "code",
   "execution_count": 72,
   "metadata": {},
   "outputs": [],
   "source": [
    "books_donated_1 = clean_data(books_donated_1)"
   ]
  },
  {
   "cell_type": "code",
   "execution_count": 73,
   "metadata": {},
   "outputs": [],
   "source": [
    "books_donated_1"
   ]
  },
  {
   "cell_type": "code",
   "execution_count": 70,
   "metadata": {},
   "outputs": [],
   "source": [
    "clean_data(books_donated_2)"
   ]
  },
  {
   "cell_type": "code",
   "execution_count": 71,
   "metadata": {},
   "outputs": [
    {
     "output_type": "execute_result",
     "data": {
      "text/plain": [
       "                          Titel Vorname_Autor Nachname_Autor  \\\n",
       "0    The picture of Dorian Gray         Oscar          Wilde   \n",
       "1                  Gustav Klimt           NaN            NaN   \n",
       "2  La familia de Pascual Duarte   Camilo José           Cela   \n",
       "\n",
       "   Erscheinungsjahr           ISBN  \n",
       "0              1994  9780140623222  \n",
       "1              2008  9781402759208  \n",
       "2              2009  9788423339044  "
      ],
      "text/html": "<div>\n<style scoped>\n    .dataframe tbody tr th:only-of-type {\n        vertical-align: middle;\n    }\n\n    .dataframe tbody tr th {\n        vertical-align: top;\n    }\n\n    .dataframe thead th {\n        text-align: right;\n    }\n</style>\n<table border=\"1\" class=\"dataframe\">\n  <thead>\n    <tr style=\"text-align: right;\">\n      <th></th>\n      <th>Titel</th>\n      <th>Vorname_Autor</th>\n      <th>Nachname_Autor</th>\n      <th>Erscheinungsjahr</th>\n      <th>ISBN</th>\n    </tr>\n  </thead>\n  <tbody>\n    <tr>\n      <th>0</th>\n      <td>The picture of Dorian Gray</td>\n      <td>Oscar</td>\n      <td>Wilde</td>\n      <td>1994</td>\n      <td>9780140623222</td>\n    </tr>\n    <tr>\n      <th>1</th>\n      <td>Gustav Klimt</td>\n      <td>NaN</td>\n      <td>NaN</td>\n      <td>2008</td>\n      <td>9781402759208</td>\n    </tr>\n    <tr>\n      <th>2</th>\n      <td>La familia de Pascual Duarte</td>\n      <td>Camilo José</td>\n      <td>Cela</td>\n      <td>2009</td>\n      <td>9788423339044</td>\n    </tr>\n  </tbody>\n</table>\n</div>"
     },
     "metadata": {},
     "execution_count": 71
    }
   ],
   "source": [
    "books_donated_3"
   ]
  },
  {
   "cell_type": "code",
   "execution_count": 67,
   "metadata": {},
   "outputs": [
    {
     "output_type": "stream",
     "name": "stdout",
     "text": [
      "Changing ISBN type to int to str\n"
     ]
    },
    {
     "output_type": "execute_result",
     "data": {
      "text/plain": [
       "                          Titel Vorname_Autor Nachname_Autor  \\\n",
       "0    The picture of Dorian Gray         Oscar          Wilde   \n",
       "1                  Gustav Klimt           NaN            NaN   \n",
       "2  La familia de Pascual Duarte   Camilo José           Cela   \n",
       "\n",
       "   Erscheinungsjahr           ISBN  \n",
       "0              1994  9780140623222  \n",
       "1              2008  9781402759208  \n",
       "2              2009  9788423339044  "
      ],
      "text/html": "<div>\n<style scoped>\n    .dataframe tbody tr th:only-of-type {\n        vertical-align: middle;\n    }\n\n    .dataframe tbody tr th {\n        vertical-align: top;\n    }\n\n    .dataframe thead th {\n        text-align: right;\n    }\n</style>\n<table border=\"1\" class=\"dataframe\">\n  <thead>\n    <tr style=\"text-align: right;\">\n      <th></th>\n      <th>Titel</th>\n      <th>Vorname_Autor</th>\n      <th>Nachname_Autor</th>\n      <th>Erscheinungsjahr</th>\n      <th>ISBN</th>\n    </tr>\n  </thead>\n  <tbody>\n    <tr>\n      <th>0</th>\n      <td>The picture of Dorian Gray</td>\n      <td>Oscar</td>\n      <td>Wilde</td>\n      <td>1994</td>\n      <td>9780140623222</td>\n    </tr>\n    <tr>\n      <th>1</th>\n      <td>Gustav Klimt</td>\n      <td>NaN</td>\n      <td>NaN</td>\n      <td>2008</td>\n      <td>9781402759208</td>\n    </tr>\n    <tr>\n      <th>2</th>\n      <td>La familia de Pascual Duarte</td>\n      <td>Camilo José</td>\n      <td>Cela</td>\n      <td>2009</td>\n      <td>9788423339044</td>\n    </tr>\n  </tbody>\n</table>\n</div>"
     },
     "metadata": {},
     "execution_count": 67
    }
   ],
   "source": [
    "clean_data(books_donated_3)"
   ]
  },
  {
   "cell_type": "code",
   "execution_count": null,
   "metadata": {},
   "outputs": [],
   "source": []
  }
 ],
 "metadata": {
  "kernelspec": {
   "name": "python3",
   "display_name": "Python 3.7.6 64-bit ('base': conda)"
  },
  "language_info": {
   "codemirror_mode": {
    "name": "ipython",
    "version": 3
   },
   "file_extension": ".py",
   "mimetype": "text/x-python",
   "name": "python",
   "nbconvert_exporter": "python",
   "pygments_lexer": "ipython3",
   "version": "3.7.6"
  },
  "interpreter": {
   "hash": "960f4d658457e0296618a96ff118bd2cbd6b6fed4373572a098ed4ec5a9be4c3"
  }
 },
 "nbformat": 4,
 "nbformat_minor": 2
}