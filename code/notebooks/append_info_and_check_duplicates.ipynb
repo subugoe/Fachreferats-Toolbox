{
 "cells": [
  {
   "cell_type": "markdown",
   "metadata": {},
   "source": [
    "# Explanation\n",
    "\n",
    "This is a Jupyter Notebook to explain the function `check_duplicates.py` and `extract_data.py`. To use a specific user case, we assume that a person wants to donate some books to the library. We have provided the doner with a Excel template with a series of columns already defined. The person sends us this table filled. This can be found in `Fachreferats-Toolbox/data/input/Anfragen_Geschenk_Muster_Spendende_Beispiele.xlsx`.\n",
    "\n",
    "\n",
    "To run this, you can download the repository and run this Jupyter Notebook. However, your computer should have Python and specific Python libraries installed (for example lxml).\n",
    "\n",
    "If you have access to it, you can use the Jupyter Notebook service offered by the GWDG: https://jupyter-cloud.gwdg.de/welcome/"
   ]
  },
  {
   "cell_type": "markdown",
   "metadata": {},
   "source": [
    "# Import"
   ]
  },
  {
   "cell_type": "markdown",
   "metadata": {},
   "source": [
    "## Libraries and Functions"
   ]
  },
  {
   "cell_type": "code",
   "execution_count": 1,
   "metadata": {},
   "outputs": [],
   "source": [
    "import sys\n",
    "import os\n",
    "import glob\n",
    "from lxml import etree\n",
    "import pandas as pd\n",
    "import numpy as np\n"
   ]
  },
  {
   "cell_type": "code",
   "execution_count": 2,
   "metadata": {},
   "outputs": [],
   "source": [
    "sys.path.append(os.path.abspath(\"./../\"))"
   ]
  },
  {
   "cell_type": "code",
   "execution_count": 3,
   "metadata": {},
   "outputs": [],
   "source": [
    "from fachreferats_functions import check_duplicates, extract_data\n",
    "\n"
   ]
  },
  {
   "cell_type": "markdown",
   "metadata": {},
   "source": [
    "## Data"
   ]
  },
  {
   "cell_type": "code",
   "execution_count": 4,
   "metadata": {},
   "outputs": [],
   "source": [
    "books_donated = pd.read_excel(\"./../../data/input/Anfragen_Geschenk_Muster_Spendende_Beispiele.xlsx\")"
   ]
  },
  {
   "cell_type": "code",
   "execution_count": 5,
   "metadata": {},
   "outputs": [
    {
     "output_type": "execute_result",
     "data": {
      "text/plain": [
       "                            Titel Vorname_Autor Nachname_Autor  \\\n",
       "0      The picture of Dorian Gray         Oscar          Wilde   \n",
       "1                    Gustav Klimt           NaN            NaN   \n",
       "2    La familia de Pascual Duarte   Camilo José           Cela   \n",
       "3             Auf der Eidechsburg     Ilse-Dore         Tanner   \n",
       "4            Bayerisches Kochbuch         Maria        Hofmann   \n",
       "5  Centenaire de l‘Impressionisme           NaN            NaN   \n",
       "6           Les parents terribles          Jean        Cocteau   \n",
       "7      Straightforward Statistics      James D.          Evans   \n",
       "\n",
       "  Erscheinungsjahr          ISBN Erscheinungsort            Verlag  \n",
       "0             1994  9.780141e+12             NaN               NaN  \n",
       "1             2008  9.781403e+12             NaN               NaN  \n",
       "2             2009  9.788423e+12             NaN               NaN  \n",
       "3            1938?           NaN         Leipzig       A. H. Payne  \n",
       "4             1950           NaN         München            Birken  \n",
       "5             1974           NaN           Paris  Musées nationaux  \n",
       "6             1938           NaN           Paris         Gallimard  \n",
       "7             1996           NaN   Pacific Grove       Brooks/Cole  "
      ],
      "text/html": "<div>\n<style scoped>\n    .dataframe tbody tr th:only-of-type {\n        vertical-align: middle;\n    }\n\n    .dataframe tbody tr th {\n        vertical-align: top;\n    }\n\n    .dataframe thead th {\n        text-align: right;\n    }\n</style>\n<table border=\"1\" class=\"dataframe\">\n  <thead>\n    <tr style=\"text-align: right;\">\n      <th></th>\n      <th>Titel</th>\n      <th>Vorname_Autor</th>\n      <th>Nachname_Autor</th>\n      <th>Erscheinungsjahr</th>\n      <th>ISBN</th>\n      <th>Erscheinungsort</th>\n      <th>Verlag</th>\n    </tr>\n  </thead>\n  <tbody>\n    <tr>\n      <th>0</th>\n      <td>The picture of Dorian Gray</td>\n      <td>Oscar</td>\n      <td>Wilde</td>\n      <td>1994</td>\n      <td>9.780141e+12</td>\n      <td>NaN</td>\n      <td>NaN</td>\n    </tr>\n    <tr>\n      <th>1</th>\n      <td>Gustav Klimt</td>\n      <td>NaN</td>\n      <td>NaN</td>\n      <td>2008</td>\n      <td>9.781403e+12</td>\n      <td>NaN</td>\n      <td>NaN</td>\n    </tr>\n    <tr>\n      <th>2</th>\n      <td>La familia de Pascual Duarte</td>\n      <td>Camilo José</td>\n      <td>Cela</td>\n      <td>2009</td>\n      <td>9.788423e+12</td>\n      <td>NaN</td>\n      <td>NaN</td>\n    </tr>\n    <tr>\n      <th>3</th>\n      <td>Auf der Eidechsburg</td>\n      <td>Ilse-Dore</td>\n      <td>Tanner</td>\n      <td>1938?</td>\n      <td>NaN</td>\n      <td>Leipzig</td>\n      <td>A. H. Payne</td>\n    </tr>\n    <tr>\n      <th>4</th>\n      <td>Bayerisches Kochbuch</td>\n      <td>Maria</td>\n      <td>Hofmann</td>\n      <td>1950</td>\n      <td>NaN</td>\n      <td>München</td>\n      <td>Birken</td>\n    </tr>\n    <tr>\n      <th>5</th>\n      <td>Centenaire de l‘Impressionisme</td>\n      <td>NaN</td>\n      <td>NaN</td>\n      <td>1974</td>\n      <td>NaN</td>\n      <td>Paris</td>\n      <td>Musées nationaux</td>\n    </tr>\n    <tr>\n      <th>6</th>\n      <td>Les parents terribles</td>\n      <td>Jean</td>\n      <td>Cocteau</td>\n      <td>1938</td>\n      <td>NaN</td>\n      <td>Paris</td>\n      <td>Gallimard</td>\n    </tr>\n    <tr>\n      <th>7</th>\n      <td>Straightforward Statistics</td>\n      <td>James D.</td>\n      <td>Evans</td>\n      <td>1996</td>\n      <td>NaN</td>\n      <td>Pacific Grove</td>\n      <td>Brooks/Cole</td>\n    </tr>\n  </tbody>\n</table>\n</div>"
     },
     "metadata": {},
     "execution_count": 5
    }
   ],
   "source": [
    "books_donated"
   ]
  },
  {
   "cell_type": "code",
   "execution_count": 6,
   "metadata": {},
   "outputs": [],
   "source": [
    "books_donated[\"ISBN\"] = books_donated[\"ISBN\"].fillna(0).astype('Int64').astype(str)\n"
   ]
  },
  {
   "cell_type": "code",
   "execution_count": 7,
   "metadata": {},
   "outputs": [],
   "source": [
    "books_donated[\"Nachname_Autor\"].fillna(\"\", inplace=True)"
   ]
  },
  {
   "cell_type": "code",
   "execution_count": 8,
   "metadata": {},
   "outputs": [
    {
     "output_type": "execute_result",
     "data": {
      "text/plain": [
       "                            Titel Vorname_Autor Nachname_Autor  \\\n",
       "0      The picture of Dorian Gray         Oscar          Wilde   \n",
       "1                    Gustav Klimt           NaN                  \n",
       "2    La familia de Pascual Duarte   Camilo José           Cela   \n",
       "3             Auf der Eidechsburg     Ilse-Dore         Tanner   \n",
       "4            Bayerisches Kochbuch         Maria        Hofmann   \n",
       "5  Centenaire de l‘Impressionisme           NaN                  \n",
       "6           Les parents terribles          Jean        Cocteau   \n",
       "7      Straightforward Statistics      James D.          Evans   \n",
       "\n",
       "  Erscheinungsjahr           ISBN Erscheinungsort            Verlag  \n",
       "0             1994  9780140623222             NaN               NaN  \n",
       "1             2008  9781402759208             NaN               NaN  \n",
       "2             2009  9788423339044             NaN               NaN  \n",
       "3            1938?              0         Leipzig       A. H. Payne  \n",
       "4             1950              0         München            Birken  \n",
       "5             1974              0           Paris  Musées nationaux  \n",
       "6             1938              0           Paris         Gallimard  \n",
       "7             1996              0   Pacific Grove       Brooks/Cole  "
      ],
      "text/html": "<div>\n<style scoped>\n    .dataframe tbody tr th:only-of-type {\n        vertical-align: middle;\n    }\n\n    .dataframe tbody tr th {\n        vertical-align: top;\n    }\n\n    .dataframe thead th {\n        text-align: right;\n    }\n</style>\n<table border=\"1\" class=\"dataframe\">\n  <thead>\n    <tr style=\"text-align: right;\">\n      <th></th>\n      <th>Titel</th>\n      <th>Vorname_Autor</th>\n      <th>Nachname_Autor</th>\n      <th>Erscheinungsjahr</th>\n      <th>ISBN</th>\n      <th>Erscheinungsort</th>\n      <th>Verlag</th>\n    </tr>\n  </thead>\n  <tbody>\n    <tr>\n      <th>0</th>\n      <td>The picture of Dorian Gray</td>\n      <td>Oscar</td>\n      <td>Wilde</td>\n      <td>1994</td>\n      <td>9780140623222</td>\n      <td>NaN</td>\n      <td>NaN</td>\n    </tr>\n    <tr>\n      <th>1</th>\n      <td>Gustav Klimt</td>\n      <td>NaN</td>\n      <td></td>\n      <td>2008</td>\n      <td>9781402759208</td>\n      <td>NaN</td>\n      <td>NaN</td>\n    </tr>\n    <tr>\n      <th>2</th>\n      <td>La familia de Pascual Duarte</td>\n      <td>Camilo José</td>\n      <td>Cela</td>\n      <td>2009</td>\n      <td>9788423339044</td>\n      <td>NaN</td>\n      <td>NaN</td>\n    </tr>\n    <tr>\n      <th>3</th>\n      <td>Auf der Eidechsburg</td>\n      <td>Ilse-Dore</td>\n      <td>Tanner</td>\n      <td>1938?</td>\n      <td>0</td>\n      <td>Leipzig</td>\n      <td>A. H. Payne</td>\n    </tr>\n    <tr>\n      <th>4</th>\n      <td>Bayerisches Kochbuch</td>\n      <td>Maria</td>\n      <td>Hofmann</td>\n      <td>1950</td>\n      <td>0</td>\n      <td>München</td>\n      <td>Birken</td>\n    </tr>\n    <tr>\n      <th>5</th>\n      <td>Centenaire de l‘Impressionisme</td>\n      <td>NaN</td>\n      <td></td>\n      <td>1974</td>\n      <td>0</td>\n      <td>Paris</td>\n      <td>Musées nationaux</td>\n    </tr>\n    <tr>\n      <th>6</th>\n      <td>Les parents terribles</td>\n      <td>Jean</td>\n      <td>Cocteau</td>\n      <td>1938</td>\n      <td>0</td>\n      <td>Paris</td>\n      <td>Gallimard</td>\n    </tr>\n    <tr>\n      <th>7</th>\n      <td>Straightforward Statistics</td>\n      <td>James D.</td>\n      <td>Evans</td>\n      <td>1996</td>\n      <td>0</td>\n      <td>Pacific Grove</td>\n      <td>Brooks/Cole</td>\n    </tr>\n  </tbody>\n</table>\n</div>"
     },
     "metadata": {},
     "execution_count": 8
    }
   ],
   "source": [
    "books_donated"
   ]
  },
  {
   "cell_type": "markdown",
   "metadata": {},
   "source": [
    "# Extract Data\n",
    "\n",
    "In the following cells, we add several fields to the table using the ISBN when we can find it, or the title if not."
   ]
  },
  {
   "cell_type": "code",
   "execution_count": 9,
   "metadata": {},
   "outputs": [],
   "source": [
    "books_donated = extract_data.extract_fields_with_isbn( books_donated)"
   ]
  },
  {
   "cell_type": "code",
   "execution_count": 10,
   "metadata": {},
   "outputs": [
    {
     "output_type": "execute_result",
     "data": {
      "text/plain": [
       "                            Titel Vorname_Autor Nachname_Autor  \\\n",
       "0      The picture of Dorian Gray         Oscar          Wilde   \n",
       "1                    Gustav Klimt           NaN                  \n",
       "2    La familia de Pascual Duarte   Camilo José           Cela   \n",
       "3             Auf der Eidechsburg     Ilse-Dore         Tanner   \n",
       "4            Bayerisches Kochbuch         Maria        Hofmann   \n",
       "5  Centenaire de l‘Impressionisme           NaN                  \n",
       "6           Les parents terribles          Jean        Cocteau   \n",
       "7      Straightforward Statistics      James D.          Evans   \n",
       "\n",
       "  Erscheinungsjahr           ISBN  Erscheinungsort            Verlag  \\\n",
       "0             1994  9780140623222           London     Penguin Books   \n",
       "1             2008  9781402759208  New York [u.a.]          Sterling   \n",
       "2             2009  9788423339044        Barcelona       Ed. Destino   \n",
       "3            1938?              0          Leipzig       A. H. Payne   \n",
       "4             1950              0          München            Birken   \n",
       "5             1974              0            Paris  Musées nationaux   \n",
       "6             1938              0            Paris         Gallimard   \n",
       "7             1996              0    Pacific Grove       Brooks/Cole   \n",
       "\n",
       "                        nach_ISBN_Titel nach_ISBN_Sprache_Text  \\\n",
       "0           The @picture of Dorian Gray                    eng   \n",
       "1  Gustav Klimt - Art Nouveau visionary                    eng   \n",
       "2         La @familia de Pascual Duarte                    spa   \n",
       "3                                   NaN                    NaN   \n",
       "4                                   NaN                    NaN   \n",
       "5                                   NaN                    NaN   \n",
       "6                                   NaN                    NaN   \n",
       "7                                   NaN                    NaN   \n",
       "\n",
       "   nach_ISBN_Bestand_K10  \n",
       "0                    3.0  \n",
       "1                    2.0  \n",
       "2                    2.0  \n",
       "3                    NaN  \n",
       "4                    NaN  \n",
       "5                    NaN  \n",
       "6                    NaN  \n",
       "7                    NaN  "
      ],
      "text/html": "<div>\n<style scoped>\n    .dataframe tbody tr th:only-of-type {\n        vertical-align: middle;\n    }\n\n    .dataframe tbody tr th {\n        vertical-align: top;\n    }\n\n    .dataframe thead th {\n        text-align: right;\n    }\n</style>\n<table border=\"1\" class=\"dataframe\">\n  <thead>\n    <tr style=\"text-align: right;\">\n      <th></th>\n      <th>Titel</th>\n      <th>Vorname_Autor</th>\n      <th>Nachname_Autor</th>\n      <th>Erscheinungsjahr</th>\n      <th>ISBN</th>\n      <th>Erscheinungsort</th>\n      <th>Verlag</th>\n      <th>nach_ISBN_Titel</th>\n      <th>nach_ISBN_Sprache_Text</th>\n      <th>nach_ISBN_Bestand_K10</th>\n    </tr>\n  </thead>\n  <tbody>\n    <tr>\n      <th>0</th>\n      <td>The picture of Dorian Gray</td>\n      <td>Oscar</td>\n      <td>Wilde</td>\n      <td>1994</td>\n      <td>9780140623222</td>\n      <td>London</td>\n      <td>Penguin Books</td>\n      <td>The @picture of Dorian Gray</td>\n      <td>eng</td>\n      <td>3.0</td>\n    </tr>\n    <tr>\n      <th>1</th>\n      <td>Gustav Klimt</td>\n      <td>NaN</td>\n      <td></td>\n      <td>2008</td>\n      <td>9781402759208</td>\n      <td>New York [u.a.]</td>\n      <td>Sterling</td>\n      <td>Gustav Klimt - Art Nouveau visionary</td>\n      <td>eng</td>\n      <td>2.0</td>\n    </tr>\n    <tr>\n      <th>2</th>\n      <td>La familia de Pascual Duarte</td>\n      <td>Camilo José</td>\n      <td>Cela</td>\n      <td>2009</td>\n      <td>9788423339044</td>\n      <td>Barcelona</td>\n      <td>Ed. Destino</td>\n      <td>La @familia de Pascual Duarte</td>\n      <td>spa</td>\n      <td>2.0</td>\n    </tr>\n    <tr>\n      <th>3</th>\n      <td>Auf der Eidechsburg</td>\n      <td>Ilse-Dore</td>\n      <td>Tanner</td>\n      <td>1938?</td>\n      <td>0</td>\n      <td>Leipzig</td>\n      <td>A. H. Payne</td>\n      <td>NaN</td>\n      <td>NaN</td>\n      <td>NaN</td>\n    </tr>\n    <tr>\n      <th>4</th>\n      <td>Bayerisches Kochbuch</td>\n      <td>Maria</td>\n      <td>Hofmann</td>\n      <td>1950</td>\n      <td>0</td>\n      <td>München</td>\n      <td>Birken</td>\n      <td>NaN</td>\n      <td>NaN</td>\n      <td>NaN</td>\n    </tr>\n    <tr>\n      <th>5</th>\n      <td>Centenaire de l‘Impressionisme</td>\n      <td>NaN</td>\n      <td></td>\n      <td>1974</td>\n      <td>0</td>\n      <td>Paris</td>\n      <td>Musées nationaux</td>\n      <td>NaN</td>\n      <td>NaN</td>\n      <td>NaN</td>\n    </tr>\n    <tr>\n      <th>6</th>\n      <td>Les parents terribles</td>\n      <td>Jean</td>\n      <td>Cocteau</td>\n      <td>1938</td>\n      <td>0</td>\n      <td>Paris</td>\n      <td>Gallimard</td>\n      <td>NaN</td>\n      <td>NaN</td>\n      <td>NaN</td>\n    </tr>\n    <tr>\n      <th>7</th>\n      <td>Straightforward Statistics</td>\n      <td>James D.</td>\n      <td>Evans</td>\n      <td>1996</td>\n      <td>0</td>\n      <td>Pacific Grove</td>\n      <td>Brooks/Cole</td>\n      <td>NaN</td>\n      <td>NaN</td>\n      <td>NaN</td>\n    </tr>\n  </tbody>\n</table>\n</div>"
     },
     "metadata": {},
     "execution_count": 10
    }
   ],
   "source": [
    "books_donated"
   ]
  },
  {
   "source": [
    "It can be seen that there is now a column called `nach_ISBN_Titel`. This column is added to the datasheet to control that the book that is being donated and the book, from which we extract information from the catalog, are the same."
   ],
   "cell_type": "markdown",
   "metadata": {}
  },
  {
   "cell_type": "code",
   "execution_count": 11,
   "metadata": {},
   "outputs": [],
   "source": [
    "books_donated = extract_data.extract_fields_with_title( books_donated)"
   ]
  },
  {
   "cell_type": "code",
   "execution_count": 12,
   "metadata": {},
   "outputs": [
    {
     "output_type": "execute_result",
     "data": {
      "text/plain": [
       "                            Titel Vorname_Autor Nachname_Autor  \\\n",
       "0      The picture of Dorian Gray         Oscar          Wilde   \n",
       "1                    Gustav Klimt           NaN                  \n",
       "2    La familia de Pascual Duarte   Camilo José           Cela   \n",
       "3             Auf der Eidechsburg     Ilse-Dore         Tanner   \n",
       "4            Bayerisches Kochbuch         Maria        Hofmann   \n",
       "5  Centenaire de l‘Impressionisme           NaN                  \n",
       "6           Les parents terribles          Jean        Cocteau   \n",
       "7      Straightforward Statistics      James D.          Evans   \n",
       "\n",
       "  Erscheinungsjahr           ISBN  Erscheinungsort            Verlag  \\\n",
       "0             1994  9780140623222           London     Penguin Books   \n",
       "1             2008  9781402759208  New York [u.a.]          Sterling   \n",
       "2             2009  9788423339044        Barcelona       Ed. Destino   \n",
       "3            1938?              0          Leipzig       A. H. Payne   \n",
       "4             1950              0          München            Birken   \n",
       "5             1974              0            Paris  Musées nationaux   \n",
       "6             1938              0            Paris         Gallimard   \n",
       "7             1996              0    Pacific Grove       Brooks/Cole   \n",
       "\n",
       "                        nach_ISBN_Titel nach_ISBN_Sprache_Text  \\\n",
       "0           The @picture of Dorian Gray                    eng   \n",
       "1  Gustav Klimt - Art Nouveau visionary                    eng   \n",
       "2         La @familia de Pascual Duarte                    spa   \n",
       "3                                   NaN                    NaN   \n",
       "4                                   NaN                    NaN   \n",
       "5                                   NaN                    NaN   \n",
       "6                                   NaN                    NaN   \n",
       "7                                   NaN                    NaN   \n",
       "\n",
       "   nach_ISBN_Bestand_K10  nach_Titel_Bestand_K10  \n",
       "0                    3.0                     182  \n",
       "1                    2.0                     212  \n",
       "2                    2.0                     141  \n",
       "3                    NaN                       1  \n",
       "4                    NaN                      41  \n",
       "5                    NaN                       6  \n",
       "6                    NaN                     107  \n",
       "7                    NaN                      32  "
      ],
      "text/html": "<div>\n<style scoped>\n    .dataframe tbody tr th:only-of-type {\n        vertical-align: middle;\n    }\n\n    .dataframe tbody tr th {\n        vertical-align: top;\n    }\n\n    .dataframe thead th {\n        text-align: right;\n    }\n</style>\n<table border=\"1\" class=\"dataframe\">\n  <thead>\n    <tr style=\"text-align: right;\">\n      <th></th>\n      <th>Titel</th>\n      <th>Vorname_Autor</th>\n      <th>Nachname_Autor</th>\n      <th>Erscheinungsjahr</th>\n      <th>ISBN</th>\n      <th>Erscheinungsort</th>\n      <th>Verlag</th>\n      <th>nach_ISBN_Titel</th>\n      <th>nach_ISBN_Sprache_Text</th>\n      <th>nach_ISBN_Bestand_K10</th>\n      <th>nach_Titel_Bestand_K10</th>\n    </tr>\n  </thead>\n  <tbody>\n    <tr>\n      <th>0</th>\n      <td>The picture of Dorian Gray</td>\n      <td>Oscar</td>\n      <td>Wilde</td>\n      <td>1994</td>\n      <td>9780140623222</td>\n      <td>London</td>\n      <td>Penguin Books</td>\n      <td>The @picture of Dorian Gray</td>\n      <td>eng</td>\n      <td>3.0</td>\n      <td>182</td>\n    </tr>\n    <tr>\n      <th>1</th>\n      <td>Gustav Klimt</td>\n      <td>NaN</td>\n      <td></td>\n      <td>2008</td>\n      <td>9781402759208</td>\n      <td>New York [u.a.]</td>\n      <td>Sterling</td>\n      <td>Gustav Klimt - Art Nouveau visionary</td>\n      <td>eng</td>\n      <td>2.0</td>\n      <td>212</td>\n    </tr>\n    <tr>\n      <th>2</th>\n      <td>La familia de Pascual Duarte</td>\n      <td>Camilo José</td>\n      <td>Cela</td>\n      <td>2009</td>\n      <td>9788423339044</td>\n      <td>Barcelona</td>\n      <td>Ed. Destino</td>\n      <td>La @familia de Pascual Duarte</td>\n      <td>spa</td>\n      <td>2.0</td>\n      <td>141</td>\n    </tr>\n    <tr>\n      <th>3</th>\n      <td>Auf der Eidechsburg</td>\n      <td>Ilse-Dore</td>\n      <td>Tanner</td>\n      <td>1938?</td>\n      <td>0</td>\n      <td>Leipzig</td>\n      <td>A. H. Payne</td>\n      <td>NaN</td>\n      <td>NaN</td>\n      <td>NaN</td>\n      <td>1</td>\n    </tr>\n    <tr>\n      <th>4</th>\n      <td>Bayerisches Kochbuch</td>\n      <td>Maria</td>\n      <td>Hofmann</td>\n      <td>1950</td>\n      <td>0</td>\n      <td>München</td>\n      <td>Birken</td>\n      <td>NaN</td>\n      <td>NaN</td>\n      <td>NaN</td>\n      <td>41</td>\n    </tr>\n    <tr>\n      <th>5</th>\n      <td>Centenaire de l‘Impressionisme</td>\n      <td>NaN</td>\n      <td></td>\n      <td>1974</td>\n      <td>0</td>\n      <td>Paris</td>\n      <td>Musées nationaux</td>\n      <td>NaN</td>\n      <td>NaN</td>\n      <td>NaN</td>\n      <td>6</td>\n    </tr>\n    <tr>\n      <th>6</th>\n      <td>Les parents terribles</td>\n      <td>Jean</td>\n      <td>Cocteau</td>\n      <td>1938</td>\n      <td>0</td>\n      <td>Paris</td>\n      <td>Gallimard</td>\n      <td>NaN</td>\n      <td>NaN</td>\n      <td>NaN</td>\n      <td>107</td>\n    </tr>\n    <tr>\n      <th>7</th>\n      <td>Straightforward Statistics</td>\n      <td>James D.</td>\n      <td>Evans</td>\n      <td>1996</td>\n      <td>0</td>\n      <td>Pacific Grove</td>\n      <td>Brooks/Cole</td>\n      <td>NaN</td>\n      <td>NaN</td>\n      <td>NaN</td>\n      <td>32</td>\n    </tr>\n  </tbody>\n</table>\n</div>"
     },
     "metadata": {},
     "execution_count": 12
    }
   ],
   "source": [
    "books_donated"
   ]
  },
  {
   "cell_type": "code",
   "execution_count": 13,
   "metadata": {},
   "outputs": [],
   "source": [
    "books_donated = extract_data.extract_fields_with_title_author( books_donated, name_column_title = \"Titel\", name_column_author = \"Nachname_Autor\")"
   ]
  },
  {
   "cell_type": "code",
   "execution_count": 14,
   "metadata": {},
   "outputs": [
    {
     "output_type": "execute_result",
     "data": {
      "text/plain": [
       "                            Titel Vorname_Autor Nachname_Autor  \\\n",
       "0      The picture of Dorian Gray         Oscar          Wilde   \n",
       "1                    Gustav Klimt           NaN                  \n",
       "2    La familia de Pascual Duarte   Camilo José           Cela   \n",
       "3             Auf der Eidechsburg     Ilse-Dore         Tanner   \n",
       "4            Bayerisches Kochbuch         Maria        Hofmann   \n",
       "5  Centenaire de l‘Impressionisme           NaN                  \n",
       "6           Les parents terribles          Jean        Cocteau   \n",
       "7      Straightforward Statistics      James D.          Evans   \n",
       "\n",
       "  Erscheinungsjahr           ISBN  Erscheinungsort            Verlag  \\\n",
       "0             1994  9780140623222           London     Penguin Books   \n",
       "1             2008  9781402759208  New York [u.a.]          Sterling   \n",
       "2             2009  9788423339044        Barcelona       Ed. Destino   \n",
       "3            1938?              0          Leipzig       A. H. Payne   \n",
       "4             1950              0          München            Birken   \n",
       "5             1974              0            Paris  Musées nationaux   \n",
       "6             1938              0            Paris         Gallimard   \n",
       "7             1996              0    Pacific Grove       Brooks/Cole   \n",
       "\n",
       "                        nach_ISBN_Titel nach_ISBN_Sprache_Text  \\\n",
       "0           The @picture of Dorian Gray                    eng   \n",
       "1  Gustav Klimt - Art Nouveau visionary                    eng   \n",
       "2         La @familia de Pascual Duarte                    spa   \n",
       "3                                   NaN                    NaN   \n",
       "4                                   NaN                    NaN   \n",
       "5                                   NaN                    NaN   \n",
       "6                                   NaN                    NaN   \n",
       "7                                   NaN                    NaN   \n",
       "\n",
       "   nach_ISBN_Bestand_K10  nach_Titel_Bestand_K10  nach_Titel_Autor_Bestand_K10  \n",
       "0                    3.0                     182                         220.0  \n",
       "1                    2.0                     212                           NaN  \n",
       "2                    2.0                     141                         162.0  \n",
       "3                    NaN                       1                           1.0  \n",
       "4                    NaN                      41                          22.0  \n",
       "5                    NaN                       6                           NaN  \n",
       "6                    NaN                     107                          98.0  \n",
       "7                    NaN                      32                           NaN  "
      ],
      "text/html": "<div>\n<style scoped>\n    .dataframe tbody tr th:only-of-type {\n        vertical-align: middle;\n    }\n\n    .dataframe tbody tr th {\n        vertical-align: top;\n    }\n\n    .dataframe thead th {\n        text-align: right;\n    }\n</style>\n<table border=\"1\" class=\"dataframe\">\n  <thead>\n    <tr style=\"text-align: right;\">\n      <th></th>\n      <th>Titel</th>\n      <th>Vorname_Autor</th>\n      <th>Nachname_Autor</th>\n      <th>Erscheinungsjahr</th>\n      <th>ISBN</th>\n      <th>Erscheinungsort</th>\n      <th>Verlag</th>\n      <th>nach_ISBN_Titel</th>\n      <th>nach_ISBN_Sprache_Text</th>\n      <th>nach_ISBN_Bestand_K10</th>\n      <th>nach_Titel_Bestand_K10</th>\n      <th>nach_Titel_Autor_Bestand_K10</th>\n    </tr>\n  </thead>\n  <tbody>\n    <tr>\n      <th>0</th>\n      <td>The picture of Dorian Gray</td>\n      <td>Oscar</td>\n      <td>Wilde</td>\n      <td>1994</td>\n      <td>9780140623222</td>\n      <td>London</td>\n      <td>Penguin Books</td>\n      <td>The @picture of Dorian Gray</td>\n      <td>eng</td>\n      <td>3.0</td>\n      <td>182</td>\n      <td>220.0</td>\n    </tr>\n    <tr>\n      <th>1</th>\n      <td>Gustav Klimt</td>\n      <td>NaN</td>\n      <td></td>\n      <td>2008</td>\n      <td>9781402759208</td>\n      <td>New York [u.a.]</td>\n      <td>Sterling</td>\n      <td>Gustav Klimt - Art Nouveau visionary</td>\n      <td>eng</td>\n      <td>2.0</td>\n      <td>212</td>\n      <td>NaN</td>\n    </tr>\n    <tr>\n      <th>2</th>\n      <td>La familia de Pascual Duarte</td>\n      <td>Camilo José</td>\n      <td>Cela</td>\n      <td>2009</td>\n      <td>9788423339044</td>\n      <td>Barcelona</td>\n      <td>Ed. Destino</td>\n      <td>La @familia de Pascual Duarte</td>\n      <td>spa</td>\n      <td>2.0</td>\n      <td>141</td>\n      <td>162.0</td>\n    </tr>\n    <tr>\n      <th>3</th>\n      <td>Auf der Eidechsburg</td>\n      <td>Ilse-Dore</td>\n      <td>Tanner</td>\n      <td>1938?</td>\n      <td>0</td>\n      <td>Leipzig</td>\n      <td>A. H. Payne</td>\n      <td>NaN</td>\n      <td>NaN</td>\n      <td>NaN</td>\n      <td>1</td>\n      <td>1.0</td>\n    </tr>\n    <tr>\n      <th>4</th>\n      <td>Bayerisches Kochbuch</td>\n      <td>Maria</td>\n      <td>Hofmann</td>\n      <td>1950</td>\n      <td>0</td>\n      <td>München</td>\n      <td>Birken</td>\n      <td>NaN</td>\n      <td>NaN</td>\n      <td>NaN</td>\n      <td>41</td>\n      <td>22.0</td>\n    </tr>\n    <tr>\n      <th>5</th>\n      <td>Centenaire de l‘Impressionisme</td>\n      <td>NaN</td>\n      <td></td>\n      <td>1974</td>\n      <td>0</td>\n      <td>Paris</td>\n      <td>Musées nationaux</td>\n      <td>NaN</td>\n      <td>NaN</td>\n      <td>NaN</td>\n      <td>6</td>\n      <td>NaN</td>\n    </tr>\n    <tr>\n      <th>6</th>\n      <td>Les parents terribles</td>\n      <td>Jean</td>\n      <td>Cocteau</td>\n      <td>1938</td>\n      <td>0</td>\n      <td>Paris</td>\n      <td>Gallimard</td>\n      <td>NaN</td>\n      <td>NaN</td>\n      <td>NaN</td>\n      <td>107</td>\n      <td>98.0</td>\n    </tr>\n    <tr>\n      <th>7</th>\n      <td>Straightforward Statistics</td>\n      <td>James D.</td>\n      <td>Evans</td>\n      <td>1996</td>\n      <td>0</td>\n      <td>Pacific Grove</td>\n      <td>Brooks/Cole</td>\n      <td>NaN</td>\n      <td>NaN</td>\n      <td>NaN</td>\n      <td>32</td>\n      <td>NaN</td>\n    </tr>\n  </tbody>\n</table>\n</div>"
     },
     "metadata": {},
     "execution_count": 14
    }
   ],
   "source": [
    "books_donated"
   ]
  },
  {
   "source": [
    "These functions have added to the donner's table following fields:\n",
    "\n",
    "- From those books that had ISBN:\n",
    "    - Place\n",
    "    - Publisher\n",
    "- For all:\n",
    "    - Language of the text\n",
    "    - Number of libraries in K10 with titles with this ISBN\n",
    "    - Number of libraries in K10 with titles with this title\n",
    "    - Number of libraries in K10 with titles with this title and this author \n",
    "\n"
   ],
   "cell_type": "markdown",
   "metadata": {}
  },
  {
   "cell_type": "markdown",
   "metadata": {},
   "source": [
    "# Check copies with ISBN\n",
    "\n",
    "Now we want to know whether these books are already at the Göttinge Library. For that, we will use both the ISBN, the title, and author and title in combination."
   ]
  },
  {
   "cell_type": "code",
   "execution_count": 15,
   "metadata": {},
   "outputs": [
    {
     "output_type": "execute_result",
     "data": {
      "text/plain": [
       "                            Titel Vorname_Autor Nachname_Autor  \\\n",
       "0      The picture of Dorian Gray         Oscar          Wilde   \n",
       "1                    Gustav Klimt           NaN                  \n",
       "2    La familia de Pascual Duarte   Camilo José           Cela   \n",
       "3             Auf der Eidechsburg     Ilse-Dore         Tanner   \n",
       "4            Bayerisches Kochbuch         Maria        Hofmann   \n",
       "5  Centenaire de l‘Impressionisme           NaN                  \n",
       "6           Les parents terribles          Jean        Cocteau   \n",
       "7      Straightforward Statistics      James D.          Evans   \n",
       "\n",
       "  Erscheinungsjahr           ISBN  Erscheinungsort            Verlag  \\\n",
       "0             1994  9780140623222           London     Penguin Books   \n",
       "1             2008  9781402759208  New York [u.a.]          Sterling   \n",
       "2             2009  9788423339044        Barcelona       Ed. Destino   \n",
       "3            1938?              0          Leipzig       A. H. Payne   \n",
       "4             1950              0          München            Birken   \n",
       "5             1974              0            Paris  Musées nationaux   \n",
       "6             1938              0            Paris         Gallimard   \n",
       "7             1996              0    Pacific Grove       Brooks/Cole   \n",
       "\n",
       "                        nach_ISBN_Titel nach_ISBN_Sprache_Text  \\\n",
       "0           The @picture of Dorian Gray                    eng   \n",
       "1  Gustav Klimt - Art Nouveau visionary                    eng   \n",
       "2         La @familia de Pascual Duarte                    spa   \n",
       "3                                   NaN                    NaN   \n",
       "4                                   NaN                    NaN   \n",
       "5                                   NaN                    NaN   \n",
       "6                                   NaN                    NaN   \n",
       "7                                   NaN                    NaN   \n",
       "\n",
       "   nach_ISBN_Bestand_K10  nach_Titel_Bestand_K10  nach_Titel_Autor_Bestand_K10  \n",
       "0                    3.0                     182                         220.0  \n",
       "1                    2.0                     212                           NaN  \n",
       "2                    2.0                     141                         162.0  \n",
       "3                    NaN                       1                           1.0  \n",
       "4                    NaN                      41                          22.0  \n",
       "5                    NaN                       6                           NaN  \n",
       "6                    NaN                     107                          98.0  \n",
       "7                    NaN                      32                           NaN  "
      ],
      "text/html": "<div>\n<style scoped>\n    .dataframe tbody tr th:only-of-type {\n        vertical-align: middle;\n    }\n\n    .dataframe tbody tr th {\n        vertical-align: top;\n    }\n\n    .dataframe thead th {\n        text-align: right;\n    }\n</style>\n<table border=\"1\" class=\"dataframe\">\n  <thead>\n    <tr style=\"text-align: right;\">\n      <th></th>\n      <th>Titel</th>\n      <th>Vorname_Autor</th>\n      <th>Nachname_Autor</th>\n      <th>Erscheinungsjahr</th>\n      <th>ISBN</th>\n      <th>Erscheinungsort</th>\n      <th>Verlag</th>\n      <th>nach_ISBN_Titel</th>\n      <th>nach_ISBN_Sprache_Text</th>\n      <th>nach_ISBN_Bestand_K10</th>\n      <th>nach_Titel_Bestand_K10</th>\n      <th>nach_Titel_Autor_Bestand_K10</th>\n    </tr>\n  </thead>\n  <tbody>\n    <tr>\n      <th>0</th>\n      <td>The picture of Dorian Gray</td>\n      <td>Oscar</td>\n      <td>Wilde</td>\n      <td>1994</td>\n      <td>9780140623222</td>\n      <td>London</td>\n      <td>Penguin Books</td>\n      <td>The @picture of Dorian Gray</td>\n      <td>eng</td>\n      <td>3.0</td>\n      <td>182</td>\n      <td>220.0</td>\n    </tr>\n    <tr>\n      <th>1</th>\n      <td>Gustav Klimt</td>\n      <td>NaN</td>\n      <td></td>\n      <td>2008</td>\n      <td>9781402759208</td>\n      <td>New York [u.a.]</td>\n      <td>Sterling</td>\n      <td>Gustav Klimt - Art Nouveau visionary</td>\n      <td>eng</td>\n      <td>2.0</td>\n      <td>212</td>\n      <td>NaN</td>\n    </tr>\n    <tr>\n      <th>2</th>\n      <td>La familia de Pascual Duarte</td>\n      <td>Camilo José</td>\n      <td>Cela</td>\n      <td>2009</td>\n      <td>9788423339044</td>\n      <td>Barcelona</td>\n      <td>Ed. Destino</td>\n      <td>La @familia de Pascual Duarte</td>\n      <td>spa</td>\n      <td>2.0</td>\n      <td>141</td>\n      <td>162.0</td>\n    </tr>\n    <tr>\n      <th>3</th>\n      <td>Auf der Eidechsburg</td>\n      <td>Ilse-Dore</td>\n      <td>Tanner</td>\n      <td>1938?</td>\n      <td>0</td>\n      <td>Leipzig</td>\n      <td>A. H. Payne</td>\n      <td>NaN</td>\n      <td>NaN</td>\n      <td>NaN</td>\n      <td>1</td>\n      <td>1.0</td>\n    </tr>\n    <tr>\n      <th>4</th>\n      <td>Bayerisches Kochbuch</td>\n      <td>Maria</td>\n      <td>Hofmann</td>\n      <td>1950</td>\n      <td>0</td>\n      <td>München</td>\n      <td>Birken</td>\n      <td>NaN</td>\n      <td>NaN</td>\n      <td>NaN</td>\n      <td>41</td>\n      <td>22.0</td>\n    </tr>\n    <tr>\n      <th>5</th>\n      <td>Centenaire de l‘Impressionisme</td>\n      <td>NaN</td>\n      <td></td>\n      <td>1974</td>\n      <td>0</td>\n      <td>Paris</td>\n      <td>Musées nationaux</td>\n      <td>NaN</td>\n      <td>NaN</td>\n      <td>NaN</td>\n      <td>6</td>\n      <td>NaN</td>\n    </tr>\n    <tr>\n      <th>6</th>\n      <td>Les parents terribles</td>\n      <td>Jean</td>\n      <td>Cocteau</td>\n      <td>1938</td>\n      <td>0</td>\n      <td>Paris</td>\n      <td>Gallimard</td>\n      <td>NaN</td>\n      <td>NaN</td>\n      <td>NaN</td>\n      <td>107</td>\n      <td>98.0</td>\n    </tr>\n    <tr>\n      <th>7</th>\n      <td>Straightforward Statistics</td>\n      <td>James D.</td>\n      <td>Evans</td>\n      <td>1996</td>\n      <td>0</td>\n      <td>Pacific Grove</td>\n      <td>Brooks/Cole</td>\n      <td>NaN</td>\n      <td>NaN</td>\n      <td>NaN</td>\n      <td>32</td>\n      <td>NaN</td>\n    </tr>\n  </tbody>\n</table>\n</div>"
     },
     "metadata": {},
     "execution_count": 15
    }
   ],
   "source": [
    "books_donated"
   ]
  },
  {
   "cell_type": "code",
   "execution_count": 16,
   "metadata": {},
   "outputs": [
    {
     "output_type": "stream",
     "name": "stdout",
     "text": [
      "http://sru.k10plus.de/opac-de-7!rec=1?version=1.1&query=pica.isb=9780140623222&operation=searchRetrieve&maximumRecords=10&recordSchema=picaxml\n",
      "The picture of Dorian Gray 9780140623222 0\n",
      "http://sru.k10plus.de/opac-de-7!rec=1?version=1.1&query=pica.isb=9781402759208&operation=searchRetrieve&maximumRecords=10&recordSchema=picaxml\n",
      "Gustav Klimt 9781402759208 0\n",
      "http://sru.k10plus.de/opac-de-7!rec=1?version=1.1&query=pica.isb=9788423339044&operation=searchRetrieve&maximumRecords=10&recordSchema=picaxml\n",
      "La familia de Pascual Duarte 9788423339044 1\n"
     ]
    }
   ],
   "source": [
    "books_donated = check_duplicates.check_duplicate_with_isbn( books_donated, \n",
    "    name_column_isbn = \"ISBN\",\n",
    "    name_column_title = \"Titel\",\n",
    "    verbose = True,\n",
    "    )"
   ]
  },
  {
   "cell_type": "code",
   "execution_count": 17,
   "metadata": {},
   "outputs": [
    {
     "output_type": "execute_result",
     "data": {
      "text/plain": [
       "                            Titel Vorname_Autor Nachname_Autor  \\\n",
       "0      The picture of Dorian Gray         Oscar          Wilde   \n",
       "1                    Gustav Klimt           NaN                  \n",
       "2    La familia de Pascual Duarte   Camilo José           Cela   \n",
       "3             Auf der Eidechsburg     Ilse-Dore         Tanner   \n",
       "4            Bayerisches Kochbuch         Maria        Hofmann   \n",
       "5  Centenaire de l‘Impressionisme           NaN                  \n",
       "6           Les parents terribles          Jean        Cocteau   \n",
       "7      Straightforward Statistics      James D.          Evans   \n",
       "\n",
       "  Erscheinungsjahr           ISBN  Erscheinungsort            Verlag  \\\n",
       "0             1994  9780140623222           London     Penguin Books   \n",
       "1             2008  9781402759208  New York [u.a.]          Sterling   \n",
       "2             2009  9788423339044        Barcelona       Ed. Destino   \n",
       "3            1938?              0          Leipzig       A. H. Payne   \n",
       "4             1950              0          München            Birken   \n",
       "5             1974              0            Paris  Musées nationaux   \n",
       "6             1938              0            Paris         Gallimard   \n",
       "7             1996              0    Pacific Grove       Brooks/Cole   \n",
       "\n",
       "                        nach_ISBN_Titel nach_ISBN_Sprache_Text  \\\n",
       "0           The @picture of Dorian Gray                    eng   \n",
       "1  Gustav Klimt - Art Nouveau visionary                    eng   \n",
       "2         La @familia de Pascual Duarte                    spa   \n",
       "3                                   NaN                    NaN   \n",
       "4                                   NaN                    NaN   \n",
       "5                                   NaN                    NaN   \n",
       "6                                   NaN                    NaN   \n",
       "7                                   NaN                    NaN   \n",
       "\n",
       "   nach_ISBN_Bestand_K10  nach_Titel_Bestand_K10  \\\n",
       "0                    3.0                     182   \n",
       "1                    2.0                     212   \n",
       "2                    2.0                     141   \n",
       "3                    NaN                       1   \n",
       "4                    NaN                      41   \n",
       "5                    NaN                       6   \n",
       "6                    NaN                     107   \n",
       "7                    NaN                      32   \n",
       "\n",
       "   nach_Titel_Autor_Bestand_K10 nach_ISBN_Bestand_Göttingen  \\\n",
       "0                         220.0                           0   \n",
       "1                           NaN                           0   \n",
       "2                         162.0                           1   \n",
       "3                           1.0                         NaN   \n",
       "4                          22.0                         NaN   \n",
       "5                           NaN                         NaN   \n",
       "6                          98.0                         NaN   \n",
       "7                           NaN                         NaN   \n",
       "\n",
       "   nach_ISBN_Bestand_SUB                                  nach_ISBN_URL_GUK  \n",
       "0                    0.0  https://opac.sub.uni-goettingen.de/DB=1/SET=6/...  \n",
       "1                    0.0  https://opac.sub.uni-goettingen.de/DB=1/SET=6/...  \n",
       "2                    0.0  https://opac.sub.uni-goettingen.de/DB=1/SET=6/...  \n",
       "3                    NaN                                                NaN  \n",
       "4                    NaN                                                NaN  \n",
       "5                    NaN                                                NaN  \n",
       "6                    NaN                                                NaN  \n",
       "7                    NaN                                                NaN  "
      ],
      "text/html": "<div>\n<style scoped>\n    .dataframe tbody tr th:only-of-type {\n        vertical-align: middle;\n    }\n\n    .dataframe tbody tr th {\n        vertical-align: top;\n    }\n\n    .dataframe thead th {\n        text-align: right;\n    }\n</style>\n<table border=\"1\" class=\"dataframe\">\n  <thead>\n    <tr style=\"text-align: right;\">\n      <th></th>\n      <th>Titel</th>\n      <th>Vorname_Autor</th>\n      <th>Nachname_Autor</th>\n      <th>Erscheinungsjahr</th>\n      <th>ISBN</th>\n      <th>Erscheinungsort</th>\n      <th>Verlag</th>\n      <th>nach_ISBN_Titel</th>\n      <th>nach_ISBN_Sprache_Text</th>\n      <th>nach_ISBN_Bestand_K10</th>\n      <th>nach_Titel_Bestand_K10</th>\n      <th>nach_Titel_Autor_Bestand_K10</th>\n      <th>nach_ISBN_Bestand_Göttingen</th>\n      <th>nach_ISBN_Bestand_SUB</th>\n      <th>nach_ISBN_URL_GUK</th>\n    </tr>\n  </thead>\n  <tbody>\n    <tr>\n      <th>0</th>\n      <td>The picture of Dorian Gray</td>\n      <td>Oscar</td>\n      <td>Wilde</td>\n      <td>1994</td>\n      <td>9780140623222</td>\n      <td>London</td>\n      <td>Penguin Books</td>\n      <td>The @picture of Dorian Gray</td>\n      <td>eng</td>\n      <td>3.0</td>\n      <td>182</td>\n      <td>220.0</td>\n      <td>0</td>\n      <td>0.0</td>\n      <td>https://opac.sub.uni-goettingen.de/DB=1/SET=6/...</td>\n    </tr>\n    <tr>\n      <th>1</th>\n      <td>Gustav Klimt</td>\n      <td>NaN</td>\n      <td></td>\n      <td>2008</td>\n      <td>9781402759208</td>\n      <td>New York [u.a.]</td>\n      <td>Sterling</td>\n      <td>Gustav Klimt - Art Nouveau visionary</td>\n      <td>eng</td>\n      <td>2.0</td>\n      <td>212</td>\n      <td>NaN</td>\n      <td>0</td>\n      <td>0.0</td>\n      <td>https://opac.sub.uni-goettingen.de/DB=1/SET=6/...</td>\n    </tr>\n    <tr>\n      <th>2</th>\n      <td>La familia de Pascual Duarte</td>\n      <td>Camilo José</td>\n      <td>Cela</td>\n      <td>2009</td>\n      <td>9788423339044</td>\n      <td>Barcelona</td>\n      <td>Ed. Destino</td>\n      <td>La @familia de Pascual Duarte</td>\n      <td>spa</td>\n      <td>2.0</td>\n      <td>141</td>\n      <td>162.0</td>\n      <td>1</td>\n      <td>0.0</td>\n      <td>https://opac.sub.uni-goettingen.de/DB=1/SET=6/...</td>\n    </tr>\n    <tr>\n      <th>3</th>\n      <td>Auf der Eidechsburg</td>\n      <td>Ilse-Dore</td>\n      <td>Tanner</td>\n      <td>1938?</td>\n      <td>0</td>\n      <td>Leipzig</td>\n      <td>A. H. Payne</td>\n      <td>NaN</td>\n      <td>NaN</td>\n      <td>NaN</td>\n      <td>1</td>\n      <td>1.0</td>\n      <td>NaN</td>\n      <td>NaN</td>\n      <td>NaN</td>\n    </tr>\n    <tr>\n      <th>4</th>\n      <td>Bayerisches Kochbuch</td>\n      <td>Maria</td>\n      <td>Hofmann</td>\n      <td>1950</td>\n      <td>0</td>\n      <td>München</td>\n      <td>Birken</td>\n      <td>NaN</td>\n      <td>NaN</td>\n      <td>NaN</td>\n      <td>41</td>\n      <td>22.0</td>\n      <td>NaN</td>\n      <td>NaN</td>\n      <td>NaN</td>\n    </tr>\n    <tr>\n      <th>5</th>\n      <td>Centenaire de l‘Impressionisme</td>\n      <td>NaN</td>\n      <td></td>\n      <td>1974</td>\n      <td>0</td>\n      <td>Paris</td>\n      <td>Musées nationaux</td>\n      <td>NaN</td>\n      <td>NaN</td>\n      <td>NaN</td>\n      <td>6</td>\n      <td>NaN</td>\n      <td>NaN</td>\n      <td>NaN</td>\n      <td>NaN</td>\n    </tr>\n    <tr>\n      <th>6</th>\n      <td>Les parents terribles</td>\n      <td>Jean</td>\n      <td>Cocteau</td>\n      <td>1938</td>\n      <td>0</td>\n      <td>Paris</td>\n      <td>Gallimard</td>\n      <td>NaN</td>\n      <td>NaN</td>\n      <td>NaN</td>\n      <td>107</td>\n      <td>98.0</td>\n      <td>NaN</td>\n      <td>NaN</td>\n      <td>NaN</td>\n    </tr>\n    <tr>\n      <th>7</th>\n      <td>Straightforward Statistics</td>\n      <td>James D.</td>\n      <td>Evans</td>\n      <td>1996</td>\n      <td>0</td>\n      <td>Pacific Grove</td>\n      <td>Brooks/Cole</td>\n      <td>NaN</td>\n      <td>NaN</td>\n      <td>NaN</td>\n      <td>32</td>\n      <td>NaN</td>\n      <td>NaN</td>\n      <td>NaN</td>\n      <td>NaN</td>\n    </tr>\n  </tbody>\n</table>\n</div>"
     },
     "metadata": {},
     "execution_count": 17
    }
   ],
   "source": [
    "books_donated"
   ]
  },
  {
   "cell_type": "markdown",
   "metadata": {},
   "source": [
    "## Check copies with Title\n",
    "Checking whether the texts are at the Göttinge Library with the information from the title."
   ]
  },
  {
   "cell_type": "code",
   "execution_count": 18,
   "metadata": {},
   "outputs": [
    {
     "output_type": "stream",
     "name": "stdout",
     "text": [
      "The picture of Dorian Gray\n",
      "http://sru.k10plus.de/opac-de-7!rec=1?version=1.1&query=pica.tit=\"The picture of Dorian Gray\"&operation=searchRetrieve&maximumRecords=10&recordSchema=picaxml\n",
      "['42']\n",
      "['LS1', 'FMAG', 'LS1', 'FMAG', 'FMAG', 'FMAG', 'FMAG', 'FMAG']\n",
      "Gustav Klimt\n",
      "http://sru.k10plus.de/opac-de-7!rec=1?version=1.1&query=pica.tit=\"Gustav Klimt\"&operation=searchRetrieve&maximumRecords=10&recordSchema=picaxml\n",
      "['31']\n",
      "['LS1']\n",
      "La familia de Pascual Duarte\n",
      "http://sru.k10plus.de/opac-de-7!rec=1?version=1.1&query=pica.tit=\"La familia de Pascual Duarte\"&operation=searchRetrieve&maximumRecords=10&recordSchema=picaxml\n",
      "['8']\n",
      "[]\n",
      "Auf der Eidechsburg\n",
      "http://sru.k10plus.de/opac-de-7!rec=1?version=1.1&query=pica.tit=\"Auf der Eidechsburg\"&operation=searchRetrieve&maximumRecords=10&recordSchema=picaxml\n",
      "['0']\n",
      "[]\n",
      "Bayerisches Kochbuch\n",
      "http://sru.k10plus.de/opac-de-7!rec=1?version=1.1&query=pica.tit=\"Bayerisches Kochbuch\"&operation=searchRetrieve&maximumRecords=10&recordSchema=picaxml\n",
      "['1']\n",
      "[]\n",
      "Centenaire de l‘Impressionisme\n",
      "http://sru.k10plus.de/opac-de-7!rec=1?version=1.1&query=pica.tit=\"Centenaire de l‘Impressionisme\"&operation=searchRetrieve&maximumRecords=10&recordSchema=picaxml\n",
      "['0']\n",
      "[]\n",
      "Les parents terribles\n",
      "http://sru.k10plus.de/opac-de-7!rec=1?version=1.1&query=pica.tit=\"Les parents terribles\"&operation=searchRetrieve&maximumRecords=10&recordSchema=picaxml\n",
      "['4']\n",
      "['LS1']\n",
      "Straightforward Statistics\n",
      "http://sru.k10plus.de/opac-de-7!rec=1?version=1.1&query=pica.tit=\"Straightforward Statistics\"&operation=searchRetrieve&maximumRecords=10&recordSchema=picaxml\n",
      "['2']\n",
      "[]\n"
     ]
    }
   ],
   "source": [
    "books_donated = check_duplicates.check_duplicate_with_title( books_donated, \n",
    "    name_column_title = \"Titel\",\n",
    "    verbose = True,\n",
    "    )"
   ]
  },
  {
   "cell_type": "code",
   "execution_count": 19,
   "metadata": {},
   "outputs": [
    {
     "output_type": "execute_result",
     "data": {
      "text/plain": [
       "                            Titel Vorname_Autor Nachname_Autor  \\\n",
       "0      The picture of Dorian Gray         Oscar          Wilde   \n",
       "1                    Gustav Klimt           NaN                  \n",
       "2    La familia de Pascual Duarte   Camilo José           Cela   \n",
       "3             Auf der Eidechsburg     Ilse-Dore         Tanner   \n",
       "4            Bayerisches Kochbuch         Maria        Hofmann   \n",
       "5  Centenaire de l‘Impressionisme           NaN                  \n",
       "6           Les parents terribles          Jean        Cocteau   \n",
       "7      Straightforward Statistics      James D.          Evans   \n",
       "\n",
       "  Erscheinungsjahr           ISBN  Erscheinungsort            Verlag  \\\n",
       "0             1994  9780140623222           London     Penguin Books   \n",
       "1             2008  9781402759208  New York [u.a.]          Sterling   \n",
       "2             2009  9788423339044        Barcelona       Ed. Destino   \n",
       "3            1938?              0          Leipzig       A. H. Payne   \n",
       "4             1950              0          München            Birken   \n",
       "5             1974              0            Paris  Musées nationaux   \n",
       "6             1938              0            Paris         Gallimard   \n",
       "7             1996              0    Pacific Grove       Brooks/Cole   \n",
       "\n",
       "                        nach_ISBN_Titel nach_ISBN_Sprache_Text  \\\n",
       "0           The @picture of Dorian Gray                    eng   \n",
       "1  Gustav Klimt - Art Nouveau visionary                    eng   \n",
       "2         La @familia de Pascual Duarte                    spa   \n",
       "3                                   NaN                    NaN   \n",
       "4                                   NaN                    NaN   \n",
       "5                                   NaN                    NaN   \n",
       "6                                   NaN                    NaN   \n",
       "7                                   NaN                    NaN   \n",
       "\n",
       "   nach_ISBN_Bestand_K10  nach_Titel_Bestand_K10  \\\n",
       "0                    3.0                     182   \n",
       "1                    2.0                     212   \n",
       "2                    2.0                     141   \n",
       "3                    NaN                       1   \n",
       "4                    NaN                      41   \n",
       "5                    NaN                       6   \n",
       "6                    NaN                     107   \n",
       "7                    NaN                      32   \n",
       "\n",
       "   nach_Titel_Autor_Bestand_K10 nach_ISBN_Bestand_Göttingen  \\\n",
       "0                         220.0                           0   \n",
       "1                           NaN                           0   \n",
       "2                         162.0                           1   \n",
       "3                           1.0                         NaN   \n",
       "4                          22.0                         NaN   \n",
       "5                           NaN                         NaN   \n",
       "6                          98.0                         NaN   \n",
       "7                           NaN                         NaN   \n",
       "\n",
       "   nach_ISBN_Bestand_SUB                                  nach_ISBN_URL_GUK  \\\n",
       "0                    0.0  https://opac.sub.uni-goettingen.de/DB=1/SET=6/...   \n",
       "1                    0.0  https://opac.sub.uni-goettingen.de/DB=1/SET=6/...   \n",
       "2                    0.0  https://opac.sub.uni-goettingen.de/DB=1/SET=6/...   \n",
       "3                    NaN                                                NaN   \n",
       "4                    NaN                                                NaN   \n",
       "5                    NaN                                                NaN   \n",
       "6                    NaN                                                NaN   \n",
       "7                    NaN                                                NaN   \n",
       "\n",
       "  nach_Titel_Bestand_Göttingen  nach_Titel_Bestand_SUB  \\\n",
       "0                           42                     8.0   \n",
       "1                           31                     1.0   \n",
       "2                            8                     0.0   \n",
       "3                            0                     0.0   \n",
       "4                            1                     0.0   \n",
       "5                            0                     0.0   \n",
       "6                            4                     1.0   \n",
       "7                            2                     0.0   \n",
       "\n",
       "                                  nach_Titel_URL_GUK  \n",
       "0  https://opac.sub.uni-goettingen.de/DB=1/SET=2/...  \n",
       "1  https://opac.sub.uni-goettingen.de/DB=1/SET=2/...  \n",
       "2  https://opac.sub.uni-goettingen.de/DB=1/SET=2/...  \n",
       "3  https://opac.sub.uni-goettingen.de/DB=1/SET=2/...  \n",
       "4  https://opac.sub.uni-goettingen.de/DB=1/SET=2/...  \n",
       "5  https://opac.sub.uni-goettingen.de/DB=1/SET=2/...  \n",
       "6  https://opac.sub.uni-goettingen.de/DB=1/SET=2/...  \n",
       "7  https://opac.sub.uni-goettingen.de/DB=1/SET=2/...  "
      ],
      "text/html": "<div>\n<style scoped>\n    .dataframe tbody tr th:only-of-type {\n        vertical-align: middle;\n    }\n\n    .dataframe tbody tr th {\n        vertical-align: top;\n    }\n\n    .dataframe thead th {\n        text-align: right;\n    }\n</style>\n<table border=\"1\" class=\"dataframe\">\n  <thead>\n    <tr style=\"text-align: right;\">\n      <th></th>\n      <th>Titel</th>\n      <th>Vorname_Autor</th>\n      <th>Nachname_Autor</th>\n      <th>Erscheinungsjahr</th>\n      <th>ISBN</th>\n      <th>Erscheinungsort</th>\n      <th>Verlag</th>\n      <th>nach_ISBN_Titel</th>\n      <th>nach_ISBN_Sprache_Text</th>\n      <th>nach_ISBN_Bestand_K10</th>\n      <th>nach_Titel_Bestand_K10</th>\n      <th>nach_Titel_Autor_Bestand_K10</th>\n      <th>nach_ISBN_Bestand_Göttingen</th>\n      <th>nach_ISBN_Bestand_SUB</th>\n      <th>nach_ISBN_URL_GUK</th>\n      <th>nach_Titel_Bestand_Göttingen</th>\n      <th>nach_Titel_Bestand_SUB</th>\n      <th>nach_Titel_URL_GUK</th>\n    </tr>\n  </thead>\n  <tbody>\n    <tr>\n      <th>0</th>\n      <td>The picture of Dorian Gray</td>\n      <td>Oscar</td>\n      <td>Wilde</td>\n      <td>1994</td>\n      <td>9780140623222</td>\n      <td>London</td>\n      <td>Penguin Books</td>\n      <td>The @picture of Dorian Gray</td>\n      <td>eng</td>\n      <td>3.0</td>\n      <td>182</td>\n      <td>220.0</td>\n      <td>0</td>\n      <td>0.0</td>\n      <td>https://opac.sub.uni-goettingen.de/DB=1/SET=6/...</td>\n      <td>42</td>\n      <td>8.0</td>\n      <td>https://opac.sub.uni-goettingen.de/DB=1/SET=2/...</td>\n    </tr>\n    <tr>\n      <th>1</th>\n      <td>Gustav Klimt</td>\n      <td>NaN</td>\n      <td></td>\n      <td>2008</td>\n      <td>9781402759208</td>\n      <td>New York [u.a.]</td>\n      <td>Sterling</td>\n      <td>Gustav Klimt - Art Nouveau visionary</td>\n      <td>eng</td>\n      <td>2.0</td>\n      <td>212</td>\n      <td>NaN</td>\n      <td>0</td>\n      <td>0.0</td>\n      <td>https://opac.sub.uni-goettingen.de/DB=1/SET=6/...</td>\n      <td>31</td>\n      <td>1.0</td>\n      <td>https://opac.sub.uni-goettingen.de/DB=1/SET=2/...</td>\n    </tr>\n    <tr>\n      <th>2</th>\n      <td>La familia de Pascual Duarte</td>\n      <td>Camilo José</td>\n      <td>Cela</td>\n      <td>2009</td>\n      <td>9788423339044</td>\n      <td>Barcelona</td>\n      <td>Ed. Destino</td>\n      <td>La @familia de Pascual Duarte</td>\n      <td>spa</td>\n      <td>2.0</td>\n      <td>141</td>\n      <td>162.0</td>\n      <td>1</td>\n      <td>0.0</td>\n      <td>https://opac.sub.uni-goettingen.de/DB=1/SET=6/...</td>\n      <td>8</td>\n      <td>0.0</td>\n      <td>https://opac.sub.uni-goettingen.de/DB=1/SET=2/...</td>\n    </tr>\n    <tr>\n      <th>3</th>\n      <td>Auf der Eidechsburg</td>\n      <td>Ilse-Dore</td>\n      <td>Tanner</td>\n      <td>1938?</td>\n      <td>0</td>\n      <td>Leipzig</td>\n      <td>A. H. Payne</td>\n      <td>NaN</td>\n      <td>NaN</td>\n      <td>NaN</td>\n      <td>1</td>\n      <td>1.0</td>\n      <td>NaN</td>\n      <td>NaN</td>\n      <td>NaN</td>\n      <td>0</td>\n      <td>0.0</td>\n      <td>https://opac.sub.uni-goettingen.de/DB=1/SET=2/...</td>\n    </tr>\n    <tr>\n      <th>4</th>\n      <td>Bayerisches Kochbuch</td>\n      <td>Maria</td>\n      <td>Hofmann</td>\n      <td>1950</td>\n      <td>0</td>\n      <td>München</td>\n      <td>Birken</td>\n      <td>NaN</td>\n      <td>NaN</td>\n      <td>NaN</td>\n      <td>41</td>\n      <td>22.0</td>\n      <td>NaN</td>\n      <td>NaN</td>\n      <td>NaN</td>\n      <td>1</td>\n      <td>0.0</td>\n      <td>https://opac.sub.uni-goettingen.de/DB=1/SET=2/...</td>\n    </tr>\n    <tr>\n      <th>5</th>\n      <td>Centenaire de l‘Impressionisme</td>\n      <td>NaN</td>\n      <td></td>\n      <td>1974</td>\n      <td>0</td>\n      <td>Paris</td>\n      <td>Musées nationaux</td>\n      <td>NaN</td>\n      <td>NaN</td>\n      <td>NaN</td>\n      <td>6</td>\n      <td>NaN</td>\n      <td>NaN</td>\n      <td>NaN</td>\n      <td>NaN</td>\n      <td>0</td>\n      <td>0.0</td>\n      <td>https://opac.sub.uni-goettingen.de/DB=1/SET=2/...</td>\n    </tr>\n    <tr>\n      <th>6</th>\n      <td>Les parents terribles</td>\n      <td>Jean</td>\n      <td>Cocteau</td>\n      <td>1938</td>\n      <td>0</td>\n      <td>Paris</td>\n      <td>Gallimard</td>\n      <td>NaN</td>\n      <td>NaN</td>\n      <td>NaN</td>\n      <td>107</td>\n      <td>98.0</td>\n      <td>NaN</td>\n      <td>NaN</td>\n      <td>NaN</td>\n      <td>4</td>\n      <td>1.0</td>\n      <td>https://opac.sub.uni-goettingen.de/DB=1/SET=2/...</td>\n    </tr>\n    <tr>\n      <th>7</th>\n      <td>Straightforward Statistics</td>\n      <td>James D.</td>\n      <td>Evans</td>\n      <td>1996</td>\n      <td>0</td>\n      <td>Pacific Grove</td>\n      <td>Brooks/Cole</td>\n      <td>NaN</td>\n      <td>NaN</td>\n      <td>NaN</td>\n      <td>32</td>\n      <td>NaN</td>\n      <td>NaN</td>\n      <td>NaN</td>\n      <td>NaN</td>\n      <td>2</td>\n      <td>0.0</td>\n      <td>https://opac.sub.uni-goettingen.de/DB=1/SET=2/...</td>\n    </tr>\n  </tbody>\n</table>\n</div>"
     },
     "metadata": {},
     "execution_count": 19
    }
   ],
   "source": [
    "books_donated"
   ]
  },
  {
   "source": [
    "## Check copies with Title and Author\n",
    "Checking whether the texts are at the Göttinge Library with the information from the title."
   ],
   "cell_type": "markdown",
   "metadata": {}
  },
  {
   "cell_type": "code",
   "execution_count": 21,
   "metadata": {},
   "outputs": [
    {
     "output_type": "stream",
     "name": "stdout",
     "text": [
      "The picture of Dorian Gray Wilde\n",
      "http://sru.k10plus.de/opac-de-7!rec=1?version=1.1&query=pica.tit=\"The picture of Dorian Gray\" and pica.per=Wilde&operation=searchRetrieve&maximumRecords=10&recordSchema=picaxml\n",
      "['29']\n",
      "['LS1', 'LS1', '7/029', 'FMAG', 'FMAG', '7/029', 'FMAG', 'FMAG', 'FMAG', 'LS1', '7/029', 'FMAG']\n",
      "Gustav Klimt \n",
      "http://sru.k10plus.de/opac-de-7!rec=1?version=1.1&query=pica.tit=\"Gustav Klimt\" and pica.per=&operation=searchRetrieve&maximumRecords=10&recordSchema=picaxml\n",
      "[]\n",
      "[]\n",
      "La familia de Pascual Duarte Cela\n",
      "http://sru.k10plus.de/opac-de-7!rec=1?version=1.1&query=pica.tit=\"La familia de Pascual Duarte\" and pica.per=Cela&operation=searchRetrieve&maximumRecords=10&recordSchema=picaxml\n",
      "['5']\n",
      "['BBK-ROM', 'BBK-ROM', 'BBK-ROM', 'BBK-ROM']\n",
      "Auf der Eidechsburg Tanner\n",
      "http://sru.k10plus.de/opac-de-7!rec=1?version=1.1&query=pica.tit=\"Auf der Eidechsburg\" and pica.per=Tanner&operation=searchRetrieve&maximumRecords=10&recordSchema=picaxml\n",
      "['0']\n",
      "[]\n",
      "Bayerisches Kochbuch Hofmann\n",
      "http://sru.k10plus.de/opac-de-7!rec=1?version=1.1&query=pica.tit=\"Bayerisches Kochbuch\" and pica.per=Hofmann&operation=searchRetrieve&maximumRecords=10&recordSchema=picaxml\n",
      "['0']\n",
      "[]\n",
      "Centenaire de l‘Impressionisme \n",
      "http://sru.k10plus.de/opac-de-7!rec=1?version=1.1&query=pica.tit=\"Centenaire de l‘Impressionisme\" and pica.per=&operation=searchRetrieve&maximumRecords=10&recordSchema=picaxml\n",
      "[]\n",
      "[]\n",
      "Les parents terribles Cocteau\n",
      "http://sru.k10plus.de/opac-de-7!rec=1?version=1.1&query=pica.tit=\"Les parents terribles\" and pica.per=Cocteau&operation=searchRetrieve&maximumRecords=10&recordSchema=picaxml\n",
      "['4']\n",
      "['BBK-ROM', 'BBK-ROM', 'BBK-ROM', 'LS1']\n",
      "Straightforward Statistics Evans\n",
      "http://sru.k10plus.de/opac-de-7!rec=1?version=1.1&query=pica.tit=\"Straightforward Statistics\" and pica.per=Evans&operation=searchRetrieve&maximumRecords=10&recordSchema=picaxml\n",
      "['0']\n",
      "[]\n"
     ]
    }
   ],
   "source": [
    "books_donated = check_duplicates.check_duplicate_with_title_author( books_donated, name_column_title = \"Titel\", name_column_author = \"Nachname_Autor\", verbose = True)"
   ]
  },
  {
   "cell_type": "code",
   "execution_count": 22,
   "metadata": {},
   "outputs": [
    {
     "output_type": "execute_result",
     "data": {
      "text/plain": [
       "                            Titel Vorname_Autor Nachname_Autor  \\\n",
       "0      The picture of Dorian Gray         Oscar          Wilde   \n",
       "1                    Gustav Klimt           NaN                  \n",
       "2    La familia de Pascual Duarte   Camilo José           Cela   \n",
       "3             Auf der Eidechsburg     Ilse-Dore         Tanner   \n",
       "4            Bayerisches Kochbuch         Maria        Hofmann   \n",
       "5  Centenaire de l‘Impressionisme           NaN                  \n",
       "6           Les parents terribles          Jean        Cocteau   \n",
       "7      Straightforward Statistics      James D.          Evans   \n",
       "\n",
       "  Erscheinungsjahr           ISBN  Erscheinungsort            Verlag  \\\n",
       "0             1994  9780140623222           London     Penguin Books   \n",
       "1             2008  9781402759208  New York [u.a.]          Sterling   \n",
       "2             2009  9788423339044        Barcelona       Ed. Destino   \n",
       "3            1938?              0          Leipzig       A. H. Payne   \n",
       "4             1950              0          München            Birken   \n",
       "5             1974              0            Paris  Musées nationaux   \n",
       "6             1938              0            Paris         Gallimard   \n",
       "7             1996              0    Pacific Grove       Brooks/Cole   \n",
       "\n",
       "                        nach_ISBN_Titel nach_ISBN_Sprache_Text  \\\n",
       "0           The @picture of Dorian Gray                    eng   \n",
       "1  Gustav Klimt - Art Nouveau visionary                    eng   \n",
       "2         La @familia de Pascual Duarte                    spa   \n",
       "3                                   NaN                    NaN   \n",
       "4                                   NaN                    NaN   \n",
       "5                                   NaN                    NaN   \n",
       "6                                   NaN                    NaN   \n",
       "7                                   NaN                    NaN   \n",
       "\n",
       "   nach_ISBN_Bestand_K10  ...  nach_Titel_Autor_Bestand_K10  \\\n",
       "0                    3.0  ...                         220.0   \n",
       "1                    2.0  ...                           NaN   \n",
       "2                    2.0  ...                         162.0   \n",
       "3                    NaN  ...                           1.0   \n",
       "4                    NaN  ...                          22.0   \n",
       "5                    NaN  ...                           NaN   \n",
       "6                    NaN  ...                          98.0   \n",
       "7                    NaN  ...                           NaN   \n",
       "\n",
       "   nach_ISBN_Bestand_Göttingen nach_ISBN_Bestand_SUB  \\\n",
       "0                            0                   0.0   \n",
       "1                            0                   0.0   \n",
       "2                            1                   0.0   \n",
       "3                          NaN                   NaN   \n",
       "4                          NaN                   NaN   \n",
       "5                          NaN                   NaN   \n",
       "6                          NaN                   NaN   \n",
       "7                          NaN                   NaN   \n",
       "\n",
       "                                   nach_ISBN_URL_GUK  \\\n",
       "0  https://opac.sub.uni-goettingen.de/DB=1/SET=6/...   \n",
       "1  https://opac.sub.uni-goettingen.de/DB=1/SET=6/...   \n",
       "2  https://opac.sub.uni-goettingen.de/DB=1/SET=6/...   \n",
       "3                                                NaN   \n",
       "4                                                NaN   \n",
       "5                                                NaN   \n",
       "6                                                NaN   \n",
       "7                                                NaN   \n",
       "\n",
       "  nach_Titel_Bestand_Göttingen nach_Titel_Bestand_SUB  \\\n",
       "0                           42                    8.0   \n",
       "1                           31                    1.0   \n",
       "2                            8                    0.0   \n",
       "3                            0                    0.0   \n",
       "4                            1                    0.0   \n",
       "5                            0                    0.0   \n",
       "6                            4                    1.0   \n",
       "7                            2                    0.0   \n",
       "\n",
       "                                  nach_Titel_URL_GUK  \\\n",
       "0  https://opac.sub.uni-goettingen.de/DB=1/SET=2/...   \n",
       "1  https://opac.sub.uni-goettingen.de/DB=1/SET=2/...   \n",
       "2  https://opac.sub.uni-goettingen.de/DB=1/SET=2/...   \n",
       "3  https://opac.sub.uni-goettingen.de/DB=1/SET=2/...   \n",
       "4  https://opac.sub.uni-goettingen.de/DB=1/SET=2/...   \n",
       "5  https://opac.sub.uni-goettingen.de/DB=1/SET=2/...   \n",
       "6  https://opac.sub.uni-goettingen.de/DB=1/SET=2/...   \n",
       "7  https://opac.sub.uni-goettingen.de/DB=1/SET=2/...   \n",
       "\n",
       "  nach_Titel_Nachname_Autor_Bestand_Göttingen  \\\n",
       "0                                          29   \n",
       "1                                         NaN   \n",
       "2                                           5   \n",
       "3                                           0   \n",
       "4                                           0   \n",
       "5                                         NaN   \n",
       "6                                           4   \n",
       "7                                           0   \n",
       "\n",
       "  nach_Titel_Nachname_Autor_Bestand_SUB  \\\n",
       "0                                   9.0   \n",
       "1                                   0.0   \n",
       "2                                   0.0   \n",
       "3                                   0.0   \n",
       "4                                   0.0   \n",
       "5                                   0.0   \n",
       "6                                   1.0   \n",
       "7                                   0.0   \n",
       "\n",
       "                   nach_Titel_Nachname_Autor_URL_GUK  \n",
       "0  https://opac.sub.uni-goettingen.de/DB=1/SET=2/...  \n",
       "1  https://opac.sub.uni-goettingen.de/DB=1/SET=2/...  \n",
       "2  https://opac.sub.uni-goettingen.de/DB=1/SET=2/...  \n",
       "3  https://opac.sub.uni-goettingen.de/DB=1/SET=2/...  \n",
       "4  https://opac.sub.uni-goettingen.de/DB=1/SET=2/...  \n",
       "5  https://opac.sub.uni-goettingen.de/DB=1/SET=2/...  \n",
       "6  https://opac.sub.uni-goettingen.de/DB=1/SET=2/...  \n",
       "7  https://opac.sub.uni-goettingen.de/DB=1/SET=2/...  \n",
       "\n",
       "[8 rows x 21 columns]"
      ],
      "text/html": "<div>\n<style scoped>\n    .dataframe tbody tr th:only-of-type {\n        vertical-align: middle;\n    }\n\n    .dataframe tbody tr th {\n        vertical-align: top;\n    }\n\n    .dataframe thead th {\n        text-align: right;\n    }\n</style>\n<table border=\"1\" class=\"dataframe\">\n  <thead>\n    <tr style=\"text-align: right;\">\n      <th></th>\n      <th>Titel</th>\n      <th>Vorname_Autor</th>\n      <th>Nachname_Autor</th>\n      <th>Erscheinungsjahr</th>\n      <th>ISBN</th>\n      <th>Erscheinungsort</th>\n      <th>Verlag</th>\n      <th>nach_ISBN_Titel</th>\n      <th>nach_ISBN_Sprache_Text</th>\n      <th>nach_ISBN_Bestand_K10</th>\n      <th>...</th>\n      <th>nach_Titel_Autor_Bestand_K10</th>\n      <th>nach_ISBN_Bestand_Göttingen</th>\n      <th>nach_ISBN_Bestand_SUB</th>\n      <th>nach_ISBN_URL_GUK</th>\n      <th>nach_Titel_Bestand_Göttingen</th>\n      <th>nach_Titel_Bestand_SUB</th>\n      <th>nach_Titel_URL_GUK</th>\n      <th>nach_Titel_Nachname_Autor_Bestand_Göttingen</th>\n      <th>nach_Titel_Nachname_Autor_Bestand_SUB</th>\n      <th>nach_Titel_Nachname_Autor_URL_GUK</th>\n    </tr>\n  </thead>\n  <tbody>\n    <tr>\n      <th>0</th>\n      <td>The picture of Dorian Gray</td>\n      <td>Oscar</td>\n      <td>Wilde</td>\n      <td>1994</td>\n      <td>9780140623222</td>\n      <td>London</td>\n      <td>Penguin Books</td>\n      <td>The @picture of Dorian Gray</td>\n      <td>eng</td>\n      <td>3.0</td>\n      <td>...</td>\n      <td>220.0</td>\n      <td>0</td>\n      <td>0.0</td>\n      <td>https://opac.sub.uni-goettingen.de/DB=1/SET=6/...</td>\n      <td>42</td>\n      <td>8.0</td>\n      <td>https://opac.sub.uni-goettingen.de/DB=1/SET=2/...</td>\n      <td>29</td>\n      <td>9.0</td>\n      <td>https://opac.sub.uni-goettingen.de/DB=1/SET=2/...</td>\n    </tr>\n    <tr>\n      <th>1</th>\n      <td>Gustav Klimt</td>\n      <td>NaN</td>\n      <td></td>\n      <td>2008</td>\n      <td>9781402759208</td>\n      <td>New York [u.a.]</td>\n      <td>Sterling</td>\n      <td>Gustav Klimt - Art Nouveau visionary</td>\n      <td>eng</td>\n      <td>2.0</td>\n      <td>...</td>\n      <td>NaN</td>\n      <td>0</td>\n      <td>0.0</td>\n      <td>https://opac.sub.uni-goettingen.de/DB=1/SET=6/...</td>\n      <td>31</td>\n      <td>1.0</td>\n      <td>https://opac.sub.uni-goettingen.de/DB=1/SET=2/...</td>\n      <td>NaN</td>\n      <td>0.0</td>\n      <td>https://opac.sub.uni-goettingen.de/DB=1/SET=2/...</td>\n    </tr>\n    <tr>\n      <th>2</th>\n      <td>La familia de Pascual Duarte</td>\n      <td>Camilo José</td>\n      <td>Cela</td>\n      <td>2009</td>\n      <td>9788423339044</td>\n      <td>Barcelona</td>\n      <td>Ed. Destino</td>\n      <td>La @familia de Pascual Duarte</td>\n      <td>spa</td>\n      <td>2.0</td>\n      <td>...</td>\n      <td>162.0</td>\n      <td>1</td>\n      <td>0.0</td>\n      <td>https://opac.sub.uni-goettingen.de/DB=1/SET=6/...</td>\n      <td>8</td>\n      <td>0.0</td>\n      <td>https://opac.sub.uni-goettingen.de/DB=1/SET=2/...</td>\n      <td>5</td>\n      <td>0.0</td>\n      <td>https://opac.sub.uni-goettingen.de/DB=1/SET=2/...</td>\n    </tr>\n    <tr>\n      <th>3</th>\n      <td>Auf der Eidechsburg</td>\n      <td>Ilse-Dore</td>\n      <td>Tanner</td>\n      <td>1938?</td>\n      <td>0</td>\n      <td>Leipzig</td>\n      <td>A. H. Payne</td>\n      <td>NaN</td>\n      <td>NaN</td>\n      <td>NaN</td>\n      <td>...</td>\n      <td>1.0</td>\n      <td>NaN</td>\n      <td>NaN</td>\n      <td>NaN</td>\n      <td>0</td>\n      <td>0.0</td>\n      <td>https://opac.sub.uni-goettingen.de/DB=1/SET=2/...</td>\n      <td>0</td>\n      <td>0.0</td>\n      <td>https://opac.sub.uni-goettingen.de/DB=1/SET=2/...</td>\n    </tr>\n    <tr>\n      <th>4</th>\n      <td>Bayerisches Kochbuch</td>\n      <td>Maria</td>\n      <td>Hofmann</td>\n      <td>1950</td>\n      <td>0</td>\n      <td>München</td>\n      <td>Birken</td>\n      <td>NaN</td>\n      <td>NaN</td>\n      <td>NaN</td>\n      <td>...</td>\n      <td>22.0</td>\n      <td>NaN</td>\n      <td>NaN</td>\n      <td>NaN</td>\n      <td>1</td>\n      <td>0.0</td>\n      <td>https://opac.sub.uni-goettingen.de/DB=1/SET=2/...</td>\n      <td>0</td>\n      <td>0.0</td>\n      <td>https://opac.sub.uni-goettingen.de/DB=1/SET=2/...</td>\n    </tr>\n    <tr>\n      <th>5</th>\n      <td>Centenaire de l‘Impressionisme</td>\n      <td>NaN</td>\n      <td></td>\n      <td>1974</td>\n      <td>0</td>\n      <td>Paris</td>\n      <td>Musées nationaux</td>\n      <td>NaN</td>\n      <td>NaN</td>\n      <td>NaN</td>\n      <td>...</td>\n      <td>NaN</td>\n      <td>NaN</td>\n      <td>NaN</td>\n      <td>NaN</td>\n      <td>0</td>\n      <td>0.0</td>\n      <td>https://opac.sub.uni-goettingen.de/DB=1/SET=2/...</td>\n      <td>NaN</td>\n      <td>0.0</td>\n      <td>https://opac.sub.uni-goettingen.de/DB=1/SET=2/...</td>\n    </tr>\n    <tr>\n      <th>6</th>\n      <td>Les parents terribles</td>\n      <td>Jean</td>\n      <td>Cocteau</td>\n      <td>1938</td>\n      <td>0</td>\n      <td>Paris</td>\n      <td>Gallimard</td>\n      <td>NaN</td>\n      <td>NaN</td>\n      <td>NaN</td>\n      <td>...</td>\n      <td>98.0</td>\n      <td>NaN</td>\n      <td>NaN</td>\n      <td>NaN</td>\n      <td>4</td>\n      <td>1.0</td>\n      <td>https://opac.sub.uni-goettingen.de/DB=1/SET=2/...</td>\n      <td>4</td>\n      <td>1.0</td>\n      <td>https://opac.sub.uni-goettingen.de/DB=1/SET=2/...</td>\n    </tr>\n    <tr>\n      <th>7</th>\n      <td>Straightforward Statistics</td>\n      <td>James D.</td>\n      <td>Evans</td>\n      <td>1996</td>\n      <td>0</td>\n      <td>Pacific Grove</td>\n      <td>Brooks/Cole</td>\n      <td>NaN</td>\n      <td>NaN</td>\n      <td>NaN</td>\n      <td>...</td>\n      <td>NaN</td>\n      <td>NaN</td>\n      <td>NaN</td>\n      <td>NaN</td>\n      <td>2</td>\n      <td>0.0</td>\n      <td>https://opac.sub.uni-goettingen.de/DB=1/SET=2/...</td>\n      <td>0</td>\n      <td>0.0</td>\n      <td>https://opac.sub.uni-goettingen.de/DB=1/SET=2/...</td>\n    </tr>\n  </tbody>\n</table>\n<p>8 rows × 21 columns</p>\n</div>"
     },
     "metadata": {},
     "execution_count": 22
    }
   ],
   "source": [
    "books_donated"
   ]
  },
  {
   "cell_type": "markdown",
   "metadata": {},
   "source": [
    "# Results"
   ]
  },
  {
   "cell_type": "code",
   "execution_count": 23,
   "metadata": {},
   "outputs": [
    {
     "output_type": "execute_result",
     "data": {
      "text/plain": [
       "                            Titel Vorname_Autor Nachname_Autor  \\\n",
       "0      The picture of Dorian Gray         Oscar          Wilde   \n",
       "1                    Gustav Klimt           NaN                  \n",
       "2    La familia de Pascual Duarte   Camilo José           Cela   \n",
       "3             Auf der Eidechsburg     Ilse-Dore         Tanner   \n",
       "4            Bayerisches Kochbuch         Maria        Hofmann   \n",
       "5  Centenaire de l‘Impressionisme           NaN                  \n",
       "6           Les parents terribles          Jean        Cocteau   \n",
       "7      Straightforward Statistics      James D.          Evans   \n",
       "\n",
       "  Erscheinungsjahr           ISBN  Erscheinungsort            Verlag  \\\n",
       "0             1994  9780140623222           London     Penguin Books   \n",
       "1             2008  9781402759208  New York [u.a.]          Sterling   \n",
       "2             2009  9788423339044        Barcelona       Ed. Destino   \n",
       "3            1938?              0          Leipzig       A. H. Payne   \n",
       "4             1950              0          München            Birken   \n",
       "5             1974              0            Paris  Musées nationaux   \n",
       "6             1938              0            Paris         Gallimard   \n",
       "7             1996              0    Pacific Grove       Brooks/Cole   \n",
       "\n",
       "                        nach_ISBN_Titel nach_ISBN_Sprache_Text  \\\n",
       "0           The @picture of Dorian Gray                    eng   \n",
       "1  Gustav Klimt - Art Nouveau visionary                    eng   \n",
       "2         La @familia de Pascual Duarte                    spa   \n",
       "3                                   NaN                    NaN   \n",
       "4                                   NaN                    NaN   \n",
       "5                                   NaN                    NaN   \n",
       "6                                   NaN                    NaN   \n",
       "7                                   NaN                    NaN   \n",
       "\n",
       "   nach_ISBN_Bestand_K10  ...  nach_Titel_Autor_Bestand_K10  \\\n",
       "0                    3.0  ...                         220.0   \n",
       "1                    2.0  ...                           NaN   \n",
       "2                    2.0  ...                         162.0   \n",
       "3                    NaN  ...                           1.0   \n",
       "4                    NaN  ...                          22.0   \n",
       "5                    NaN  ...                           NaN   \n",
       "6                    NaN  ...                          98.0   \n",
       "7                    NaN  ...                           NaN   \n",
       "\n",
       "   nach_ISBN_Bestand_Göttingen nach_ISBN_Bestand_SUB  \\\n",
       "0                            0                   0.0   \n",
       "1                            0                   0.0   \n",
       "2                            1                   0.0   \n",
       "3                          NaN                   NaN   \n",
       "4                          NaN                   NaN   \n",
       "5                          NaN                   NaN   \n",
       "6                          NaN                   NaN   \n",
       "7                          NaN                   NaN   \n",
       "\n",
       "                                   nach_ISBN_URL_GUK  \\\n",
       "0  https://opac.sub.uni-goettingen.de/DB=1/SET=6/...   \n",
       "1  https://opac.sub.uni-goettingen.de/DB=1/SET=6/...   \n",
       "2  https://opac.sub.uni-goettingen.de/DB=1/SET=6/...   \n",
       "3                                                NaN   \n",
       "4                                                NaN   \n",
       "5                                                NaN   \n",
       "6                                                NaN   \n",
       "7                                                NaN   \n",
       "\n",
       "  nach_Titel_Bestand_Göttingen nach_Titel_Bestand_SUB  \\\n",
       "0                           42                    8.0   \n",
       "1                           31                    1.0   \n",
       "2                            8                    0.0   \n",
       "3                            0                    0.0   \n",
       "4                            1                    0.0   \n",
       "5                            0                    0.0   \n",
       "6                            4                    1.0   \n",
       "7                            2                    0.0   \n",
       "\n",
       "                                  nach_Titel_URL_GUK  \\\n",
       "0  https://opac.sub.uni-goettingen.de/DB=1/SET=2/...   \n",
       "1  https://opac.sub.uni-goettingen.de/DB=1/SET=2/...   \n",
       "2  https://opac.sub.uni-goettingen.de/DB=1/SET=2/...   \n",
       "3  https://opac.sub.uni-goettingen.de/DB=1/SET=2/...   \n",
       "4  https://opac.sub.uni-goettingen.de/DB=1/SET=2/...   \n",
       "5  https://opac.sub.uni-goettingen.de/DB=1/SET=2/...   \n",
       "6  https://opac.sub.uni-goettingen.de/DB=1/SET=2/...   \n",
       "7  https://opac.sub.uni-goettingen.de/DB=1/SET=2/...   \n",
       "\n",
       "  nach_Titel_Nachname_Autor_Bestand_Göttingen  \\\n",
       "0                                          29   \n",
       "1                                         NaN   \n",
       "2                                           5   \n",
       "3                                           0   \n",
       "4                                           0   \n",
       "5                                         NaN   \n",
       "6                                           4   \n",
       "7                                           0   \n",
       "\n",
       "  nach_Titel_Nachname_Autor_Bestand_SUB  \\\n",
       "0                                   9.0   \n",
       "1                                   0.0   \n",
       "2                                   0.0   \n",
       "3                                   0.0   \n",
       "4                                   0.0   \n",
       "5                                   0.0   \n",
       "6                                   1.0   \n",
       "7                                   0.0   \n",
       "\n",
       "                   nach_Titel_Nachname_Autor_URL_GUK  \n",
       "0  https://opac.sub.uni-goettingen.de/DB=1/SET=2/...  \n",
       "1  https://opac.sub.uni-goettingen.de/DB=1/SET=2/...  \n",
       "2  https://opac.sub.uni-goettingen.de/DB=1/SET=2/...  \n",
       "3  https://opac.sub.uni-goettingen.de/DB=1/SET=2/...  \n",
       "4  https://opac.sub.uni-goettingen.de/DB=1/SET=2/...  \n",
       "5  https://opac.sub.uni-goettingen.de/DB=1/SET=2/...  \n",
       "6  https://opac.sub.uni-goettingen.de/DB=1/SET=2/...  \n",
       "7  https://opac.sub.uni-goettingen.de/DB=1/SET=2/...  \n",
       "\n",
       "[8 rows x 21 columns]"
      ],
      "text/html": "<div>\n<style scoped>\n    .dataframe tbody tr th:only-of-type {\n        vertical-align: middle;\n    }\n\n    .dataframe tbody tr th {\n        vertical-align: top;\n    }\n\n    .dataframe thead th {\n        text-align: right;\n    }\n</style>\n<table border=\"1\" class=\"dataframe\">\n  <thead>\n    <tr style=\"text-align: right;\">\n      <th></th>\n      <th>Titel</th>\n      <th>Vorname_Autor</th>\n      <th>Nachname_Autor</th>\n      <th>Erscheinungsjahr</th>\n      <th>ISBN</th>\n      <th>Erscheinungsort</th>\n      <th>Verlag</th>\n      <th>nach_ISBN_Titel</th>\n      <th>nach_ISBN_Sprache_Text</th>\n      <th>nach_ISBN_Bestand_K10</th>\n      <th>...</th>\n      <th>nach_Titel_Autor_Bestand_K10</th>\n      <th>nach_ISBN_Bestand_Göttingen</th>\n      <th>nach_ISBN_Bestand_SUB</th>\n      <th>nach_ISBN_URL_GUK</th>\n      <th>nach_Titel_Bestand_Göttingen</th>\n      <th>nach_Titel_Bestand_SUB</th>\n      <th>nach_Titel_URL_GUK</th>\n      <th>nach_Titel_Nachname_Autor_Bestand_Göttingen</th>\n      <th>nach_Titel_Nachname_Autor_Bestand_SUB</th>\n      <th>nach_Titel_Nachname_Autor_URL_GUK</th>\n    </tr>\n  </thead>\n  <tbody>\n    <tr>\n      <th>0</th>\n      <td>The picture of Dorian Gray</td>\n      <td>Oscar</td>\n      <td>Wilde</td>\n      <td>1994</td>\n      <td>9780140623222</td>\n      <td>London</td>\n      <td>Penguin Books</td>\n      <td>The @picture of Dorian Gray</td>\n      <td>eng</td>\n      <td>3.0</td>\n      <td>...</td>\n      <td>220.0</td>\n      <td>0</td>\n      <td>0.0</td>\n      <td>https://opac.sub.uni-goettingen.de/DB=1/SET=6/...</td>\n      <td>42</td>\n      <td>8.0</td>\n      <td>https://opac.sub.uni-goettingen.de/DB=1/SET=2/...</td>\n      <td>29</td>\n      <td>9.0</td>\n      <td>https://opac.sub.uni-goettingen.de/DB=1/SET=2/...</td>\n    </tr>\n    <tr>\n      <th>1</th>\n      <td>Gustav Klimt</td>\n      <td>NaN</td>\n      <td></td>\n      <td>2008</td>\n      <td>9781402759208</td>\n      <td>New York [u.a.]</td>\n      <td>Sterling</td>\n      <td>Gustav Klimt - Art Nouveau visionary</td>\n      <td>eng</td>\n      <td>2.0</td>\n      <td>...</td>\n      <td>NaN</td>\n      <td>0</td>\n      <td>0.0</td>\n      <td>https://opac.sub.uni-goettingen.de/DB=1/SET=6/...</td>\n      <td>31</td>\n      <td>1.0</td>\n      <td>https://opac.sub.uni-goettingen.de/DB=1/SET=2/...</td>\n      <td>NaN</td>\n      <td>0.0</td>\n      <td>https://opac.sub.uni-goettingen.de/DB=1/SET=2/...</td>\n    </tr>\n    <tr>\n      <th>2</th>\n      <td>La familia de Pascual Duarte</td>\n      <td>Camilo José</td>\n      <td>Cela</td>\n      <td>2009</td>\n      <td>9788423339044</td>\n      <td>Barcelona</td>\n      <td>Ed. Destino</td>\n      <td>La @familia de Pascual Duarte</td>\n      <td>spa</td>\n      <td>2.0</td>\n      <td>...</td>\n      <td>162.0</td>\n      <td>1</td>\n      <td>0.0</td>\n      <td>https://opac.sub.uni-goettingen.de/DB=1/SET=6/...</td>\n      <td>8</td>\n      <td>0.0</td>\n      <td>https://opac.sub.uni-goettingen.de/DB=1/SET=2/...</td>\n      <td>5</td>\n      <td>0.0</td>\n      <td>https://opac.sub.uni-goettingen.de/DB=1/SET=2/...</td>\n    </tr>\n    <tr>\n      <th>3</th>\n      <td>Auf der Eidechsburg</td>\n      <td>Ilse-Dore</td>\n      <td>Tanner</td>\n      <td>1938?</td>\n      <td>0</td>\n      <td>Leipzig</td>\n      <td>A. H. Payne</td>\n      <td>NaN</td>\n      <td>NaN</td>\n      <td>NaN</td>\n      <td>...</td>\n      <td>1.0</td>\n      <td>NaN</td>\n      <td>NaN</td>\n      <td>NaN</td>\n      <td>0</td>\n      <td>0.0</td>\n      <td>https://opac.sub.uni-goettingen.de/DB=1/SET=2/...</td>\n      <td>0</td>\n      <td>0.0</td>\n      <td>https://opac.sub.uni-goettingen.de/DB=1/SET=2/...</td>\n    </tr>\n    <tr>\n      <th>4</th>\n      <td>Bayerisches Kochbuch</td>\n      <td>Maria</td>\n      <td>Hofmann</td>\n      <td>1950</td>\n      <td>0</td>\n      <td>München</td>\n      <td>Birken</td>\n      <td>NaN</td>\n      <td>NaN</td>\n      <td>NaN</td>\n      <td>...</td>\n      <td>22.0</td>\n      <td>NaN</td>\n      <td>NaN</td>\n      <td>NaN</td>\n      <td>1</td>\n      <td>0.0</td>\n      <td>https://opac.sub.uni-goettingen.de/DB=1/SET=2/...</td>\n      <td>0</td>\n      <td>0.0</td>\n      <td>https://opac.sub.uni-goettingen.de/DB=1/SET=2/...</td>\n    </tr>\n    <tr>\n      <th>5</th>\n      <td>Centenaire de l‘Impressionisme</td>\n      <td>NaN</td>\n      <td></td>\n      <td>1974</td>\n      <td>0</td>\n      <td>Paris</td>\n      <td>Musées nationaux</td>\n      <td>NaN</td>\n      <td>NaN</td>\n      <td>NaN</td>\n      <td>...</td>\n      <td>NaN</td>\n      <td>NaN</td>\n      <td>NaN</td>\n      <td>NaN</td>\n      <td>0</td>\n      <td>0.0</td>\n      <td>https://opac.sub.uni-goettingen.de/DB=1/SET=2/...</td>\n      <td>NaN</td>\n      <td>0.0</td>\n      <td>https://opac.sub.uni-goettingen.de/DB=1/SET=2/...</td>\n    </tr>\n    <tr>\n      <th>6</th>\n      <td>Les parents terribles</td>\n      <td>Jean</td>\n      <td>Cocteau</td>\n      <td>1938</td>\n      <td>0</td>\n      <td>Paris</td>\n      <td>Gallimard</td>\n      <td>NaN</td>\n      <td>NaN</td>\n      <td>NaN</td>\n      <td>...</td>\n      <td>98.0</td>\n      <td>NaN</td>\n      <td>NaN</td>\n      <td>NaN</td>\n      <td>4</td>\n      <td>1.0</td>\n      <td>https://opac.sub.uni-goettingen.de/DB=1/SET=2/...</td>\n      <td>4</td>\n      <td>1.0</td>\n      <td>https://opac.sub.uni-goettingen.de/DB=1/SET=2/...</td>\n    </tr>\n    <tr>\n      <th>7</th>\n      <td>Straightforward Statistics</td>\n      <td>James D.</td>\n      <td>Evans</td>\n      <td>1996</td>\n      <td>0</td>\n      <td>Pacific Grove</td>\n      <td>Brooks/Cole</td>\n      <td>NaN</td>\n      <td>NaN</td>\n      <td>NaN</td>\n      <td>...</td>\n      <td>NaN</td>\n      <td>NaN</td>\n      <td>NaN</td>\n      <td>NaN</td>\n      <td>2</td>\n      <td>0.0</td>\n      <td>https://opac.sub.uni-goettingen.de/DB=1/SET=2/...</td>\n      <td>0</td>\n      <td>0.0</td>\n      <td>https://opac.sub.uni-goettingen.de/DB=1/SET=2/...</td>\n    </tr>\n  </tbody>\n</table>\n<p>8 rows × 21 columns</p>\n</div>"
     },
     "metadata": {},
     "execution_count": 23
    }
   ],
   "source": [
    "books_donated"
   ]
  },
  {
   "cell_type": "markdown",
   "metadata": {},
   "source": [
    "The column `nach_ISBN_Bestand_Göttingen` shows that from the three books for which the donner has given a ISBN, the SUB already has one title (_La familia de Pascual Duarte_) with exactly this ISBN.\n",
    "\n",
    "The column `nach_Titel_Bestand_Göttingen` shows that 6 of the seven proposal for donnation are already in our catalogue.\n",
    "\n",
    "However, the column `nach_Titel_Nachname_Autor_Bestand_Göttingen` shows that two of the books are NOT in the Göttingen Katalog when the name of the author is added to the search. That means probably that the library has books with this title, but from different authors.\n",
    "\n",
    "In any case, the librarian gets also several columns with direct links to the catalogue with specific queries and they can further consider whether these books are accepted by the library or not.\n",
    "\n",
    "The results can be exported as a table (Excel or Tab-Separated Values)."
   ]
  },
  {
   "cell_type": "code",
   "execution_count": 24,
   "metadata": {},
   "outputs": [],
   "source": [
    "books_donated.to_excel(\"./../../data/output/Anfragen_Geschenk_Muster_Spendende_Beispiele.xlsx\")"
   ]
  },
  {
   "cell_type": "code",
   "execution_count": 25,
   "metadata": {},
   "outputs": [],
   "source": [
    "books_donated.to_csv(\"./../../data/output/Anfragen_Geschenk_Muster_Spendende_Beispiele.tsv\", sep=\"\\t\")"
   ]
  },
  {
   "cell_type": "code",
   "execution_count": 26,
   "metadata": {},
   "outputs": [
    {
     "output_type": "execute_result",
     "data": {
      "text/plain": [
       "                            Titel Vorname_Autor Nachname_Autor  \\\n",
       "0      The picture of Dorian Gray         Oscar          Wilde   \n",
       "1                    Gustav Klimt           NaN                  \n",
       "2    La familia de Pascual Duarte   Camilo José           Cela   \n",
       "3             Auf der Eidechsburg     Ilse-Dore         Tanner   \n",
       "4            Bayerisches Kochbuch         Maria        Hofmann   \n",
       "5  Centenaire de l‘Impressionisme           NaN                  \n",
       "6           Les parents terribles          Jean        Cocteau   \n",
       "7      Straightforward Statistics      James D.          Evans   \n",
       "\n",
       "  Erscheinungsjahr           ISBN  Erscheinungsort            Verlag  \\\n",
       "0             1994  9780140623222           London     Penguin Books   \n",
       "1             2008  9781402759208  New York [u.a.]          Sterling   \n",
       "2             2009  9788423339044        Barcelona       Ed. Destino   \n",
       "3            1938?              0          Leipzig       A. H. Payne   \n",
       "4             1950              0          München            Birken   \n",
       "5             1974              0            Paris  Musées nationaux   \n",
       "6             1938              0            Paris         Gallimard   \n",
       "7             1996              0    Pacific Grove       Brooks/Cole   \n",
       "\n",
       "                        nach_ISBN_Titel nach_ISBN_Sprache_Text  \\\n",
       "0           The @picture of Dorian Gray                    eng   \n",
       "1  Gustav Klimt - Art Nouveau visionary                    eng   \n",
       "2         La @familia de Pascual Duarte                    spa   \n",
       "3                                   NaN                    NaN   \n",
       "4                                   NaN                    NaN   \n",
       "5                                   NaN                    NaN   \n",
       "6                                   NaN                    NaN   \n",
       "7                                   NaN                    NaN   \n",
       "\n",
       "   nach_ISBN_Bestand_K10  ...  nach_Titel_Autor_Bestand_K10  \\\n",
       "0                    3.0  ...                         220.0   \n",
       "1                    2.0  ...                           NaN   \n",
       "2                    2.0  ...                         162.0   \n",
       "3                    NaN  ...                           1.0   \n",
       "4                    NaN  ...                          22.0   \n",
       "5                    NaN  ...                           NaN   \n",
       "6                    NaN  ...                          98.0   \n",
       "7                    NaN  ...                           NaN   \n",
       "\n",
       "   nach_ISBN_Bestand_Göttingen nach_ISBN_Bestand_SUB  \\\n",
       "0                            0                   0.0   \n",
       "1                            0                   0.0   \n",
       "2                            1                   0.0   \n",
       "3                          NaN                   NaN   \n",
       "4                          NaN                   NaN   \n",
       "5                          NaN                   NaN   \n",
       "6                          NaN                   NaN   \n",
       "7                          NaN                   NaN   \n",
       "\n",
       "                                   nach_ISBN_URL_GUK  \\\n",
       "0  https://opac.sub.uni-goettingen.de/DB=1/SET=6/...   \n",
       "1  https://opac.sub.uni-goettingen.de/DB=1/SET=6/...   \n",
       "2  https://opac.sub.uni-goettingen.de/DB=1/SET=6/...   \n",
       "3                                                NaN   \n",
       "4                                                NaN   \n",
       "5                                                NaN   \n",
       "6                                                NaN   \n",
       "7                                                NaN   \n",
       "\n",
       "  nach_Titel_Bestand_Göttingen nach_Titel_Bestand_SUB  \\\n",
       "0                           42                    8.0   \n",
       "1                           31                    1.0   \n",
       "2                            8                    0.0   \n",
       "3                            0                    0.0   \n",
       "4                            1                    0.0   \n",
       "5                            0                    0.0   \n",
       "6                            4                    1.0   \n",
       "7                            2                    0.0   \n",
       "\n",
       "                                  nach_Titel_URL_GUK  \\\n",
       "0  https://opac.sub.uni-goettingen.de/DB=1/SET=2/...   \n",
       "1  https://opac.sub.uni-goettingen.de/DB=1/SET=2/...   \n",
       "2  https://opac.sub.uni-goettingen.de/DB=1/SET=2/...   \n",
       "3  https://opac.sub.uni-goettingen.de/DB=1/SET=2/...   \n",
       "4  https://opac.sub.uni-goettingen.de/DB=1/SET=2/...   \n",
       "5  https://opac.sub.uni-goettingen.de/DB=1/SET=2/...   \n",
       "6  https://opac.sub.uni-goettingen.de/DB=1/SET=2/...   \n",
       "7  https://opac.sub.uni-goettingen.de/DB=1/SET=2/...   \n",
       "\n",
       "  nach_Titel_Nachname_Autor_Bestand_Göttingen  \\\n",
       "0                                          29   \n",
       "1                                         NaN   \n",
       "2                                           5   \n",
       "3                                           0   \n",
       "4                                           0   \n",
       "5                                         NaN   \n",
       "6                                           4   \n",
       "7                                           0   \n",
       "\n",
       "  nach_Titel_Nachname_Autor_Bestand_SUB  \\\n",
       "0                                   9.0   \n",
       "1                                   0.0   \n",
       "2                                   0.0   \n",
       "3                                   0.0   \n",
       "4                                   0.0   \n",
       "5                                   0.0   \n",
       "6                                   1.0   \n",
       "7                                   0.0   \n",
       "\n",
       "                   nach_Titel_Nachname_Autor_URL_GUK  \n",
       "0  https://opac.sub.uni-goettingen.de/DB=1/SET=2/...  \n",
       "1  https://opac.sub.uni-goettingen.de/DB=1/SET=2/...  \n",
       "2  https://opac.sub.uni-goettingen.de/DB=1/SET=2/...  \n",
       "3  https://opac.sub.uni-goettingen.de/DB=1/SET=2/...  \n",
       "4  https://opac.sub.uni-goettingen.de/DB=1/SET=2/...  \n",
       "5  https://opac.sub.uni-goettingen.de/DB=1/SET=2/...  \n",
       "6  https://opac.sub.uni-goettingen.de/DB=1/SET=2/...  \n",
       "7  https://opac.sub.uni-goettingen.de/DB=1/SET=2/...  \n",
       "\n",
       "[8 rows x 21 columns]"
      ],
      "text/html": "<div>\n<style scoped>\n    .dataframe tbody tr th:only-of-type {\n        vertical-align: middle;\n    }\n\n    .dataframe tbody tr th {\n        vertical-align: top;\n    }\n\n    .dataframe thead th {\n        text-align: right;\n    }\n</style>\n<table border=\"1\" class=\"dataframe\">\n  <thead>\n    <tr style=\"text-align: right;\">\n      <th></th>\n      <th>Titel</th>\n      <th>Vorname_Autor</th>\n      <th>Nachname_Autor</th>\n      <th>Erscheinungsjahr</th>\n      <th>ISBN</th>\n      <th>Erscheinungsort</th>\n      <th>Verlag</th>\n      <th>nach_ISBN_Titel</th>\n      <th>nach_ISBN_Sprache_Text</th>\n      <th>nach_ISBN_Bestand_K10</th>\n      <th>...</th>\n      <th>nach_Titel_Autor_Bestand_K10</th>\n      <th>nach_ISBN_Bestand_Göttingen</th>\n      <th>nach_ISBN_Bestand_SUB</th>\n      <th>nach_ISBN_URL_GUK</th>\n      <th>nach_Titel_Bestand_Göttingen</th>\n      <th>nach_Titel_Bestand_SUB</th>\n      <th>nach_Titel_URL_GUK</th>\n      <th>nach_Titel_Nachname_Autor_Bestand_Göttingen</th>\n      <th>nach_Titel_Nachname_Autor_Bestand_SUB</th>\n      <th>nach_Titel_Nachname_Autor_URL_GUK</th>\n    </tr>\n  </thead>\n  <tbody>\n    <tr>\n      <th>0</th>\n      <td>The picture of Dorian Gray</td>\n      <td>Oscar</td>\n      <td>Wilde</td>\n      <td>1994</td>\n      <td>9780140623222</td>\n      <td>London</td>\n      <td>Penguin Books</td>\n      <td>The @picture of Dorian Gray</td>\n      <td>eng</td>\n      <td>3.0</td>\n      <td>...</td>\n      <td>220.0</td>\n      <td>0</td>\n      <td>0.0</td>\n      <td>https://opac.sub.uni-goettingen.de/DB=1/SET=6/...</td>\n      <td>42</td>\n      <td>8.0</td>\n      <td>https://opac.sub.uni-goettingen.de/DB=1/SET=2/...</td>\n      <td>29</td>\n      <td>9.0</td>\n      <td>https://opac.sub.uni-goettingen.de/DB=1/SET=2/...</td>\n    </tr>\n    <tr>\n      <th>1</th>\n      <td>Gustav Klimt</td>\n      <td>NaN</td>\n      <td></td>\n      <td>2008</td>\n      <td>9781402759208</td>\n      <td>New York [u.a.]</td>\n      <td>Sterling</td>\n      <td>Gustav Klimt - Art Nouveau visionary</td>\n      <td>eng</td>\n      <td>2.0</td>\n      <td>...</td>\n      <td>NaN</td>\n      <td>0</td>\n      <td>0.0</td>\n      <td>https://opac.sub.uni-goettingen.de/DB=1/SET=6/...</td>\n      <td>31</td>\n      <td>1.0</td>\n      <td>https://opac.sub.uni-goettingen.de/DB=1/SET=2/...</td>\n      <td>NaN</td>\n      <td>0.0</td>\n      <td>https://opac.sub.uni-goettingen.de/DB=1/SET=2/...</td>\n    </tr>\n    <tr>\n      <th>2</th>\n      <td>La familia de Pascual Duarte</td>\n      <td>Camilo José</td>\n      <td>Cela</td>\n      <td>2009</td>\n      <td>9788423339044</td>\n      <td>Barcelona</td>\n      <td>Ed. Destino</td>\n      <td>La @familia de Pascual Duarte</td>\n      <td>spa</td>\n      <td>2.0</td>\n      <td>...</td>\n      <td>162.0</td>\n      <td>1</td>\n      <td>0.0</td>\n      <td>https://opac.sub.uni-goettingen.de/DB=1/SET=6/...</td>\n      <td>8</td>\n      <td>0.0</td>\n      <td>https://opac.sub.uni-goettingen.de/DB=1/SET=2/...</td>\n      <td>5</td>\n      <td>0.0</td>\n      <td>https://opac.sub.uni-goettingen.de/DB=1/SET=2/...</td>\n    </tr>\n    <tr>\n      <th>3</th>\n      <td>Auf der Eidechsburg</td>\n      <td>Ilse-Dore</td>\n      <td>Tanner</td>\n      <td>1938?</td>\n      <td>0</td>\n      <td>Leipzig</td>\n      <td>A. H. Payne</td>\n      <td>NaN</td>\n      <td>NaN</td>\n      <td>NaN</td>\n      <td>...</td>\n      <td>1.0</td>\n      <td>NaN</td>\n      <td>NaN</td>\n      <td>NaN</td>\n      <td>0</td>\n      <td>0.0</td>\n      <td>https://opac.sub.uni-goettingen.de/DB=1/SET=2/...</td>\n      <td>0</td>\n      <td>0.0</td>\n      <td>https://opac.sub.uni-goettingen.de/DB=1/SET=2/...</td>\n    </tr>\n    <tr>\n      <th>4</th>\n      <td>Bayerisches Kochbuch</td>\n      <td>Maria</td>\n      <td>Hofmann</td>\n      <td>1950</td>\n      <td>0</td>\n      <td>München</td>\n      <td>Birken</td>\n      <td>NaN</td>\n      <td>NaN</td>\n      <td>NaN</td>\n      <td>...</td>\n      <td>22.0</td>\n      <td>NaN</td>\n      <td>NaN</td>\n      <td>NaN</td>\n      <td>1</td>\n      <td>0.0</td>\n      <td>https://opac.sub.uni-goettingen.de/DB=1/SET=2/...</td>\n      <td>0</td>\n      <td>0.0</td>\n      <td>https://opac.sub.uni-goettingen.de/DB=1/SET=2/...</td>\n    </tr>\n    <tr>\n      <th>5</th>\n      <td>Centenaire de l‘Impressionisme</td>\n      <td>NaN</td>\n      <td></td>\n      <td>1974</td>\n      <td>0</td>\n      <td>Paris</td>\n      <td>Musées nationaux</td>\n      <td>NaN</td>\n      <td>NaN</td>\n      <td>NaN</td>\n      <td>...</td>\n      <td>NaN</td>\n      <td>NaN</td>\n      <td>NaN</td>\n      <td>NaN</td>\n      <td>0</td>\n      <td>0.0</td>\n      <td>https://opac.sub.uni-goettingen.de/DB=1/SET=2/...</td>\n      <td>NaN</td>\n      <td>0.0</td>\n      <td>https://opac.sub.uni-goettingen.de/DB=1/SET=2/...</td>\n    </tr>\n    <tr>\n      <th>6</th>\n      <td>Les parents terribles</td>\n      <td>Jean</td>\n      <td>Cocteau</td>\n      <td>1938</td>\n      <td>0</td>\n      <td>Paris</td>\n      <td>Gallimard</td>\n      <td>NaN</td>\n      <td>NaN</td>\n      <td>NaN</td>\n      <td>...</td>\n      <td>98.0</td>\n      <td>NaN</td>\n      <td>NaN</td>\n      <td>NaN</td>\n      <td>4</td>\n      <td>1.0</td>\n      <td>https://opac.sub.uni-goettingen.de/DB=1/SET=2/...</td>\n      <td>4</td>\n      <td>1.0</td>\n      <td>https://opac.sub.uni-goettingen.de/DB=1/SET=2/...</td>\n    </tr>\n    <tr>\n      <th>7</th>\n      <td>Straightforward Statistics</td>\n      <td>James D.</td>\n      <td>Evans</td>\n      <td>1996</td>\n      <td>0</td>\n      <td>Pacific Grove</td>\n      <td>Brooks/Cole</td>\n      <td>NaN</td>\n      <td>NaN</td>\n      <td>NaN</td>\n      <td>...</td>\n      <td>NaN</td>\n      <td>NaN</td>\n      <td>NaN</td>\n      <td>NaN</td>\n      <td>2</td>\n      <td>0.0</td>\n      <td>https://opac.sub.uni-goettingen.de/DB=1/SET=2/...</td>\n      <td>0</td>\n      <td>0.0</td>\n      <td>https://opac.sub.uni-goettingen.de/DB=1/SET=2/...</td>\n    </tr>\n  </tbody>\n</table>\n<p>8 rows × 21 columns</p>\n</div>"
     },
     "metadata": {},
     "execution_count": 26
    }
   ],
   "source": [
    "books_donated"
   ]
  }
 ],
 "metadata": {
  "kernelspec": {
   "name": "python376jvsc74a57bd0960f4d658457e0296618a96ff118bd2cbd6b6fed4373572a098ed4ec5a9be4c3",
   "display_name": "Python 3.7.6 64-bit ('base': conda)"
  },
  "language_info": {
   "codemirror_mode": {
    "name": "ipython",
    "version": 3
   },
   "file_extension": ".py",
   "mimetype": "text/x-python",
   "name": "python",
   "nbconvert_exporter": "python",
   "pygments_lexer": "ipython3",
   "version": "3.7.6"
  }
 },
 "nbformat": 4,
 "nbformat_minor": 2
}