{
 "metadata": {
  "language_info": {
   "codemirror_mode": {
    "name": "ipython",
    "version": 3
   },
   "file_extension": ".py",
   "mimetype": "text/x-python",
   "name": "python",
   "nbconvert_exporter": "python",
   "pygments_lexer": "ipython3",
   "version": "3.7.6"
  },
  "orig_nbformat": 2,
  "kernelspec": {
   "name": "python376jvsc74a57bd0960f4d658457e0296618a96ff118bd2cbd6b6fed4373572a098ed4ec5a9be4c3",
   "display_name": "Python 3.7.6 64-bit ('base': conda)"
  }
 },
 "nbformat": 4,
 "nbformat_minor": 2,
 "cells": [
  {
   "source": [
    "# Explanation\n",
    "\n",
    "This is a Jupyter Notebook to explain the function \"check_duplicates.py\". To use a specific user case, we assume that a person wants to donate some books to the library. We have provided the doner with a Excel template with a series of columns already defined. The person sends us this table filled. This can be found in `Fachreferats-Toolbox/data/dummy_data/Beispiel_Geschenke.xlsx`.\n",
    "\n",
    "\n",
    "To run this, you can download the repository and run this Jupyter Notebook. However, your computer should have Python and specific Python libraries installed (for example lxml)."
   ],
   "cell_type": "markdown",
   "metadata": {}
  },
  {
   "source": [
    "# Import"
   ],
   "cell_type": "markdown",
   "metadata": {}
  },
  {
   "source": [
    "## Libraries and Functions"
   ],
   "cell_type": "markdown",
   "metadata": {}
  },
  {
   "cell_type": "code",
   "execution_count": 1,
   "metadata": {},
   "outputs": [],
   "source": [
    "import sys\n",
    "import os\n",
    "import glob\n",
    "from lxml import etree\n",
    "import pandas as pd\n",
    "import numpy as np\n"
   ]
  },
  {
   "cell_type": "code",
   "execution_count": 2,
   "metadata": {},
   "outputs": [],
   "source": [
    "#sys.path.append(os.path.abspath(\"./../../../../Dropbox/MTB/Göttingen/research/\"))\n",
    "sys.path.append(os.path.abspath(\"./../\"))"
   ]
  },
  {
   "cell_type": "code",
   "execution_count": 3,
   "metadata": {},
   "outputs": [],
   "source": [
    "from fachreferats_functions import check_duplicates\n",
    "\n"
   ]
  },
  {
   "source": [
    "## Data"
   ],
   "cell_type": "markdown",
   "metadata": {}
  },
  {
   "cell_type": "code",
   "execution_count": 4,
   "metadata": {},
   "outputs": [],
   "source": [
    "books_donated = pd.read_excel(\"./../../data/dummy_data/Beispiel_Geschenke.xlsx\")"
   ]
  },
  {
   "cell_type": "code",
   "execution_count": 5,
   "metadata": {},
   "outputs": [
    {
     "output_type": "execute_result",
     "data": {
      "text/plain": [
       "                            Titel          ISBN Vorname_Autor Nachname_Autor  \\\n",
       "0    La familia de Pascual Duarte  9.788423e+12           NaN            NaN   \n",
       "1      The picture of Dorian Gray  9.780141e+12           NaN            NaN   \n",
       "2             Auf der Eidechsburg           NaN     Ilse-Dore         Tanner   \n",
       "3                    Gustav Klimt  9.781403e+12           NaN            NaN   \n",
       "4            Bayerisches Kochbuch           NaN         Maria        Hofmann   \n",
       "5  Centenaire de l‘Impressionisme           NaN           NaN            NaN   \n",
       "6           Les parents terribles           NaN          Jean        Cocteau   \n",
       "7      Straightforward Statistics           NaN      James D.          Evans   \n",
       "\n",
       "  Erscheinungsort            Verlag Erscheinungsjahr  Bestand_SUB?  \\\n",
       "0             NaN               NaN              NaN           NaN   \n",
       "1             NaN               NaN              NaN           NaN   \n",
       "2         Leipzig       A. H. Payne            1938?           NaN   \n",
       "3             NaN               NaN              NaN           NaN   \n",
       "4         München            Birken             1950           NaN   \n",
       "5           Paris  Musées nationaux             1974           NaN   \n",
       "6           Paris         Gallimard             1938           NaN   \n",
       "7   Pacific Grove       Brooks/Cole             1996           NaN   \n",
       "\n",
       "   Bestand_Göttingen?  Bestand_Verbund_KVK?  Übernehmen?  \n",
       "0                 NaN                   NaN          NaN  \n",
       "1                 NaN                   NaN          NaN  \n",
       "2                 NaN                   NaN          NaN  \n",
       "3                 NaN                   NaN          NaN  \n",
       "4                 NaN                   NaN          NaN  \n",
       "5                 NaN                   NaN          NaN  \n",
       "6                 NaN                   NaN          NaN  \n",
       "7                 NaN                   NaN          NaN  "
      ],
      "text/html": "<div>\n<style scoped>\n    .dataframe tbody tr th:only-of-type {\n        vertical-align: middle;\n    }\n\n    .dataframe tbody tr th {\n        vertical-align: top;\n    }\n\n    .dataframe thead th {\n        text-align: right;\n    }\n</style>\n<table border=\"1\" class=\"dataframe\">\n  <thead>\n    <tr style=\"text-align: right;\">\n      <th></th>\n      <th>Titel</th>\n      <th>ISBN</th>\n      <th>Vorname_Autor</th>\n      <th>Nachname_Autor</th>\n      <th>Erscheinungsort</th>\n      <th>Verlag</th>\n      <th>Erscheinungsjahr</th>\n      <th>Bestand_SUB?</th>\n      <th>Bestand_Göttingen?</th>\n      <th>Bestand_Verbund_KVK?</th>\n      <th>Übernehmen?</th>\n    </tr>\n  </thead>\n  <tbody>\n    <tr>\n      <th>0</th>\n      <td>La familia de Pascual Duarte</td>\n      <td>9.788423e+12</td>\n      <td>NaN</td>\n      <td>NaN</td>\n      <td>NaN</td>\n      <td>NaN</td>\n      <td>NaN</td>\n      <td>NaN</td>\n      <td>NaN</td>\n      <td>NaN</td>\n      <td>NaN</td>\n    </tr>\n    <tr>\n      <th>1</th>\n      <td>The picture of Dorian Gray</td>\n      <td>9.780141e+12</td>\n      <td>NaN</td>\n      <td>NaN</td>\n      <td>NaN</td>\n      <td>NaN</td>\n      <td>NaN</td>\n      <td>NaN</td>\n      <td>NaN</td>\n      <td>NaN</td>\n      <td>NaN</td>\n    </tr>\n    <tr>\n      <th>2</th>\n      <td>Auf der Eidechsburg</td>\n      <td>NaN</td>\n      <td>Ilse-Dore</td>\n      <td>Tanner</td>\n      <td>Leipzig</td>\n      <td>A. H. Payne</td>\n      <td>1938?</td>\n      <td>NaN</td>\n      <td>NaN</td>\n      <td>NaN</td>\n      <td>NaN</td>\n    </tr>\n    <tr>\n      <th>3</th>\n      <td>Gustav Klimt</td>\n      <td>9.781403e+12</td>\n      <td>NaN</td>\n      <td>NaN</td>\n      <td>NaN</td>\n      <td>NaN</td>\n      <td>NaN</td>\n      <td>NaN</td>\n      <td>NaN</td>\n      <td>NaN</td>\n      <td>NaN</td>\n    </tr>\n    <tr>\n      <th>4</th>\n      <td>Bayerisches Kochbuch</td>\n      <td>NaN</td>\n      <td>Maria</td>\n      <td>Hofmann</td>\n      <td>München</td>\n      <td>Birken</td>\n      <td>1950</td>\n      <td>NaN</td>\n      <td>NaN</td>\n      <td>NaN</td>\n      <td>NaN</td>\n    </tr>\n    <tr>\n      <th>5</th>\n      <td>Centenaire de l‘Impressionisme</td>\n      <td>NaN</td>\n      <td>NaN</td>\n      <td>NaN</td>\n      <td>Paris</td>\n      <td>Musées nationaux</td>\n      <td>1974</td>\n      <td>NaN</td>\n      <td>NaN</td>\n      <td>NaN</td>\n      <td>NaN</td>\n    </tr>\n    <tr>\n      <th>6</th>\n      <td>Les parents terribles</td>\n      <td>NaN</td>\n      <td>Jean</td>\n      <td>Cocteau</td>\n      <td>Paris</td>\n      <td>Gallimard</td>\n      <td>1938</td>\n      <td>NaN</td>\n      <td>NaN</td>\n      <td>NaN</td>\n      <td>NaN</td>\n    </tr>\n    <tr>\n      <th>7</th>\n      <td>Straightforward Statistics</td>\n      <td>NaN</td>\n      <td>James D.</td>\n      <td>Evans</td>\n      <td>Pacific Grove</td>\n      <td>Brooks/Cole</td>\n      <td>1996</td>\n      <td>NaN</td>\n      <td>NaN</td>\n      <td>NaN</td>\n      <td>NaN</td>\n    </tr>\n  </tbody>\n</table>\n</div>"
     },
     "metadata": {},
     "execution_count": 5
    }
   ],
   "source": [
    "books_donated"
   ]
  },
  {
   "source": [
    "# Run Functions on Data"
   ],
   "cell_type": "markdown",
   "metadata": {}
  },
  {
   "source": [
    "## Check copies with ISBN\n",
    "Checking whether the texts are at the Göttinge Library with the information from the ISBNs"
   ],
   "cell_type": "markdown",
   "metadata": {}
  },
  {
   "cell_type": "code",
   "execution_count": 6,
   "metadata": {},
   "outputs": [
    {
     "output_type": "execute_result",
     "data": {
      "text/plain": [
       "                            Titel          ISBN Vorname_Autor Nachname_Autor  \\\n",
       "0    La familia de Pascual Duarte  9.788423e+12           NaN            NaN   \n",
       "1      The picture of Dorian Gray  9.780141e+12           NaN            NaN   \n",
       "2             Auf der Eidechsburg           NaN     Ilse-Dore         Tanner   \n",
       "3                    Gustav Klimt  9.781403e+12           NaN            NaN   \n",
       "4            Bayerisches Kochbuch           NaN         Maria        Hofmann   \n",
       "5  Centenaire de l‘Impressionisme           NaN           NaN            NaN   \n",
       "6           Les parents terribles           NaN          Jean        Cocteau   \n",
       "7      Straightforward Statistics           NaN      James D.          Evans   \n",
       "\n",
       "  Erscheinungsort            Verlag Erscheinungsjahr  Bestand_SUB?  \\\n",
       "0             NaN               NaN              NaN           NaN   \n",
       "1             NaN               NaN              NaN           NaN   \n",
       "2         Leipzig       A. H. Payne            1938?           NaN   \n",
       "3             NaN               NaN              NaN           NaN   \n",
       "4         München            Birken             1950           NaN   \n",
       "5           Paris  Musées nationaux             1974           NaN   \n",
       "6           Paris         Gallimard             1938           NaN   \n",
       "7   Pacific Grove       Brooks/Cole             1996           NaN   \n",
       "\n",
       "   Bestand_Göttingen?  Bestand_Verbund_KVK?  Übernehmen?  \n",
       "0                 NaN                   NaN          NaN  \n",
       "1                 NaN                   NaN          NaN  \n",
       "2                 NaN                   NaN          NaN  \n",
       "3                 NaN                   NaN          NaN  \n",
       "4                 NaN                   NaN          NaN  \n",
       "5                 NaN                   NaN          NaN  \n",
       "6                 NaN                   NaN          NaN  \n",
       "7                 NaN                   NaN          NaN  "
      ],
      "text/html": "<div>\n<style scoped>\n    .dataframe tbody tr th:only-of-type {\n        vertical-align: middle;\n    }\n\n    .dataframe tbody tr th {\n        vertical-align: top;\n    }\n\n    .dataframe thead th {\n        text-align: right;\n    }\n</style>\n<table border=\"1\" class=\"dataframe\">\n  <thead>\n    <tr style=\"text-align: right;\">\n      <th></th>\n      <th>Titel</th>\n      <th>ISBN</th>\n      <th>Vorname_Autor</th>\n      <th>Nachname_Autor</th>\n      <th>Erscheinungsort</th>\n      <th>Verlag</th>\n      <th>Erscheinungsjahr</th>\n      <th>Bestand_SUB?</th>\n      <th>Bestand_Göttingen?</th>\n      <th>Bestand_Verbund_KVK?</th>\n      <th>Übernehmen?</th>\n    </tr>\n  </thead>\n  <tbody>\n    <tr>\n      <th>0</th>\n      <td>La familia de Pascual Duarte</td>\n      <td>9.788423e+12</td>\n      <td>NaN</td>\n      <td>NaN</td>\n      <td>NaN</td>\n      <td>NaN</td>\n      <td>NaN</td>\n      <td>NaN</td>\n      <td>NaN</td>\n      <td>NaN</td>\n      <td>NaN</td>\n    </tr>\n    <tr>\n      <th>1</th>\n      <td>The picture of Dorian Gray</td>\n      <td>9.780141e+12</td>\n      <td>NaN</td>\n      <td>NaN</td>\n      <td>NaN</td>\n      <td>NaN</td>\n      <td>NaN</td>\n      <td>NaN</td>\n      <td>NaN</td>\n      <td>NaN</td>\n      <td>NaN</td>\n    </tr>\n    <tr>\n      <th>2</th>\n      <td>Auf der Eidechsburg</td>\n      <td>NaN</td>\n      <td>Ilse-Dore</td>\n      <td>Tanner</td>\n      <td>Leipzig</td>\n      <td>A. H. Payne</td>\n      <td>1938?</td>\n      <td>NaN</td>\n      <td>NaN</td>\n      <td>NaN</td>\n      <td>NaN</td>\n    </tr>\n    <tr>\n      <th>3</th>\n      <td>Gustav Klimt</td>\n      <td>9.781403e+12</td>\n      <td>NaN</td>\n      <td>NaN</td>\n      <td>NaN</td>\n      <td>NaN</td>\n      <td>NaN</td>\n      <td>NaN</td>\n      <td>NaN</td>\n      <td>NaN</td>\n      <td>NaN</td>\n    </tr>\n    <tr>\n      <th>4</th>\n      <td>Bayerisches Kochbuch</td>\n      <td>NaN</td>\n      <td>Maria</td>\n      <td>Hofmann</td>\n      <td>München</td>\n      <td>Birken</td>\n      <td>1950</td>\n      <td>NaN</td>\n      <td>NaN</td>\n      <td>NaN</td>\n      <td>NaN</td>\n    </tr>\n    <tr>\n      <th>5</th>\n      <td>Centenaire de l‘Impressionisme</td>\n      <td>NaN</td>\n      <td>NaN</td>\n      <td>NaN</td>\n      <td>Paris</td>\n      <td>Musées nationaux</td>\n      <td>1974</td>\n      <td>NaN</td>\n      <td>NaN</td>\n      <td>NaN</td>\n      <td>NaN</td>\n    </tr>\n    <tr>\n      <th>6</th>\n      <td>Les parents terribles</td>\n      <td>NaN</td>\n      <td>Jean</td>\n      <td>Cocteau</td>\n      <td>Paris</td>\n      <td>Gallimard</td>\n      <td>1938</td>\n      <td>NaN</td>\n      <td>NaN</td>\n      <td>NaN</td>\n      <td>NaN</td>\n    </tr>\n    <tr>\n      <th>7</th>\n      <td>Straightforward Statistics</td>\n      <td>NaN</td>\n      <td>James D.</td>\n      <td>Evans</td>\n      <td>Pacific Grove</td>\n      <td>Brooks/Cole</td>\n      <td>1996</td>\n      <td>NaN</td>\n      <td>NaN</td>\n      <td>NaN</td>\n      <td>NaN</td>\n    </tr>\n  </tbody>\n</table>\n</div>"
     },
     "metadata": {},
     "execution_count": 6
    }
   ],
   "source": [
    "books_donated"
   ]
  },
  {
   "cell_type": "code",
   "execution_count": 7,
   "metadata": {},
   "outputs": [
    {
     "output_type": "stream",
     "name": "stdout",
     "text": [
      "La familia de Pascual Duarte 9788423339044 1\nThe picture of Dorian Gray 9780140623222 0\nGustav Klimt 9781402759208 0\n"
     ]
    }
   ],
   "source": [
    "books_donated = check_duplicates.check_duplicate_with_isbn( books_donated, \n",
    "    name_column_isbn = \"ISBN\",\n",
    "    name_column_title = \"Titel\",\n",
    "\n",
    "    )"
   ]
  },
  {
   "source": [
    "## Check copies with Title\n",
    "Checking whether the texts are at the Göttinge Library with the information from the title."
   ],
   "cell_type": "markdown",
   "metadata": {}
  },
  {
   "cell_type": "code",
   "execution_count": 8,
   "metadata": {},
   "outputs": [
    {
     "output_type": "stream",
     "name": "stdout",
     "text": [
      "La familia de Pascual Duarte\n",
      "['8']\n",
      "The picture of Dorian Gray\n",
      "['42']\n",
      "Auf der Eidechsburg\n",
      "['0']\n",
      "Gustav Klimt\n",
      "['31']\n",
      "Bayerisches Kochbuch\n",
      "['1']\n",
      "Centenaire de l‘Impressionisme\n",
      "['0']\n",
      "Les parents terribles\n",
      "['4']\n",
      "Straightforward Statistics\n",
      "['2']\n"
     ]
    }
   ],
   "source": [
    "books_donated = check_duplicates.check_duplicate_with_title( books_donated, \n",
    "    name_column_title = \"Titel\",\n",
    "    )"
   ]
  },
  {
   "source": [
    "# Results"
   ],
   "cell_type": "markdown",
   "metadata": {}
  },
  {
   "cell_type": "code",
   "execution_count": 9,
   "metadata": {},
   "outputs": [
    {
     "output_type": "execute_result",
     "data": {
      "text/plain": [
       "                            Titel           ISBN Vorname_Autor Nachname_Autor  \\\n",
       "0    La familia de Pascual Duarte  9788423339044           NaN            NaN   \n",
       "1      The picture of Dorian Gray  9780140623222           NaN            NaN   \n",
       "2             Auf der Eidechsburg              0     Ilse-Dore         Tanner   \n",
       "3                    Gustav Klimt  9781402759208           NaN            NaN   \n",
       "4            Bayerisches Kochbuch              0         Maria        Hofmann   \n",
       "5  Centenaire de l‘Impressionisme              0           NaN            NaN   \n",
       "6           Les parents terribles              0          Jean        Cocteau   \n",
       "7      Straightforward Statistics              0      James D.          Evans   \n",
       "\n",
       "  Erscheinungsort            Verlag Erscheinungsjahr  Bestand_SUB?  \\\n",
       "0             NaN               NaN              NaN           NaN   \n",
       "1             NaN               NaN              NaN           NaN   \n",
       "2         Leipzig       A. H. Payne            1938?           NaN   \n",
       "3             NaN               NaN              NaN           NaN   \n",
       "4         München            Birken             1950           NaN   \n",
       "5           Paris  Musées nationaux             1974           NaN   \n",
       "6           Paris         Gallimard             1938           NaN   \n",
       "7   Pacific Grove       Brooks/Cole             1996           NaN   \n",
       "\n",
       "   Bestand_Göttingen?  Bestand_Verbund_KVK?  Übernehmen?  \\\n",
       "0                 NaN                   NaN          NaN   \n",
       "1                 NaN                   NaN          NaN   \n",
       "2                 NaN                   NaN          NaN   \n",
       "3                 NaN                   NaN          NaN   \n",
       "4                 NaN                   NaN          NaN   \n",
       "5                 NaN                   NaN          NaN   \n",
       "6                 NaN                   NaN          NaN   \n",
       "7                 NaN                   NaN          NaN   \n",
       "\n",
       "  based_on_ISBN_number_GUK based_on_ISBN_in_GUK?  \\\n",
       "0                        1                  True   \n",
       "1                        0                 False   \n",
       "2                      NaN                   NaN   \n",
       "3                        0                 False   \n",
       "4                      NaN                   NaN   \n",
       "5                      NaN                   NaN   \n",
       "6                      NaN                   NaN   \n",
       "7                      NaN                   NaN   \n",
       "\n",
       "                               based_on_ISBN_url_GUK  \\\n",
       "0  https://opac.sub.uni-goettingen.de/DB=1/SET=6/...   \n",
       "1  https://opac.sub.uni-goettingen.de/DB=1/SET=6/...   \n",
       "2                                                NaN   \n",
       "3  https://opac.sub.uni-goettingen.de/DB=1/SET=6/...   \n",
       "4                                                NaN   \n",
       "5                                                NaN   \n",
       "6                                                NaN   \n",
       "7                                                NaN   \n",
       "\n",
       "  based_on_Titel_number_GUK based_on_Titel_in_GUK?  \\\n",
       "0                         8                   True   \n",
       "1                        42                   True   \n",
       "2                         0                  False   \n",
       "3                        31                   True   \n",
       "4                         1                   True   \n",
       "5                         0                  False   \n",
       "6                         4                   True   \n",
       "7                         2                   True   \n",
       "\n",
       "                              based_on_Titel_url_GUK  \n",
       "0  https://opac.sub.uni-goettingen.de/DB=1/SET=2/...  \n",
       "1  https://opac.sub.uni-goettingen.de/DB=1/SET=2/...  \n",
       "2  https://opac.sub.uni-goettingen.de/DB=1/SET=2/...  \n",
       "3  https://opac.sub.uni-goettingen.de/DB=1/SET=2/...  \n",
       "4  https://opac.sub.uni-goettingen.de/DB=1/SET=2/...  \n",
       "5  https://opac.sub.uni-goettingen.de/DB=1/SET=2/...  \n",
       "6  https://opac.sub.uni-goettingen.de/DB=1/SET=2/...  \n",
       "7  https://opac.sub.uni-goettingen.de/DB=1/SET=2/...  "
      ],
      "text/html": "<div>\n<style scoped>\n    .dataframe tbody tr th:only-of-type {\n        vertical-align: middle;\n    }\n\n    .dataframe tbody tr th {\n        vertical-align: top;\n    }\n\n    .dataframe thead th {\n        text-align: right;\n    }\n</style>\n<table border=\"1\" class=\"dataframe\">\n  <thead>\n    <tr style=\"text-align: right;\">\n      <th></th>\n      <th>Titel</th>\n      <th>ISBN</th>\n      <th>Vorname_Autor</th>\n      <th>Nachname_Autor</th>\n      <th>Erscheinungsort</th>\n      <th>Verlag</th>\n      <th>Erscheinungsjahr</th>\n      <th>Bestand_SUB?</th>\n      <th>Bestand_Göttingen?</th>\n      <th>Bestand_Verbund_KVK?</th>\n      <th>Übernehmen?</th>\n      <th>based_on_ISBN_number_GUK</th>\n      <th>based_on_ISBN_in_GUK?</th>\n      <th>based_on_ISBN_url_GUK</th>\n      <th>based_on_Titel_number_GUK</th>\n      <th>based_on_Titel_in_GUK?</th>\n      <th>based_on_Titel_url_GUK</th>\n    </tr>\n  </thead>\n  <tbody>\n    <tr>\n      <th>0</th>\n      <td>La familia de Pascual Duarte</td>\n      <td>9788423339044</td>\n      <td>NaN</td>\n      <td>NaN</td>\n      <td>NaN</td>\n      <td>NaN</td>\n      <td>NaN</td>\n      <td>NaN</td>\n      <td>NaN</td>\n      <td>NaN</td>\n      <td>NaN</td>\n      <td>1</td>\n      <td>True</td>\n      <td>https://opac.sub.uni-goettingen.de/DB=1/SET=6/...</td>\n      <td>8</td>\n      <td>True</td>\n      <td>https://opac.sub.uni-goettingen.de/DB=1/SET=2/...</td>\n    </tr>\n    <tr>\n      <th>1</th>\n      <td>The picture of Dorian Gray</td>\n      <td>9780140623222</td>\n      <td>NaN</td>\n      <td>NaN</td>\n      <td>NaN</td>\n      <td>NaN</td>\n      <td>NaN</td>\n      <td>NaN</td>\n      <td>NaN</td>\n      <td>NaN</td>\n      <td>NaN</td>\n      <td>0</td>\n      <td>False</td>\n      <td>https://opac.sub.uni-goettingen.de/DB=1/SET=6/...</td>\n      <td>42</td>\n      <td>True</td>\n      <td>https://opac.sub.uni-goettingen.de/DB=1/SET=2/...</td>\n    </tr>\n    <tr>\n      <th>2</th>\n      <td>Auf der Eidechsburg</td>\n      <td>0</td>\n      <td>Ilse-Dore</td>\n      <td>Tanner</td>\n      <td>Leipzig</td>\n      <td>A. H. Payne</td>\n      <td>1938?</td>\n      <td>NaN</td>\n      <td>NaN</td>\n      <td>NaN</td>\n      <td>NaN</td>\n      <td>NaN</td>\n      <td>NaN</td>\n      <td>NaN</td>\n      <td>0</td>\n      <td>False</td>\n      <td>https://opac.sub.uni-goettingen.de/DB=1/SET=2/...</td>\n    </tr>\n    <tr>\n      <th>3</th>\n      <td>Gustav Klimt</td>\n      <td>9781402759208</td>\n      <td>NaN</td>\n      <td>NaN</td>\n      <td>NaN</td>\n      <td>NaN</td>\n      <td>NaN</td>\n      <td>NaN</td>\n      <td>NaN</td>\n      <td>NaN</td>\n      <td>NaN</td>\n      <td>0</td>\n      <td>False</td>\n      <td>https://opac.sub.uni-goettingen.de/DB=1/SET=6/...</td>\n      <td>31</td>\n      <td>True</td>\n      <td>https://opac.sub.uni-goettingen.de/DB=1/SET=2/...</td>\n    </tr>\n    <tr>\n      <th>4</th>\n      <td>Bayerisches Kochbuch</td>\n      <td>0</td>\n      <td>Maria</td>\n      <td>Hofmann</td>\n      <td>München</td>\n      <td>Birken</td>\n      <td>1950</td>\n      <td>NaN</td>\n      <td>NaN</td>\n      <td>NaN</td>\n      <td>NaN</td>\n      <td>NaN</td>\n      <td>NaN</td>\n      <td>NaN</td>\n      <td>1</td>\n      <td>True</td>\n      <td>https://opac.sub.uni-goettingen.de/DB=1/SET=2/...</td>\n    </tr>\n    <tr>\n      <th>5</th>\n      <td>Centenaire de l‘Impressionisme</td>\n      <td>0</td>\n      <td>NaN</td>\n      <td>NaN</td>\n      <td>Paris</td>\n      <td>Musées nationaux</td>\n      <td>1974</td>\n      <td>NaN</td>\n      <td>NaN</td>\n      <td>NaN</td>\n      <td>NaN</td>\n      <td>NaN</td>\n      <td>NaN</td>\n      <td>NaN</td>\n      <td>0</td>\n      <td>False</td>\n      <td>https://opac.sub.uni-goettingen.de/DB=1/SET=2/...</td>\n    </tr>\n    <tr>\n      <th>6</th>\n      <td>Les parents terribles</td>\n      <td>0</td>\n      <td>Jean</td>\n      <td>Cocteau</td>\n      <td>Paris</td>\n      <td>Gallimard</td>\n      <td>1938</td>\n      <td>NaN</td>\n      <td>NaN</td>\n      <td>NaN</td>\n      <td>NaN</td>\n      <td>NaN</td>\n      <td>NaN</td>\n      <td>NaN</td>\n      <td>4</td>\n      <td>True</td>\n      <td>https://opac.sub.uni-goettingen.de/DB=1/SET=2/...</td>\n    </tr>\n    <tr>\n      <th>7</th>\n      <td>Straightforward Statistics</td>\n      <td>0</td>\n      <td>James D.</td>\n      <td>Evans</td>\n      <td>Pacific Grove</td>\n      <td>Brooks/Cole</td>\n      <td>1996</td>\n      <td>NaN</td>\n      <td>NaN</td>\n      <td>NaN</td>\n      <td>NaN</td>\n      <td>NaN</td>\n      <td>NaN</td>\n      <td>NaN</td>\n      <td>2</td>\n      <td>True</td>\n      <td>https://opac.sub.uni-goettingen.de/DB=1/SET=2/...</td>\n    </tr>\n  </tbody>\n</table>\n</div>"
     },
     "metadata": {},
     "execution_count": 9
    }
   ],
   "source": [
    "books_donated"
   ]
  },
  {
   "source": [
    "The column \"based_on_ISBN_in_GUK?\" shows that from the three books for which the donner has given a ISBN, the SUB already has one title with exactly this ISBN.\n",
    "\n",
    "The column \"based_on_Titel_in_GUK?\" shows that 5 of the seven proposal for donnation are already in our catalogue. For the other two, there are no records in the catalog for entries with these titles. The column \"based_on_Titel_number_GUK\" shows the number of different catalog entries with this title. However, perhaps these are different works that have the same title as the ones being donnated. For this reason, the librarian gets also the column \"based_on_Titel_url_GUK\" with direct links to their catalogue to consider whether these books are accepted by the library or not. \n",
    "\n",
    "The results can be exported as table (Excel or Tab-Separated Values)."
   ],
   "cell_type": "markdown",
   "metadata": {}
  },
  {
   "cell_type": "code",
   "execution_count": 10,
   "metadata": {},
   "outputs": [],
   "source": [
    "books_donated.to_excel(\"./../../data/Beispiel_Geschenke_checked.xlsx\")"
   ]
  },
  {
   "cell_type": "code",
   "execution_count": 11,
   "metadata": {},
   "outputs": [],
   "source": [
    "books_donated.to_csv(\"./../../data/Beispiel_Geschenke_checked.tsv\", sep=\"\\t\")"
   ]
  },
  {
   "cell_type": "code",
   "execution_count": null,
   "metadata": {},
   "outputs": [],
   "source": []
  }
 ]
}